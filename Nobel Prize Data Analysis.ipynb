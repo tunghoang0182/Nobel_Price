{
 "cells": [
  {
   "cell_type": "code",
   "execution_count": 161,
   "metadata": {},
   "outputs": [],
   "source": [
    "import pandas as pd\n",
    "import numpy as np\n",
    "import datetime as dt\n",
    "import plotly.express as px\n"
   ]
  },
  {
   "cell_type": "code",
   "execution_count": 162,
   "metadata": {},
   "outputs": [
    {
     "name": "stdout",
     "output_type": "stream",
     "text": [
      "Requirement already satisfied: plotly in c:\\users\\asus\\appdata\\local\\programs\\python\\python310\\lib\\site-packages (5.9.0)\n",
      "Requirement already satisfied: tenacity>=6.2.0 in c:\\users\\asus\\appdata\\local\\programs\\python\\python310\\lib\\site-packages (from plotly) (8.0.1)\n"
     ]
    },
    {
     "name": "stderr",
     "output_type": "stream",
     "text": [
      "\n",
      "[notice] A new release of pip available: 22.3.1 -> 23.0\n",
      "[notice] To update, run: C:\\Users\\Asus\\AppData\\Local\\Programs\\Python\\Python310\\python.exe -m pip install --upgrade pip\n"
     ]
    }
   ],
   "source": [
    "!pip3 install plotly"
   ]
  },
  {
   "cell_type": "code",
   "execution_count": 163,
   "metadata": {},
   "outputs": [
    {
     "data": {
      "text/html": [
       "<div>\n",
       "<style scoped>\n",
       "    .dataframe tbody tr th:only-of-type {\n",
       "        vertical-align: middle;\n",
       "    }\n",
       "\n",
       "    .dataframe tbody tr th {\n",
       "        vertical-align: top;\n",
       "    }\n",
       "\n",
       "    .dataframe thead th {\n",
       "        text-align: right;\n",
       "    }\n",
       "</style>\n",
       "<table border=\"1\" class=\"dataframe\">\n",
       "  <thead>\n",
       "    <tr style=\"text-align: right;\">\n",
       "      <th></th>\n",
       "      <th>year</th>\n",
       "      <th>category</th>\n",
       "      <th>prize</th>\n",
       "      <th>motivation</th>\n",
       "      <th>prize_share</th>\n",
       "      <th>laureate_type</th>\n",
       "      <th>full_name</th>\n",
       "      <th>birth_date</th>\n",
       "      <th>birth_city</th>\n",
       "      <th>birth_country</th>\n",
       "      <th>birth_country_current</th>\n",
       "      <th>sex</th>\n",
       "      <th>organization_name</th>\n",
       "      <th>organization_city</th>\n",
       "      <th>organization_country</th>\n",
       "      <th>ISO</th>\n",
       "    </tr>\n",
       "  </thead>\n",
       "  <tbody>\n",
       "    <tr>\n",
       "      <th>0</th>\n",
       "      <td>1901</td>\n",
       "      <td>Chemistry</td>\n",
       "      <td>The Nobel Prize in Chemistry 1901</td>\n",
       "      <td>\"in recognition of the extraordinary services ...</td>\n",
       "      <td>1/1</td>\n",
       "      <td>Individual</td>\n",
       "      <td>Jacobus Henricus van 't Hoff</td>\n",
       "      <td>1852-08-30</td>\n",
       "      <td>Rotterdam</td>\n",
       "      <td>Netherlands</td>\n",
       "      <td>Netherlands</td>\n",
       "      <td>Male</td>\n",
       "      <td>Berlin University</td>\n",
       "      <td>Berlin</td>\n",
       "      <td>Germany</td>\n",
       "      <td>NLD</td>\n",
       "    </tr>\n",
       "    <tr>\n",
       "      <th>1</th>\n",
       "      <td>1901</td>\n",
       "      <td>Literature</td>\n",
       "      <td>The Nobel Prize in Literature 1901</td>\n",
       "      <td>\"in special recognition of his poetic composit...</td>\n",
       "      <td>1/1</td>\n",
       "      <td>Individual</td>\n",
       "      <td>Sully Prudhomme</td>\n",
       "      <td>1839-03-16</td>\n",
       "      <td>Paris</td>\n",
       "      <td>France</td>\n",
       "      <td>France</td>\n",
       "      <td>Male</td>\n",
       "      <td>NaN</td>\n",
       "      <td>NaN</td>\n",
       "      <td>NaN</td>\n",
       "      <td>FRA</td>\n",
       "    </tr>\n",
       "    <tr>\n",
       "      <th>2</th>\n",
       "      <td>1901</td>\n",
       "      <td>Medicine</td>\n",
       "      <td>The Nobel Prize in Physiology or Medicine 1901</td>\n",
       "      <td>\"for his work on serum therapy, especially its...</td>\n",
       "      <td>1/1</td>\n",
       "      <td>Individual</td>\n",
       "      <td>Emil Adolf von Behring</td>\n",
       "      <td>1854-03-15</td>\n",
       "      <td>Hansdorf (Lawice)</td>\n",
       "      <td>Prussia (Poland)</td>\n",
       "      <td>Poland</td>\n",
       "      <td>Male</td>\n",
       "      <td>Marburg University</td>\n",
       "      <td>Marburg</td>\n",
       "      <td>Germany</td>\n",
       "      <td>POL</td>\n",
       "    </tr>\n",
       "    <tr>\n",
       "      <th>3</th>\n",
       "      <td>1901</td>\n",
       "      <td>Peace</td>\n",
       "      <td>The Nobel Peace Prize 1901</td>\n",
       "      <td>NaN</td>\n",
       "      <td>1/2</td>\n",
       "      <td>Individual</td>\n",
       "      <td>Frédéric Passy</td>\n",
       "      <td>1822-05-20</td>\n",
       "      <td>Paris</td>\n",
       "      <td>France</td>\n",
       "      <td>France</td>\n",
       "      <td>Male</td>\n",
       "      <td>NaN</td>\n",
       "      <td>NaN</td>\n",
       "      <td>NaN</td>\n",
       "      <td>FRA</td>\n",
       "    </tr>\n",
       "    <tr>\n",
       "      <th>4</th>\n",
       "      <td>1901</td>\n",
       "      <td>Peace</td>\n",
       "      <td>The Nobel Peace Prize 1901</td>\n",
       "      <td>NaN</td>\n",
       "      <td>1/2</td>\n",
       "      <td>Individual</td>\n",
       "      <td>Jean Henry Dunant</td>\n",
       "      <td>1828-05-08</td>\n",
       "      <td>Geneva</td>\n",
       "      <td>Switzerland</td>\n",
       "      <td>Switzerland</td>\n",
       "      <td>Male</td>\n",
       "      <td>NaN</td>\n",
       "      <td>NaN</td>\n",
       "      <td>NaN</td>\n",
       "      <td>CHE</td>\n",
       "    </tr>\n",
       "  </tbody>\n",
       "</table>\n",
       "</div>"
      ],
      "text/plain": [
       "   year    category                                           prize  \\\n",
       "0  1901   Chemistry               The Nobel Prize in Chemistry 1901   \n",
       "1  1901  Literature              The Nobel Prize in Literature 1901   \n",
       "2  1901    Medicine  The Nobel Prize in Physiology or Medicine 1901   \n",
       "3  1901       Peace                      The Nobel Peace Prize 1901   \n",
       "4  1901       Peace                      The Nobel Peace Prize 1901   \n",
       "\n",
       "                                          motivation prize_share  \\\n",
       "0  \"in recognition of the extraordinary services ...         1/1   \n",
       "1  \"in special recognition of his poetic composit...         1/1   \n",
       "2  \"for his work on serum therapy, especially its...         1/1   \n",
       "3                                                NaN         1/2   \n",
       "4                                                NaN         1/2   \n",
       "\n",
       "  laureate_type                     full_name  birth_date         birth_city  \\\n",
       "0    Individual  Jacobus Henricus van 't Hoff  1852-08-30          Rotterdam   \n",
       "1    Individual               Sully Prudhomme  1839-03-16              Paris   \n",
       "2    Individual        Emil Adolf von Behring  1854-03-15  Hansdorf (Lawice)   \n",
       "3    Individual                Frédéric Passy  1822-05-20              Paris   \n",
       "4    Individual             Jean Henry Dunant  1828-05-08             Geneva   \n",
       "\n",
       "      birth_country birth_country_current   sex   organization_name  \\\n",
       "0       Netherlands           Netherlands  Male   Berlin University   \n",
       "1            France                France  Male                 NaN   \n",
       "2  Prussia (Poland)                Poland  Male  Marburg University   \n",
       "3            France                France  Male                 NaN   \n",
       "4       Switzerland           Switzerland  Male                 NaN   \n",
       "\n",
       "  organization_city organization_country  ISO  \n",
       "0            Berlin              Germany  NLD  \n",
       "1               NaN                  NaN  FRA  \n",
       "2           Marburg              Germany  POL  \n",
       "3               NaN                  NaN  FRA  \n",
       "4               NaN                  NaN  CHE  "
      ]
     },
     "execution_count": 163,
     "metadata": {},
     "output_type": "execute_result"
    }
   ],
   "source": [
    "df = pd.read_csv(\"nobel_prize_data.csv\")\n",
    "df.head()"
   ]
  },
  {
   "cell_type": "code",
   "execution_count": 164,
   "metadata": {},
   "outputs": [
    {
     "data": {
      "text/plain": [
       "(962, 16)"
      ]
     },
     "execution_count": 164,
     "metadata": {},
     "output_type": "execute_result"
    }
   ],
   "source": [
    "df.shape"
   ]
  },
  {
   "cell_type": "code",
   "execution_count": 165,
   "metadata": {},
   "outputs": [
    {
     "name": "stdout",
     "output_type": "stream",
     "text": [
      "<class 'pandas.core.frame.DataFrame'>\n",
      "RangeIndex: 962 entries, 0 to 961\n",
      "Data columns (total 16 columns):\n",
      "year                     962 non-null int64\n",
      "category                 962 non-null object\n",
      "prize                    962 non-null object\n",
      "motivation               874 non-null object\n",
      "prize_share              962 non-null object\n",
      "laureate_type            962 non-null object\n",
      "full_name                962 non-null object\n",
      "birth_date               934 non-null object\n",
      "birth_city               931 non-null object\n",
      "birth_country            934 non-null object\n",
      "birth_country_current    934 non-null object\n",
      "sex                      934 non-null object\n",
      "organization_name        707 non-null object\n",
      "organization_city        707 non-null object\n",
      "organization_country     708 non-null object\n",
      "ISO                      934 non-null object\n",
      "dtypes: int64(1), object(15)\n",
      "memory usage: 120.3+ KB\n"
     ]
    }
   ],
   "source": [
    "df.info()"
   ]
  },
  {
   "cell_type": "code",
   "execution_count": 166,
   "metadata": {},
   "outputs": [],
   "source": [
    "#Change year to datetime format\n",
    "#df['year'] = pd.to_datetime(df['year'])\n"
   ]
  },
  {
   "cell_type": "code",
   "execution_count": 167,
   "metadata": {},
   "outputs": [
    {
     "data": {
      "text/html": [
       "<div>\n",
       "<style scoped>\n",
       "    .dataframe tbody tr th:only-of-type {\n",
       "        vertical-align: middle;\n",
       "    }\n",
       "\n",
       "    .dataframe tbody tr th {\n",
       "        vertical-align: top;\n",
       "    }\n",
       "\n",
       "    .dataframe thead th {\n",
       "        text-align: right;\n",
       "    }\n",
       "</style>\n",
       "<table border=\"1\" class=\"dataframe\">\n",
       "  <thead>\n",
       "    <tr style=\"text-align: right;\">\n",
       "      <th></th>\n",
       "      <th>year</th>\n",
       "    </tr>\n",
       "  </thead>\n",
       "  <tbody>\n",
       "    <tr>\n",
       "      <th>count</th>\n",
       "      <td>962.000000</td>\n",
       "    </tr>\n",
       "    <tr>\n",
       "      <th>mean</th>\n",
       "      <td>1971.816008</td>\n",
       "    </tr>\n",
       "    <tr>\n",
       "      <th>std</th>\n",
       "      <td>33.813537</td>\n",
       "    </tr>\n",
       "    <tr>\n",
       "      <th>min</th>\n",
       "      <td>1901.000000</td>\n",
       "    </tr>\n",
       "    <tr>\n",
       "      <th>25%</th>\n",
       "      <td>1948.000000</td>\n",
       "    </tr>\n",
       "    <tr>\n",
       "      <th>50%</th>\n",
       "      <td>1977.000000</td>\n",
       "    </tr>\n",
       "    <tr>\n",
       "      <th>75%</th>\n",
       "      <td>2001.000000</td>\n",
       "    </tr>\n",
       "    <tr>\n",
       "      <th>max</th>\n",
       "      <td>2020.000000</td>\n",
       "    </tr>\n",
       "  </tbody>\n",
       "</table>\n",
       "</div>"
      ],
      "text/plain": [
       "              year\n",
       "count   962.000000\n",
       "mean   1971.816008\n",
       "std      33.813537\n",
       "min    1901.000000\n",
       "25%    1948.000000\n",
       "50%    1977.000000\n",
       "75%    2001.000000\n",
       "max    2020.000000"
      ]
     },
     "execution_count": 167,
     "metadata": {},
     "output_type": "execute_result"
    }
   ],
   "source": [
    "#In which year was the Nobel prize first awarded?\n",
    "df.describe()\n",
    "#first: 1901\n",
    "#lastest: 2020"
   ]
  },
  {
   "cell_type": "code",
   "execution_count": 168,
   "metadata": {},
   "outputs": [
    {
     "data": {
      "text/plain": [
       "False    962\n",
       "dtype: int64"
      ]
     },
     "execution_count": 168,
     "metadata": {},
     "output_type": "execute_result"
    }
   ],
   "source": [
    "df.duplicated().value_counts()\n",
    "#There is no duplicated values"
   ]
  },
  {
   "cell_type": "code",
   "execution_count": 169,
   "metadata": {},
   "outputs": [
    {
     "data": {
      "text/plain": [
       "year                      0.000000\n",
       "category                  0.000000\n",
       "prize                     0.000000\n",
       "motivation                9.147609\n",
       "prize_share               0.000000\n",
       "laureate_type             0.000000\n",
       "full_name                 0.000000\n",
       "birth_date                2.910603\n",
       "birth_city                3.222453\n",
       "birth_country             2.910603\n",
       "birth_country_current     2.910603\n",
       "sex                       2.910603\n",
       "organization_name        26.507277\n",
       "organization_city        26.507277\n",
       "organization_country     26.403326\n",
       "ISO                       2.910603\n",
       "dtype: float64"
      ]
     },
     "execution_count": 169,
     "metadata": {},
     "output_type": "execute_result"
    }
   ],
   "source": [
    "df.isnull().sum()/len(df)*100"
   ]
  },
  {
   "cell_type": "code",
   "execution_count": 170,
   "metadata": {},
   "outputs": [
    {
     "data": {
      "text/html": [
       "<div>\n",
       "<style scoped>\n",
       "    .dataframe tbody tr th:only-of-type {\n",
       "        vertical-align: middle;\n",
       "    }\n",
       "\n",
       "    .dataframe tbody tr th {\n",
       "        vertical-align: top;\n",
       "    }\n",
       "\n",
       "    .dataframe thead th {\n",
       "        text-align: right;\n",
       "    }\n",
       "</style>\n",
       "<table border=\"1\" class=\"dataframe\">\n",
       "  <thead>\n",
       "    <tr style=\"text-align: right;\">\n",
       "      <th></th>\n",
       "      <th>year</th>\n",
       "      <th>category</th>\n",
       "      <th>laureate_type</th>\n",
       "      <th>birth_date</th>\n",
       "      <th>full_name</th>\n",
       "      <th>organization_name</th>\n",
       "    </tr>\n",
       "  </thead>\n",
       "  <tbody>\n",
       "    <tr>\n",
       "      <th>24</th>\n",
       "      <td>1904</td>\n",
       "      <td>Peace</td>\n",
       "      <td>Organization</td>\n",
       "      <td>NaN</td>\n",
       "      <td>Institut de droit international (Institute of ...</td>\n",
       "      <td>NaN</td>\n",
       "    </tr>\n",
       "    <tr>\n",
       "      <th>60</th>\n",
       "      <td>1910</td>\n",
       "      <td>Peace</td>\n",
       "      <td>Organization</td>\n",
       "      <td>NaN</td>\n",
       "      <td>Bureau international permanent de la Paix (Per...</td>\n",
       "      <td>NaN</td>\n",
       "    </tr>\n",
       "    <tr>\n",
       "      <th>89</th>\n",
       "      <td>1917</td>\n",
       "      <td>Peace</td>\n",
       "      <td>Organization</td>\n",
       "      <td>NaN</td>\n",
       "      <td>Comité international de la Croix Rouge (Intern...</td>\n",
       "      <td>NaN</td>\n",
       "    </tr>\n",
       "    <tr>\n",
       "      <th>200</th>\n",
       "      <td>1938</td>\n",
       "      <td>Peace</td>\n",
       "      <td>Organization</td>\n",
       "      <td>NaN</td>\n",
       "      <td>Office international Nansen pour les Réfugiés ...</td>\n",
       "      <td>NaN</td>\n",
       "    </tr>\n",
       "    <tr>\n",
       "      <th>215</th>\n",
       "      <td>1944</td>\n",
       "      <td>Peace</td>\n",
       "      <td>Organization</td>\n",
       "      <td>NaN</td>\n",
       "      <td>Comité international de la Croix Rouge (Intern...</td>\n",
       "      <td>NaN</td>\n",
       "    </tr>\n",
       "  </tbody>\n",
       "</table>\n",
       "</div>"
      ],
      "text/plain": [
       "     year category laureate_type birth_date  \\\n",
       "24   1904    Peace  Organization        NaN   \n",
       "60   1910    Peace  Organization        NaN   \n",
       "89   1917    Peace  Organization        NaN   \n",
       "200  1938    Peace  Organization        NaN   \n",
       "215  1944    Peace  Organization        NaN   \n",
       "\n",
       "                                             full_name organization_name  \n",
       "24   Institut de droit international (Institute of ...               NaN  \n",
       "60   Bureau international permanent de la Paix (Per...               NaN  \n",
       "89   Comité international de la Croix Rouge (Intern...               NaN  \n",
       "200  Office international Nansen pour les Réfugiés ...               NaN  \n",
       "215  Comité international de la Croix Rouge (Intern...               NaN  "
      ]
     },
     "execution_count": 170,
     "metadata": {},
     "output_type": "execute_result"
    }
   ],
   "source": [
    "col_subset = ['year','category', 'laureate_type',\n",
    "              'birth_date','full_name', 'organization_name']\n",
    "df.loc[df.birth_date.isna()][col_subset].head()\n"
   ]
  },
  {
   "cell_type": "code",
   "execution_count": 171,
   "metadata": {},
   "outputs": [],
   "source": [
    "df['organization_name'] = df.apply(lambda row: row['full_name'] if row['laureate_type'] == \"Organization\" and pd.isna(row['organization_name']) else row['organization_name'], axis=1)\n"
   ]
  },
  {
   "cell_type": "code",
   "execution_count": 172,
   "metadata": {},
   "outputs": [],
   "source": [
    "df['organization_name'] = df.apply(lambda row: \"Not affiliated\" if row['laureate_type'] == \"Individual\" and pd.isna(row['organization_name']) else row['organization_name'], axis=1)"
   ]
  },
  {
   "cell_type": "code",
   "execution_count": 173,
   "metadata": {},
   "outputs": [
    {
     "data": {
      "text/html": [
       "<div>\n",
       "<style scoped>\n",
       "    .dataframe tbody tr th:only-of-type {\n",
       "        vertical-align: middle;\n",
       "    }\n",
       "\n",
       "    .dataframe tbody tr th {\n",
       "        vertical-align: top;\n",
       "    }\n",
       "\n",
       "    .dataframe thead th {\n",
       "        text-align: right;\n",
       "    }\n",
       "</style>\n",
       "<table border=\"1\" class=\"dataframe\">\n",
       "  <thead>\n",
       "    <tr style=\"text-align: right;\">\n",
       "      <th></th>\n",
       "      <th>year</th>\n",
       "      <th>category</th>\n",
       "      <th>laureate_type</th>\n",
       "      <th>full_name</th>\n",
       "      <th>organization_name</th>\n",
       "    </tr>\n",
       "  </thead>\n",
       "  <tbody>\n",
       "  </tbody>\n",
       "</table>\n",
       "</div>"
      ],
      "text/plain": [
       "Empty DataFrame\n",
       "Columns: [year, category, laureate_type, full_name, organization_name]\n",
       "Index: []"
      ]
     },
     "execution_count": 173,
     "metadata": {},
     "output_type": "execute_result"
    }
   ],
   "source": [
    "col_subset = ['year','category', 'laureate_type','full_name', 'organization_name']\n",
    "df.loc[df.organization_name.isna()][col_subset].head()"
   ]
  },
  {
   "cell_type": "code",
   "execution_count": 174,
   "metadata": {},
   "outputs": [],
   "source": [
    "#Add a Column called share_pct which has the laureates' share as a percentage in the form of a floating-point number.\n",
    "separated_values = df.prize_share.str.split('/', expand=True)\n",
    "numerator = pd.to_numeric(separated_values[0])\n",
    "denomenator = pd.to_numeric(separated_values[1])\n",
    "df['share_pct'] = numerator / denomenator"
   ]
  },
  {
   "cell_type": "code",
   "execution_count": 175,
   "metadata": {},
   "outputs": [
    {
     "data": {
      "text/plain": [
       "year                       0\n",
       "category                   0\n",
       "prize                      0\n",
       "motivation                88\n",
       "prize_share                0\n",
       "laureate_type              0\n",
       "full_name                  0\n",
       "birth_date                28\n",
       "birth_city                31\n",
       "birth_country             28\n",
       "birth_country_current     28\n",
       "sex                       28\n",
       "organization_name          0\n",
       "organization_city        255\n",
       "organization_country     254\n",
       "ISO                       28\n",
       "share_pct                  0\n",
       "dtype: int64"
      ]
     },
     "execution_count": 175,
     "metadata": {},
     "output_type": "execute_result"
    }
   ],
   "source": [
    "df.isna().sum()"
   ]
  },
  {
   "cell_type": "code",
   "execution_count": 176,
   "metadata": {},
   "outputs": [],
   "source": [
    "cols = ['motivation','birth_city','birth_country', 'birth_country_current', 'organization_city', 'organization_country', 'ISO']\n",
    "df[cols] = df[cols].apply(lambda row: \"Not Available\" if df.loc[row.name, \"laureate_type\"] == \"Organization\" and pd.isna(row).any() else row, axis=1)\n",
    "#change nan values to not available"
   ]
  },
  {
   "cell_type": "code",
   "execution_count": 177,
   "metadata": {},
   "outputs": [],
   "source": [
    "cols = ['organization_city','organization_country','motivation']\n",
    "df[cols] = df[cols].apply(lambda row: \"Not Available\" if df.loc[row.name, \"laureate_type\"] == \"Individual\" and pd.isna(row).any() else row, axis=1)\n",
    "#change nan values to not available"
   ]
  },
  {
   "cell_type": "code",
   "execution_count": 178,
   "metadata": {},
   "outputs": [
    {
     "data": {
      "text/html": [
       "<div>\n",
       "<style scoped>\n",
       "    .dataframe tbody tr th:only-of-type {\n",
       "        vertical-align: middle;\n",
       "    }\n",
       "\n",
       "    .dataframe tbody tr th {\n",
       "        vertical-align: top;\n",
       "    }\n",
       "\n",
       "    .dataframe thead th {\n",
       "        text-align: right;\n",
       "    }\n",
       "</style>\n",
       "<table border=\"1\" class=\"dataframe\">\n",
       "  <thead>\n",
       "    <tr style=\"text-align: right;\">\n",
       "      <th></th>\n",
       "      <th>year</th>\n",
       "      <th>category</th>\n",
       "      <th>prize</th>\n",
       "      <th>motivation</th>\n",
       "      <th>prize_share</th>\n",
       "      <th>laureate_type</th>\n",
       "      <th>full_name</th>\n",
       "      <th>birth_date</th>\n",
       "      <th>birth_city</th>\n",
       "      <th>birth_country</th>\n",
       "      <th>birth_country_current</th>\n",
       "      <th>sex</th>\n",
       "      <th>organization_name</th>\n",
       "      <th>organization_city</th>\n",
       "      <th>organization_country</th>\n",
       "      <th>ISO</th>\n",
       "      <th>share_pct</th>\n",
       "    </tr>\n",
       "  </thead>\n",
       "  <tbody>\n",
       "    <tr>\n",
       "      <th>0</th>\n",
       "      <td>1901</td>\n",
       "      <td>Chemistry</td>\n",
       "      <td>The Nobel Prize in Chemistry 1901</td>\n",
       "      <td>\"in recognition of the extraordinary services ...</td>\n",
       "      <td>1/1</td>\n",
       "      <td>Individual</td>\n",
       "      <td>Jacobus Henricus van 't Hoff</td>\n",
       "      <td>1852-08-30</td>\n",
       "      <td>Rotterdam</td>\n",
       "      <td>Netherlands</td>\n",
       "      <td>Netherlands</td>\n",
       "      <td>Male</td>\n",
       "      <td>Berlin University</td>\n",
       "      <td>Berlin</td>\n",
       "      <td>Germany</td>\n",
       "      <td>NLD</td>\n",
       "      <td>1.0</td>\n",
       "    </tr>\n",
       "    <tr>\n",
       "      <th>1</th>\n",
       "      <td>1901</td>\n",
       "      <td>Literature</td>\n",
       "      <td>The Nobel Prize in Literature 1901</td>\n",
       "      <td>Not Available</td>\n",
       "      <td>1/1</td>\n",
       "      <td>Individual</td>\n",
       "      <td>Sully Prudhomme</td>\n",
       "      <td>1839-03-16</td>\n",
       "      <td>Paris</td>\n",
       "      <td>France</td>\n",
       "      <td>France</td>\n",
       "      <td>Male</td>\n",
       "      <td>Not affiliated</td>\n",
       "      <td>Not Available</td>\n",
       "      <td>Not Available</td>\n",
       "      <td>FRA</td>\n",
       "      <td>1.0</td>\n",
       "    </tr>\n",
       "    <tr>\n",
       "      <th>2</th>\n",
       "      <td>1901</td>\n",
       "      <td>Medicine</td>\n",
       "      <td>The Nobel Prize in Physiology or Medicine 1901</td>\n",
       "      <td>\"for his work on serum therapy, especially its...</td>\n",
       "      <td>1/1</td>\n",
       "      <td>Individual</td>\n",
       "      <td>Emil Adolf von Behring</td>\n",
       "      <td>1854-03-15</td>\n",
       "      <td>Hansdorf (Lawice)</td>\n",
       "      <td>Prussia (Poland)</td>\n",
       "      <td>Poland</td>\n",
       "      <td>Male</td>\n",
       "      <td>Marburg University</td>\n",
       "      <td>Marburg</td>\n",
       "      <td>Germany</td>\n",
       "      <td>POL</td>\n",
       "      <td>1.0</td>\n",
       "    </tr>\n",
       "    <tr>\n",
       "      <th>3</th>\n",
       "      <td>1901</td>\n",
       "      <td>Peace</td>\n",
       "      <td>The Nobel Peace Prize 1901</td>\n",
       "      <td>Not Available</td>\n",
       "      <td>1/2</td>\n",
       "      <td>Individual</td>\n",
       "      <td>Frédéric Passy</td>\n",
       "      <td>1822-05-20</td>\n",
       "      <td>Paris</td>\n",
       "      <td>France</td>\n",
       "      <td>France</td>\n",
       "      <td>Male</td>\n",
       "      <td>Not affiliated</td>\n",
       "      <td>Not Available</td>\n",
       "      <td>Not Available</td>\n",
       "      <td>FRA</td>\n",
       "      <td>0.5</td>\n",
       "    </tr>\n",
       "    <tr>\n",
       "      <th>4</th>\n",
       "      <td>1901</td>\n",
       "      <td>Peace</td>\n",
       "      <td>The Nobel Peace Prize 1901</td>\n",
       "      <td>Not Available</td>\n",
       "      <td>1/2</td>\n",
       "      <td>Individual</td>\n",
       "      <td>Jean Henry Dunant</td>\n",
       "      <td>1828-05-08</td>\n",
       "      <td>Geneva</td>\n",
       "      <td>Switzerland</td>\n",
       "      <td>Switzerland</td>\n",
       "      <td>Male</td>\n",
       "      <td>Not affiliated</td>\n",
       "      <td>Not Available</td>\n",
       "      <td>Not Available</td>\n",
       "      <td>CHE</td>\n",
       "      <td>0.5</td>\n",
       "    </tr>\n",
       "  </tbody>\n",
       "</table>\n",
       "</div>"
      ],
      "text/plain": [
       "   year    category                                           prize  \\\n",
       "0  1901   Chemistry               The Nobel Prize in Chemistry 1901   \n",
       "1  1901  Literature              The Nobel Prize in Literature 1901   \n",
       "2  1901    Medicine  The Nobel Prize in Physiology or Medicine 1901   \n",
       "3  1901       Peace                      The Nobel Peace Prize 1901   \n",
       "4  1901       Peace                      The Nobel Peace Prize 1901   \n",
       "\n",
       "                                          motivation prize_share  \\\n",
       "0  \"in recognition of the extraordinary services ...         1/1   \n",
       "1                                      Not Available         1/1   \n",
       "2  \"for his work on serum therapy, especially its...         1/1   \n",
       "3                                      Not Available         1/2   \n",
       "4                                      Not Available         1/2   \n",
       "\n",
       "  laureate_type                     full_name  birth_date         birth_city  \\\n",
       "0    Individual  Jacobus Henricus van 't Hoff  1852-08-30          Rotterdam   \n",
       "1    Individual               Sully Prudhomme  1839-03-16              Paris   \n",
       "2    Individual        Emil Adolf von Behring  1854-03-15  Hansdorf (Lawice)   \n",
       "3    Individual                Frédéric Passy  1822-05-20              Paris   \n",
       "4    Individual             Jean Henry Dunant  1828-05-08             Geneva   \n",
       "\n",
       "      birth_country birth_country_current   sex   organization_name  \\\n",
       "0       Netherlands           Netherlands  Male   Berlin University   \n",
       "1            France                France  Male      Not affiliated   \n",
       "2  Prussia (Poland)                Poland  Male  Marburg University   \n",
       "3            France                France  Male      Not affiliated   \n",
       "4       Switzerland           Switzerland  Male      Not affiliated   \n",
       "\n",
       "  organization_city organization_country  ISO  share_pct  \n",
       "0            Berlin              Germany  NLD        1.0  \n",
       "1     Not Available        Not Available  FRA        1.0  \n",
       "2           Marburg              Germany  POL        1.0  \n",
       "3     Not Available        Not Available  FRA        0.5  \n",
       "4     Not Available        Not Available  CHE        0.5  "
      ]
     },
     "execution_count": 178,
     "metadata": {},
     "output_type": "execute_result"
    }
   ],
   "source": [
    "df.head()"
   ]
  },
  {
   "cell_type": "code",
   "execution_count": 179,
   "metadata": {},
   "outputs": [
    {
     "name": "stdout",
     "output_type": "stream",
     "text": [
      "<class 'pandas.core.frame.DataFrame'>\n",
      "RangeIndex: 962 entries, 0 to 961\n",
      "Data columns (total 17 columns):\n",
      "year                     962 non-null int64\n",
      "category                 962 non-null object\n",
      "prize                    962 non-null object\n",
      "motivation               962 non-null object\n",
      "prize_share              962 non-null object\n",
      "laureate_type            962 non-null object\n",
      "full_name                962 non-null object\n",
      "birth_date               934 non-null datetime64[ns]\n",
      "birth_city               959 non-null object\n",
      "birth_country            962 non-null object\n",
      "birth_country_current    962 non-null object\n",
      "sex                      934 non-null object\n",
      "organization_name        962 non-null object\n",
      "organization_city        962 non-null object\n",
      "organization_country     962 non-null object\n",
      "ISO                      962 non-null object\n",
      "share_pct                962 non-null float64\n",
      "dtypes: datetime64[ns](1), float64(1), int64(1), object(14)\n",
      "memory usage: 127.8+ KB\n"
     ]
    }
   ],
   "source": [
    "#conver birth_date to datetime object\n",
    "df.birth_date = pd.to_datetime(df.birth_date)\n",
    "df.info()"
   ]
  },
  {
   "cell_type": "code",
   "execution_count": 180,
   "metadata": {},
   "outputs": [
    {
     "data": {
      "text/plain": [
       "Male      876\n",
       "Female     58\n",
       "Name: sex, dtype: int64"
      ]
     },
     "execution_count": 180,
     "metadata": {},
     "output_type": "execute_result"
    }
   ],
   "source": [
    "# shows how many prizes went to men compared to how many prizes went to women. What percentage of all the prizes went to women?\n",
    "df['sex'].value_counts()"
   ]
  },
  {
   "cell_type": "code",
   "execution_count": 181,
   "metadata": {},
   "outputs": [
    {
     "data": {
      "application/vnd.plotly.v1+json": {
       "config": {
        "plotlyServerURL": "https://plot.ly"
       },
       "data": [
        {
         "domain": {
          "x": [
           0,
           1
          ],
          "y": [
           0,
           1
          ]
         },
         "hole": 0.5,
         "hovertemplate": "sex=%{label}<br>count=%{value}<extra></extra>",
         "labels": [
          "Female",
          "Male"
         ],
         "legendgroup": "",
         "name": "",
         "showlegend": true,
         "type": "pie",
         "values": [
          58,
          876
         ]
        }
       ],
       "layout": {
        "legend": {
         "tracegroupgap": 0
        },
        "margin": {
         "t": 60
        },
        "template": {
         "data": {
          "bar": [
           {
            "error_x": {
             "color": "#2a3f5f"
            },
            "error_y": {
             "color": "#2a3f5f"
            },
            "marker": {
             "line": {
              "color": "#E5ECF6",
              "width": 0.5
             },
             "pattern": {
              "fillmode": "overlay",
              "size": 10,
              "solidity": 0.2
             }
            },
            "type": "bar"
           }
          ],
          "barpolar": [
           {
            "marker": {
             "line": {
              "color": "#E5ECF6",
              "width": 0.5
             },
             "pattern": {
              "fillmode": "overlay",
              "size": 10,
              "solidity": 0.2
             }
            },
            "type": "barpolar"
           }
          ],
          "carpet": [
           {
            "aaxis": {
             "endlinecolor": "#2a3f5f",
             "gridcolor": "white",
             "linecolor": "white",
             "minorgridcolor": "white",
             "startlinecolor": "#2a3f5f"
            },
            "baxis": {
             "endlinecolor": "#2a3f5f",
             "gridcolor": "white",
             "linecolor": "white",
             "minorgridcolor": "white",
             "startlinecolor": "#2a3f5f"
            },
            "type": "carpet"
           }
          ],
          "choropleth": [
           {
            "colorbar": {
             "outlinewidth": 0,
             "ticks": ""
            },
            "type": "choropleth"
           }
          ],
          "contour": [
           {
            "colorbar": {
             "outlinewidth": 0,
             "ticks": ""
            },
            "colorscale": [
             [
              0,
              "#0d0887"
             ],
             [
              0.1111111111111111,
              "#46039f"
             ],
             [
              0.2222222222222222,
              "#7201a8"
             ],
             [
              0.3333333333333333,
              "#9c179e"
             ],
             [
              0.4444444444444444,
              "#bd3786"
             ],
             [
              0.5555555555555556,
              "#d8576b"
             ],
             [
              0.6666666666666666,
              "#ed7953"
             ],
             [
              0.7777777777777778,
              "#fb9f3a"
             ],
             [
              0.8888888888888888,
              "#fdca26"
             ],
             [
              1,
              "#f0f921"
             ]
            ],
            "type": "contour"
           }
          ],
          "contourcarpet": [
           {
            "colorbar": {
             "outlinewidth": 0,
             "ticks": ""
            },
            "type": "contourcarpet"
           }
          ],
          "heatmap": [
           {
            "colorbar": {
             "outlinewidth": 0,
             "ticks": ""
            },
            "colorscale": [
             [
              0,
              "#0d0887"
             ],
             [
              0.1111111111111111,
              "#46039f"
             ],
             [
              0.2222222222222222,
              "#7201a8"
             ],
             [
              0.3333333333333333,
              "#9c179e"
             ],
             [
              0.4444444444444444,
              "#bd3786"
             ],
             [
              0.5555555555555556,
              "#d8576b"
             ],
             [
              0.6666666666666666,
              "#ed7953"
             ],
             [
              0.7777777777777778,
              "#fb9f3a"
             ],
             [
              0.8888888888888888,
              "#fdca26"
             ],
             [
              1,
              "#f0f921"
             ]
            ],
            "type": "heatmap"
           }
          ],
          "heatmapgl": [
           {
            "colorbar": {
             "outlinewidth": 0,
             "ticks": ""
            },
            "colorscale": [
             [
              0,
              "#0d0887"
             ],
             [
              0.1111111111111111,
              "#46039f"
             ],
             [
              0.2222222222222222,
              "#7201a8"
             ],
             [
              0.3333333333333333,
              "#9c179e"
             ],
             [
              0.4444444444444444,
              "#bd3786"
             ],
             [
              0.5555555555555556,
              "#d8576b"
             ],
             [
              0.6666666666666666,
              "#ed7953"
             ],
             [
              0.7777777777777778,
              "#fb9f3a"
             ],
             [
              0.8888888888888888,
              "#fdca26"
             ],
             [
              1,
              "#f0f921"
             ]
            ],
            "type": "heatmapgl"
           }
          ],
          "histogram": [
           {
            "marker": {
             "pattern": {
              "fillmode": "overlay",
              "size": 10,
              "solidity": 0.2
             }
            },
            "type": "histogram"
           }
          ],
          "histogram2d": [
           {
            "colorbar": {
             "outlinewidth": 0,
             "ticks": ""
            },
            "colorscale": [
             [
              0,
              "#0d0887"
             ],
             [
              0.1111111111111111,
              "#46039f"
             ],
             [
              0.2222222222222222,
              "#7201a8"
             ],
             [
              0.3333333333333333,
              "#9c179e"
             ],
             [
              0.4444444444444444,
              "#bd3786"
             ],
             [
              0.5555555555555556,
              "#d8576b"
             ],
             [
              0.6666666666666666,
              "#ed7953"
             ],
             [
              0.7777777777777778,
              "#fb9f3a"
             ],
             [
              0.8888888888888888,
              "#fdca26"
             ],
             [
              1,
              "#f0f921"
             ]
            ],
            "type": "histogram2d"
           }
          ],
          "histogram2dcontour": [
           {
            "colorbar": {
             "outlinewidth": 0,
             "ticks": ""
            },
            "colorscale": [
             [
              0,
              "#0d0887"
             ],
             [
              0.1111111111111111,
              "#46039f"
             ],
             [
              0.2222222222222222,
              "#7201a8"
             ],
             [
              0.3333333333333333,
              "#9c179e"
             ],
             [
              0.4444444444444444,
              "#bd3786"
             ],
             [
              0.5555555555555556,
              "#d8576b"
             ],
             [
              0.6666666666666666,
              "#ed7953"
             ],
             [
              0.7777777777777778,
              "#fb9f3a"
             ],
             [
              0.8888888888888888,
              "#fdca26"
             ],
             [
              1,
              "#f0f921"
             ]
            ],
            "type": "histogram2dcontour"
           }
          ],
          "mesh3d": [
           {
            "colorbar": {
             "outlinewidth": 0,
             "ticks": ""
            },
            "type": "mesh3d"
           }
          ],
          "parcoords": [
           {
            "line": {
             "colorbar": {
              "outlinewidth": 0,
              "ticks": ""
             }
            },
            "type": "parcoords"
           }
          ],
          "pie": [
           {
            "automargin": true,
            "type": "pie"
           }
          ],
          "scatter": [
           {
            "fillpattern": {
             "fillmode": "overlay",
             "size": 10,
             "solidity": 0.2
            },
            "type": "scatter"
           }
          ],
          "scatter3d": [
           {
            "line": {
             "colorbar": {
              "outlinewidth": 0,
              "ticks": ""
             }
            },
            "marker": {
             "colorbar": {
              "outlinewidth": 0,
              "ticks": ""
             }
            },
            "type": "scatter3d"
           }
          ],
          "scattercarpet": [
           {
            "marker": {
             "colorbar": {
              "outlinewidth": 0,
              "ticks": ""
             }
            },
            "type": "scattercarpet"
           }
          ],
          "scattergeo": [
           {
            "marker": {
             "colorbar": {
              "outlinewidth": 0,
              "ticks": ""
             }
            },
            "type": "scattergeo"
           }
          ],
          "scattergl": [
           {
            "marker": {
             "colorbar": {
              "outlinewidth": 0,
              "ticks": ""
             }
            },
            "type": "scattergl"
           }
          ],
          "scattermapbox": [
           {
            "marker": {
             "colorbar": {
              "outlinewidth": 0,
              "ticks": ""
             }
            },
            "type": "scattermapbox"
           }
          ],
          "scatterpolar": [
           {
            "marker": {
             "colorbar": {
              "outlinewidth": 0,
              "ticks": ""
             }
            },
            "type": "scatterpolar"
           }
          ],
          "scatterpolargl": [
           {
            "marker": {
             "colorbar": {
              "outlinewidth": 0,
              "ticks": ""
             }
            },
            "type": "scatterpolargl"
           }
          ],
          "scatterternary": [
           {
            "marker": {
             "colorbar": {
              "outlinewidth": 0,
              "ticks": ""
             }
            },
            "type": "scatterternary"
           }
          ],
          "surface": [
           {
            "colorbar": {
             "outlinewidth": 0,
             "ticks": ""
            },
            "colorscale": [
             [
              0,
              "#0d0887"
             ],
             [
              0.1111111111111111,
              "#46039f"
             ],
             [
              0.2222222222222222,
              "#7201a8"
             ],
             [
              0.3333333333333333,
              "#9c179e"
             ],
             [
              0.4444444444444444,
              "#bd3786"
             ],
             [
              0.5555555555555556,
              "#d8576b"
             ],
             [
              0.6666666666666666,
              "#ed7953"
             ],
             [
              0.7777777777777778,
              "#fb9f3a"
             ],
             [
              0.8888888888888888,
              "#fdca26"
             ],
             [
              1,
              "#f0f921"
             ]
            ],
            "type": "surface"
           }
          ],
          "table": [
           {
            "cells": {
             "fill": {
              "color": "#EBF0F8"
             },
             "line": {
              "color": "white"
             }
            },
            "header": {
             "fill": {
              "color": "#C8D4E3"
             },
             "line": {
              "color": "white"
             }
            },
            "type": "table"
           }
          ]
         },
         "layout": {
          "annotationdefaults": {
           "arrowcolor": "#2a3f5f",
           "arrowhead": 0,
           "arrowwidth": 1
          },
          "autotypenumbers": "strict",
          "coloraxis": {
           "colorbar": {
            "outlinewidth": 0,
            "ticks": ""
           }
          },
          "colorscale": {
           "diverging": [
            [
             0,
             "#8e0152"
            ],
            [
             0.1,
             "#c51b7d"
            ],
            [
             0.2,
             "#de77ae"
            ],
            [
             0.3,
             "#f1b6da"
            ],
            [
             0.4,
             "#fde0ef"
            ],
            [
             0.5,
             "#f7f7f7"
            ],
            [
             0.6,
             "#e6f5d0"
            ],
            [
             0.7,
             "#b8e186"
            ],
            [
             0.8,
             "#7fbc41"
            ],
            [
             0.9,
             "#4d9221"
            ],
            [
             1,
             "#276419"
            ]
           ],
           "sequential": [
            [
             0,
             "#0d0887"
            ],
            [
             0.1111111111111111,
             "#46039f"
            ],
            [
             0.2222222222222222,
             "#7201a8"
            ],
            [
             0.3333333333333333,
             "#9c179e"
            ],
            [
             0.4444444444444444,
             "#bd3786"
            ],
            [
             0.5555555555555556,
             "#d8576b"
            ],
            [
             0.6666666666666666,
             "#ed7953"
            ],
            [
             0.7777777777777778,
             "#fb9f3a"
            ],
            [
             0.8888888888888888,
             "#fdca26"
            ],
            [
             1,
             "#f0f921"
            ]
           ],
           "sequentialminus": [
            [
             0,
             "#0d0887"
            ],
            [
             0.1111111111111111,
             "#46039f"
            ],
            [
             0.2222222222222222,
             "#7201a8"
            ],
            [
             0.3333333333333333,
             "#9c179e"
            ],
            [
             0.4444444444444444,
             "#bd3786"
            ],
            [
             0.5555555555555556,
             "#d8576b"
            ],
            [
             0.6666666666666666,
             "#ed7953"
            ],
            [
             0.7777777777777778,
             "#fb9f3a"
            ],
            [
             0.8888888888888888,
             "#fdca26"
            ],
            [
             1,
             "#f0f921"
            ]
           ]
          },
          "colorway": [
           "#636efa",
           "#EF553B",
           "#00cc96",
           "#ab63fa",
           "#FFA15A",
           "#19d3f3",
           "#FF6692",
           "#B6E880",
           "#FF97FF",
           "#FECB52"
          ],
          "font": {
           "color": "#2a3f5f"
          },
          "geo": {
           "bgcolor": "white",
           "lakecolor": "white",
           "landcolor": "#E5ECF6",
           "showlakes": true,
           "showland": true,
           "subunitcolor": "white"
          },
          "hoverlabel": {
           "align": "left"
          },
          "hovermode": "closest",
          "mapbox": {
           "style": "light"
          },
          "paper_bgcolor": "white",
          "plot_bgcolor": "#E5ECF6",
          "polar": {
           "angularaxis": {
            "gridcolor": "white",
            "linecolor": "white",
            "ticks": ""
           },
           "bgcolor": "#E5ECF6",
           "radialaxis": {
            "gridcolor": "white",
            "linecolor": "white",
            "ticks": ""
           }
          },
          "scene": {
           "xaxis": {
            "backgroundcolor": "#E5ECF6",
            "gridcolor": "white",
            "gridwidth": 2,
            "linecolor": "white",
            "showbackground": true,
            "ticks": "",
            "zerolinecolor": "white"
           },
           "yaxis": {
            "backgroundcolor": "#E5ECF6",
            "gridcolor": "white",
            "gridwidth": 2,
            "linecolor": "white",
            "showbackground": true,
            "ticks": "",
            "zerolinecolor": "white"
           },
           "zaxis": {
            "backgroundcolor": "#E5ECF6",
            "gridcolor": "white",
            "gridwidth": 2,
            "linecolor": "white",
            "showbackground": true,
            "ticks": "",
            "zerolinecolor": "white"
           }
          },
          "shapedefaults": {
           "line": {
            "color": "#2a3f5f"
           }
          },
          "ternary": {
           "aaxis": {
            "gridcolor": "white",
            "linecolor": "white",
            "ticks": ""
           },
           "baxis": {
            "gridcolor": "white",
            "linecolor": "white",
            "ticks": ""
           },
           "bgcolor": "#E5ECF6",
           "caxis": {
            "gridcolor": "white",
            "linecolor": "white",
            "ticks": ""
           }
          },
          "title": {
           "x": 0.05
          },
          "xaxis": {
           "automargin": true,
           "gridcolor": "white",
           "linecolor": "white",
           "ticks": "",
           "title": {
            "standoff": 15
           },
           "zerolinecolor": "white",
           "zerolinewidth": 2
          },
          "yaxis": {
           "automargin": true,
           "gridcolor": "white",
           "linecolor": "white",
           "ticks": "",
           "title": {
            "standoff": 15
           },
           "zerolinecolor": "white",
           "zerolinewidth": 2
          }
         }
        }
       }
      },
      "text/html": [
       "<div>                            <div id=\"80e952b1-d65d-4b8b-9e48-f4899fb4910b\" class=\"plotly-graph-div\" style=\"height:525px; width:100%;\"></div>            <script type=\"text/javascript\">                require([\"plotly\"], function(Plotly) {                    window.PLOTLYENV=window.PLOTLYENV || {};                                    if (document.getElementById(\"80e952b1-d65d-4b8b-9e48-f4899fb4910b\")) {                    Plotly.newPlot(                        \"80e952b1-d65d-4b8b-9e48-f4899fb4910b\",                        [{\"domain\":{\"x\":[0.0,1.0],\"y\":[0.0,1.0]},\"hole\":0.5,\"hovertemplate\":\"sex=%{label}<br>count=%{value}<extra></extra>\",\"labels\":[\"Female\",\"Male\"],\"legendgroup\":\"\",\"name\":\"\",\"showlegend\":true,\"values\":[58,876],\"type\":\"pie\"}],                        {\"template\":{\"data\":{\"histogram2dcontour\":[{\"type\":\"histogram2dcontour\",\"colorbar\":{\"outlinewidth\":0,\"ticks\":\"\"},\"colorscale\":[[0.0,\"#0d0887\"],[0.1111111111111111,\"#46039f\"],[0.2222222222222222,\"#7201a8\"],[0.3333333333333333,\"#9c179e\"],[0.4444444444444444,\"#bd3786\"],[0.5555555555555556,\"#d8576b\"],[0.6666666666666666,\"#ed7953\"],[0.7777777777777778,\"#fb9f3a\"],[0.8888888888888888,\"#fdca26\"],[1.0,\"#f0f921\"]]}],\"choropleth\":[{\"type\":\"choropleth\",\"colorbar\":{\"outlinewidth\":0,\"ticks\":\"\"}}],\"histogram2d\":[{\"type\":\"histogram2d\",\"colorbar\":{\"outlinewidth\":0,\"ticks\":\"\"},\"colorscale\":[[0.0,\"#0d0887\"],[0.1111111111111111,\"#46039f\"],[0.2222222222222222,\"#7201a8\"],[0.3333333333333333,\"#9c179e\"],[0.4444444444444444,\"#bd3786\"],[0.5555555555555556,\"#d8576b\"],[0.6666666666666666,\"#ed7953\"],[0.7777777777777778,\"#fb9f3a\"],[0.8888888888888888,\"#fdca26\"],[1.0,\"#f0f921\"]]}],\"heatmap\":[{\"type\":\"heatmap\",\"colorbar\":{\"outlinewidth\":0,\"ticks\":\"\"},\"colorscale\":[[0.0,\"#0d0887\"],[0.1111111111111111,\"#46039f\"],[0.2222222222222222,\"#7201a8\"],[0.3333333333333333,\"#9c179e\"],[0.4444444444444444,\"#bd3786\"],[0.5555555555555556,\"#d8576b\"],[0.6666666666666666,\"#ed7953\"],[0.7777777777777778,\"#fb9f3a\"],[0.8888888888888888,\"#fdca26\"],[1.0,\"#f0f921\"]]}],\"heatmapgl\":[{\"type\":\"heatmapgl\",\"colorbar\":{\"outlinewidth\":0,\"ticks\":\"\"},\"colorscale\":[[0.0,\"#0d0887\"],[0.1111111111111111,\"#46039f\"],[0.2222222222222222,\"#7201a8\"],[0.3333333333333333,\"#9c179e\"],[0.4444444444444444,\"#bd3786\"],[0.5555555555555556,\"#d8576b\"],[0.6666666666666666,\"#ed7953\"],[0.7777777777777778,\"#fb9f3a\"],[0.8888888888888888,\"#fdca26\"],[1.0,\"#f0f921\"]]}],\"contourcarpet\":[{\"type\":\"contourcarpet\",\"colorbar\":{\"outlinewidth\":0,\"ticks\":\"\"}}],\"contour\":[{\"type\":\"contour\",\"colorbar\":{\"outlinewidth\":0,\"ticks\":\"\"},\"colorscale\":[[0.0,\"#0d0887\"],[0.1111111111111111,\"#46039f\"],[0.2222222222222222,\"#7201a8\"],[0.3333333333333333,\"#9c179e\"],[0.4444444444444444,\"#bd3786\"],[0.5555555555555556,\"#d8576b\"],[0.6666666666666666,\"#ed7953\"],[0.7777777777777778,\"#fb9f3a\"],[0.8888888888888888,\"#fdca26\"],[1.0,\"#f0f921\"]]}],\"surface\":[{\"type\":\"surface\",\"colorbar\":{\"outlinewidth\":0,\"ticks\":\"\"},\"colorscale\":[[0.0,\"#0d0887\"],[0.1111111111111111,\"#46039f\"],[0.2222222222222222,\"#7201a8\"],[0.3333333333333333,\"#9c179e\"],[0.4444444444444444,\"#bd3786\"],[0.5555555555555556,\"#d8576b\"],[0.6666666666666666,\"#ed7953\"],[0.7777777777777778,\"#fb9f3a\"],[0.8888888888888888,\"#fdca26\"],[1.0,\"#f0f921\"]]}],\"mesh3d\":[{\"type\":\"mesh3d\",\"colorbar\":{\"outlinewidth\":0,\"ticks\":\"\"}}],\"scatter\":[{\"fillpattern\":{\"fillmode\":\"overlay\",\"size\":10,\"solidity\":0.2},\"type\":\"scatter\"}],\"parcoords\":[{\"type\":\"parcoords\",\"line\":{\"colorbar\":{\"outlinewidth\":0,\"ticks\":\"\"}}}],\"scatterpolargl\":[{\"type\":\"scatterpolargl\",\"marker\":{\"colorbar\":{\"outlinewidth\":0,\"ticks\":\"\"}}}],\"bar\":[{\"error_x\":{\"color\":\"#2a3f5f\"},\"error_y\":{\"color\":\"#2a3f5f\"},\"marker\":{\"line\":{\"color\":\"#E5ECF6\",\"width\":0.5},\"pattern\":{\"fillmode\":\"overlay\",\"size\":10,\"solidity\":0.2}},\"type\":\"bar\"}],\"scattergeo\":[{\"type\":\"scattergeo\",\"marker\":{\"colorbar\":{\"outlinewidth\":0,\"ticks\":\"\"}}}],\"scatterpolar\":[{\"type\":\"scatterpolar\",\"marker\":{\"colorbar\":{\"outlinewidth\":0,\"ticks\":\"\"}}}],\"histogram\":[{\"marker\":{\"pattern\":{\"fillmode\":\"overlay\",\"size\":10,\"solidity\":0.2}},\"type\":\"histogram\"}],\"scattergl\":[{\"type\":\"scattergl\",\"marker\":{\"colorbar\":{\"outlinewidth\":0,\"ticks\":\"\"}}}],\"scatter3d\":[{\"type\":\"scatter3d\",\"line\":{\"colorbar\":{\"outlinewidth\":0,\"ticks\":\"\"}},\"marker\":{\"colorbar\":{\"outlinewidth\":0,\"ticks\":\"\"}}}],\"scattermapbox\":[{\"type\":\"scattermapbox\",\"marker\":{\"colorbar\":{\"outlinewidth\":0,\"ticks\":\"\"}}}],\"scatterternary\":[{\"type\":\"scatterternary\",\"marker\":{\"colorbar\":{\"outlinewidth\":0,\"ticks\":\"\"}}}],\"scattercarpet\":[{\"type\":\"scattercarpet\",\"marker\":{\"colorbar\":{\"outlinewidth\":0,\"ticks\":\"\"}}}],\"carpet\":[{\"aaxis\":{\"endlinecolor\":\"#2a3f5f\",\"gridcolor\":\"white\",\"linecolor\":\"white\",\"minorgridcolor\":\"white\",\"startlinecolor\":\"#2a3f5f\"},\"baxis\":{\"endlinecolor\":\"#2a3f5f\",\"gridcolor\":\"white\",\"linecolor\":\"white\",\"minorgridcolor\":\"white\",\"startlinecolor\":\"#2a3f5f\"},\"type\":\"carpet\"}],\"table\":[{\"cells\":{\"fill\":{\"color\":\"#EBF0F8\"},\"line\":{\"color\":\"white\"}},\"header\":{\"fill\":{\"color\":\"#C8D4E3\"},\"line\":{\"color\":\"white\"}},\"type\":\"table\"}],\"barpolar\":[{\"marker\":{\"line\":{\"color\":\"#E5ECF6\",\"width\":0.5},\"pattern\":{\"fillmode\":\"overlay\",\"size\":10,\"solidity\":0.2}},\"type\":\"barpolar\"}],\"pie\":[{\"automargin\":true,\"type\":\"pie\"}]},\"layout\":{\"autotypenumbers\":\"strict\",\"colorway\":[\"#636efa\",\"#EF553B\",\"#00cc96\",\"#ab63fa\",\"#FFA15A\",\"#19d3f3\",\"#FF6692\",\"#B6E880\",\"#FF97FF\",\"#FECB52\"],\"font\":{\"color\":\"#2a3f5f\"},\"hovermode\":\"closest\",\"hoverlabel\":{\"align\":\"left\"},\"paper_bgcolor\":\"white\",\"plot_bgcolor\":\"#E5ECF6\",\"polar\":{\"bgcolor\":\"#E5ECF6\",\"angularaxis\":{\"gridcolor\":\"white\",\"linecolor\":\"white\",\"ticks\":\"\"},\"radialaxis\":{\"gridcolor\":\"white\",\"linecolor\":\"white\",\"ticks\":\"\"}},\"ternary\":{\"bgcolor\":\"#E5ECF6\",\"aaxis\":{\"gridcolor\":\"white\",\"linecolor\":\"white\",\"ticks\":\"\"},\"baxis\":{\"gridcolor\":\"white\",\"linecolor\":\"white\",\"ticks\":\"\"},\"caxis\":{\"gridcolor\":\"white\",\"linecolor\":\"white\",\"ticks\":\"\"}},\"coloraxis\":{\"colorbar\":{\"outlinewidth\":0,\"ticks\":\"\"}},\"colorscale\":{\"sequential\":[[0.0,\"#0d0887\"],[0.1111111111111111,\"#46039f\"],[0.2222222222222222,\"#7201a8\"],[0.3333333333333333,\"#9c179e\"],[0.4444444444444444,\"#bd3786\"],[0.5555555555555556,\"#d8576b\"],[0.6666666666666666,\"#ed7953\"],[0.7777777777777778,\"#fb9f3a\"],[0.8888888888888888,\"#fdca26\"],[1.0,\"#f0f921\"]],\"sequentialminus\":[[0.0,\"#0d0887\"],[0.1111111111111111,\"#46039f\"],[0.2222222222222222,\"#7201a8\"],[0.3333333333333333,\"#9c179e\"],[0.4444444444444444,\"#bd3786\"],[0.5555555555555556,\"#d8576b\"],[0.6666666666666666,\"#ed7953\"],[0.7777777777777778,\"#fb9f3a\"],[0.8888888888888888,\"#fdca26\"],[1.0,\"#f0f921\"]],\"diverging\":[[0,\"#8e0152\"],[0.1,\"#c51b7d\"],[0.2,\"#de77ae\"],[0.3,\"#f1b6da\"],[0.4,\"#fde0ef\"],[0.5,\"#f7f7f7\"],[0.6,\"#e6f5d0\"],[0.7,\"#b8e186\"],[0.8,\"#7fbc41\"],[0.9,\"#4d9221\"],[1,\"#276419\"]]},\"xaxis\":{\"gridcolor\":\"white\",\"linecolor\":\"white\",\"ticks\":\"\",\"title\":{\"standoff\":15},\"zerolinecolor\":\"white\",\"automargin\":true,\"zerolinewidth\":2},\"yaxis\":{\"gridcolor\":\"white\",\"linecolor\":\"white\",\"ticks\":\"\",\"title\":{\"standoff\":15},\"zerolinecolor\":\"white\",\"automargin\":true,\"zerolinewidth\":2},\"scene\":{\"xaxis\":{\"backgroundcolor\":\"#E5ECF6\",\"gridcolor\":\"white\",\"linecolor\":\"white\",\"showbackground\":true,\"ticks\":\"\",\"zerolinecolor\":\"white\",\"gridwidth\":2},\"yaxis\":{\"backgroundcolor\":\"#E5ECF6\",\"gridcolor\":\"white\",\"linecolor\":\"white\",\"showbackground\":true,\"ticks\":\"\",\"zerolinecolor\":\"white\",\"gridwidth\":2},\"zaxis\":{\"backgroundcolor\":\"#E5ECF6\",\"gridcolor\":\"white\",\"linecolor\":\"white\",\"showbackground\":true,\"ticks\":\"\",\"zerolinecolor\":\"white\",\"gridwidth\":2}},\"shapedefaults\":{\"line\":{\"color\":\"#2a3f5f\"}},\"annotationdefaults\":{\"arrowcolor\":\"#2a3f5f\",\"arrowhead\":0,\"arrowwidth\":1},\"geo\":{\"bgcolor\":\"white\",\"landcolor\":\"#E5ECF6\",\"subunitcolor\":\"white\",\"showland\":true,\"showlakes\":true,\"lakecolor\":\"white\"},\"title\":{\"x\":0.05},\"mapbox\":{\"style\":\"light\"}}},\"legend\":{\"tracegroupgap\":0},\"margin\":{\"t\":60}},                        {\"responsive\": true}                    ).then(function(){\n",
       "                            \n",
       "var gd = document.getElementById('80e952b1-d65d-4b8b-9e48-f4899fb4910b');\n",
       "var x = new MutationObserver(function (mutations, observer) {{\n",
       "        var display = window.getComputedStyle(gd).display;\n",
       "        if (!display || display === 'none') {{\n",
       "            console.log([gd, 'removed!']);\n",
       "            Plotly.purge(gd);\n",
       "            observer.disconnect();\n",
       "        }}\n",
       "}});\n",
       "\n",
       "// Listen for the removal of the full notebook cells\n",
       "var notebookContainer = gd.closest('#notebook-container');\n",
       "if (notebookContainer) {{\n",
       "    x.observe(notebookContainer, {childList: true});\n",
       "}}\n",
       "\n",
       "// Listen for the clearing of the current output cell\n",
       "var outputEl = gd.closest('.output');\n",
       "if (outputEl) {{\n",
       "    x.observe(outputEl, {childList: true});\n",
       "}}\n",
       "\n",
       "                        })                };                });            </script>        </div>"
      ]
     },
     "metadata": {},
     "output_type": "display_data"
    }
   ],
   "source": [
    "# Group the data by sex and count the number of prizes for each group\n",
    "grouped = df.groupby(\"sex\").size().reset_index(name=\"count\")\n",
    "\n",
    "# Create a donut chart using Plotly\n",
    "fig = px.pie(grouped, values='count', names='sex', hole=0.5)\n",
    "fig.show()"
   ]
  },
  {
   "cell_type": "code",
   "execution_count": 182,
   "metadata": {},
   "outputs": [
    {
     "data": {
      "text/html": [
       "<div>\n",
       "<style scoped>\n",
       "    .dataframe tbody tr th:only-of-type {\n",
       "        vertical-align: middle;\n",
       "    }\n",
       "\n",
       "    .dataframe tbody tr th {\n",
       "        vertical-align: top;\n",
       "    }\n",
       "\n",
       "    .dataframe thead th {\n",
       "        text-align: right;\n",
       "    }\n",
       "</style>\n",
       "<table border=\"1\" class=\"dataframe\">\n",
       "  <thead>\n",
       "    <tr style=\"text-align: right;\">\n",
       "      <th></th>\n",
       "      <th>full_name</th>\n",
       "      <th>prize</th>\n",
       "      <th>birth_country</th>\n",
       "      <th>organization_name</th>\n",
       "    </tr>\n",
       "  </thead>\n",
       "  <tbody>\n",
       "    <tr>\n",
       "      <th>18</th>\n",
       "      <td>Marie Curie, née Sklodowska</td>\n",
       "      <td>The Nobel Prize in Physics 1903</td>\n",
       "      <td>Russian Empire (Poland)</td>\n",
       "      <td>Not affiliated</td>\n",
       "    </tr>\n",
       "    <tr>\n",
       "      <th>29</th>\n",
       "      <td>Baroness Bertha Sophie Felicita von Suttner, n...</td>\n",
       "      <td>The Nobel Peace Prize 1905</td>\n",
       "      <td>Austrian Empire (Czech Republic)</td>\n",
       "      <td>Not affiliated</td>\n",
       "    </tr>\n",
       "    <tr>\n",
       "      <th>51</th>\n",
       "      <td>Selma Ottilia Lovisa Lagerlöf</td>\n",
       "      <td>The Nobel Prize in Literature 1909</td>\n",
       "      <td>Sweden</td>\n",
       "      <td>Not affiliated</td>\n",
       "    </tr>\n",
       "  </tbody>\n",
       "</table>\n",
       "</div>"
      ],
      "text/plain": [
       "                                            full_name  \\\n",
       "18                        Marie Curie, née Sklodowska   \n",
       "29  Baroness Bertha Sophie Felicita von Suttner, n...   \n",
       "51                      Selma Ottilia Lovisa Lagerlöf   \n",
       "\n",
       "                                 prize                     birth_country  \\\n",
       "18     The Nobel Prize in Physics 1903           Russian Empire (Poland)   \n",
       "29          The Nobel Peace Prize 1905  Austrian Empire (Czech Republic)   \n",
       "51  The Nobel Prize in Literature 1909                            Sweden   \n",
       "\n",
       "   organization_name  \n",
       "18    Not affiliated  \n",
       "29    Not affiliated  \n",
       "51    Not affiliated  "
      ]
     },
     "execution_count": 182,
     "metadata": {},
     "output_type": "execute_result"
    }
   ],
   "source": [
    "# Filter the data to only include female laureates\n",
    "female_laureates = df[df['sex'] == 'Female']\n",
    "\n",
    "# Sort the data by year in ascending order\n",
    "female_laureates = female_laureates.sort_values(\"year\")\n",
    "\n",
    "# Get the first three rows, which represent the first three female laureates\n",
    "first_three_female_laureates = female_laureates.head(3)\n",
    "# Print the full_name column for the first three female laureates\n",
    "first_three_female_laureates[['full_name','prize','birth_country','organization_name']]"
   ]
  },
  {
   "cell_type": "code",
   "execution_count": 183,
   "metadata": {},
   "outputs": [
    {
     "data": {
      "text/html": [
       "<div>\n",
       "<style scoped>\n",
       "    .dataframe tbody tr th:only-of-type {\n",
       "        vertical-align: middle;\n",
       "    }\n",
       "\n",
       "    .dataframe tbody tr th {\n",
       "        vertical-align: top;\n",
       "    }\n",
       "\n",
       "    .dataframe thead th {\n",
       "        text-align: right;\n",
       "    }\n",
       "</style>\n",
       "<table border=\"1\" class=\"dataframe\">\n",
       "  <thead>\n",
       "    <tr style=\"text-align: right;\">\n",
       "      <th></th>\n",
       "      <th>index</th>\n",
       "      <th>full_name</th>\n",
       "    </tr>\n",
       "  </thead>\n",
       "  <tbody>\n",
       "    <tr>\n",
       "      <th>0</th>\n",
       "      <td>Comité international de la Croix Rouge (Intern...</td>\n",
       "      <td>3.0</td>\n",
       "    </tr>\n",
       "    <tr>\n",
       "      <th>1</th>\n",
       "      <td>Linus Carl Pauling</td>\n",
       "      <td>2.0</td>\n",
       "    </tr>\n",
       "    <tr>\n",
       "      <th>2</th>\n",
       "      <td>Marie Curie, née Sklodowska</td>\n",
       "      <td>2.0</td>\n",
       "    </tr>\n",
       "    <tr>\n",
       "      <th>3</th>\n",
       "      <td>John Bardeen</td>\n",
       "      <td>2.0</td>\n",
       "    </tr>\n",
       "    <tr>\n",
       "      <th>4</th>\n",
       "      <td>Frederick Sanger</td>\n",
       "      <td>2.0</td>\n",
       "    </tr>\n",
       "    <tr>\n",
       "      <th>5</th>\n",
       "      <td>Office of the United Nations High Commissioner...</td>\n",
       "      <td>2.0</td>\n",
       "    </tr>\n",
       "  </tbody>\n",
       "</table>\n",
       "</div>"
      ],
      "text/plain": [
       "                                               index  full_name\n",
       "0  Comité international de la Croix Rouge (Intern...        3.0\n",
       "1                                 Linus Carl Pauling        2.0\n",
       "2                        Marie Curie, née Sklodowska        2.0\n",
       "3                                       John Bardeen        2.0\n",
       "4                                   Frederick Sanger        2.0\n",
       "5  Office of the United Nations High Commissioner...        2.0"
      ]
     },
     "execution_count": 183,
     "metadata": {},
     "output_type": "execute_result"
    }
   ],
   "source": [
    "#Did some people get a Nobel Prize more than once? If so, who were they?\n",
    "df_2 = pd.DataFrame((df.full_name.value_counts()).reset_index())\n",
    "filter_1 = df_2['full_name']>1\n",
    "df_2.where(filter_1).dropna()\n"
   ]
  },
  {
   "cell_type": "code",
   "execution_count": 208,
   "metadata": {},
   "outputs": [
    {
     "data": {
      "application/vnd.plotly.v1+json": {
       "config": {
        "plotlyServerURL": "https://plot.ly"
       },
       "data": [
        {
         "alignmentgroup": "True",
         "hovertemplate": "x=%{x}<br>y=%{y}<br>color=%{marker.color}<extra></extra>",
         "legendgroup": "",
         "marker": {
          "color": [
           222,
           216,
           186,
           135,
           117,
           86
          ],
          "coloraxis": "coloraxis",
          "pattern": {
           "shape": ""
          }
         },
         "name": "",
         "offsetgroup": "",
         "orientation": "v",
         "showlegend": false,
         "textposition": "auto",
         "type": "bar",
         "x": [
          "Medicine",
          "Physics",
          "Chemistry",
          "Peace",
          "Literature",
          "Economics"
         ],
         "xaxis": "x",
         "y": [
          222,
          216,
          186,
          135,
          117,
          86
         ],
         "yaxis": "y"
        }
       ],
       "layout": {
        "barmode": "relative",
        "coloraxis": {
         "colorbar": {
          "title": {
           "text": "color"
          }
         },
         "colorscale": [
          [
           0,
           "rgb(253, 253, 204)"
          ],
          [
           0.09090909090909091,
           "rgb(206, 236, 179)"
          ],
          [
           0.18181818181818182,
           "rgb(156, 219, 165)"
          ],
          [
           0.2727272727272727,
           "rgb(111, 201, 163)"
          ],
          [
           0.36363636363636365,
           "rgb(86, 177, 163)"
          ],
          [
           0.45454545454545453,
           "rgb(76, 153, 160)"
          ],
          [
           0.5454545454545454,
           "rgb(68, 130, 155)"
          ],
          [
           0.6363636363636364,
           "rgb(62, 108, 150)"
          ],
          [
           0.7272727272727273,
           "rgb(62, 82, 143)"
          ],
          [
           0.8181818181818182,
           "rgb(64, 60, 115)"
          ],
          [
           0.9090909090909091,
           "rgb(54, 43, 77)"
          ],
          [
           1,
           "rgb(39, 26, 44)"
          ]
         ],
         "showscale": false
        },
        "legend": {
         "tracegroupgap": 0
        },
        "template": {
         "data": {
          "bar": [
           {
            "error_x": {
             "color": "#2a3f5f"
            },
            "error_y": {
             "color": "#2a3f5f"
            },
            "marker": {
             "line": {
              "color": "#E5ECF6",
              "width": 0.5
             },
             "pattern": {
              "fillmode": "overlay",
              "size": 10,
              "solidity": 0.2
             }
            },
            "type": "bar"
           }
          ],
          "barpolar": [
           {
            "marker": {
             "line": {
              "color": "#E5ECF6",
              "width": 0.5
             },
             "pattern": {
              "fillmode": "overlay",
              "size": 10,
              "solidity": 0.2
             }
            },
            "type": "barpolar"
           }
          ],
          "carpet": [
           {
            "aaxis": {
             "endlinecolor": "#2a3f5f",
             "gridcolor": "white",
             "linecolor": "white",
             "minorgridcolor": "white",
             "startlinecolor": "#2a3f5f"
            },
            "baxis": {
             "endlinecolor": "#2a3f5f",
             "gridcolor": "white",
             "linecolor": "white",
             "minorgridcolor": "white",
             "startlinecolor": "#2a3f5f"
            },
            "type": "carpet"
           }
          ],
          "choropleth": [
           {
            "colorbar": {
             "outlinewidth": 0,
             "ticks": ""
            },
            "type": "choropleth"
           }
          ],
          "contour": [
           {
            "colorbar": {
             "outlinewidth": 0,
             "ticks": ""
            },
            "colorscale": [
             [
              0,
              "#0d0887"
             ],
             [
              0.1111111111111111,
              "#46039f"
             ],
             [
              0.2222222222222222,
              "#7201a8"
             ],
             [
              0.3333333333333333,
              "#9c179e"
             ],
             [
              0.4444444444444444,
              "#bd3786"
             ],
             [
              0.5555555555555556,
              "#d8576b"
             ],
             [
              0.6666666666666666,
              "#ed7953"
             ],
             [
              0.7777777777777778,
              "#fb9f3a"
             ],
             [
              0.8888888888888888,
              "#fdca26"
             ],
             [
              1,
              "#f0f921"
             ]
            ],
            "type": "contour"
           }
          ],
          "contourcarpet": [
           {
            "colorbar": {
             "outlinewidth": 0,
             "ticks": ""
            },
            "type": "contourcarpet"
           }
          ],
          "heatmap": [
           {
            "colorbar": {
             "outlinewidth": 0,
             "ticks": ""
            },
            "colorscale": [
             [
              0,
              "#0d0887"
             ],
             [
              0.1111111111111111,
              "#46039f"
             ],
             [
              0.2222222222222222,
              "#7201a8"
             ],
             [
              0.3333333333333333,
              "#9c179e"
             ],
             [
              0.4444444444444444,
              "#bd3786"
             ],
             [
              0.5555555555555556,
              "#d8576b"
             ],
             [
              0.6666666666666666,
              "#ed7953"
             ],
             [
              0.7777777777777778,
              "#fb9f3a"
             ],
             [
              0.8888888888888888,
              "#fdca26"
             ],
             [
              1,
              "#f0f921"
             ]
            ],
            "type": "heatmap"
           }
          ],
          "heatmapgl": [
           {
            "colorbar": {
             "outlinewidth": 0,
             "ticks": ""
            },
            "colorscale": [
             [
              0,
              "#0d0887"
             ],
             [
              0.1111111111111111,
              "#46039f"
             ],
             [
              0.2222222222222222,
              "#7201a8"
             ],
             [
              0.3333333333333333,
              "#9c179e"
             ],
             [
              0.4444444444444444,
              "#bd3786"
             ],
             [
              0.5555555555555556,
              "#d8576b"
             ],
             [
              0.6666666666666666,
              "#ed7953"
             ],
             [
              0.7777777777777778,
              "#fb9f3a"
             ],
             [
              0.8888888888888888,
              "#fdca26"
             ],
             [
              1,
              "#f0f921"
             ]
            ],
            "type": "heatmapgl"
           }
          ],
          "histogram": [
           {
            "marker": {
             "pattern": {
              "fillmode": "overlay",
              "size": 10,
              "solidity": 0.2
             }
            },
            "type": "histogram"
           }
          ],
          "histogram2d": [
           {
            "colorbar": {
             "outlinewidth": 0,
             "ticks": ""
            },
            "colorscale": [
             [
              0,
              "#0d0887"
             ],
             [
              0.1111111111111111,
              "#46039f"
             ],
             [
              0.2222222222222222,
              "#7201a8"
             ],
             [
              0.3333333333333333,
              "#9c179e"
             ],
             [
              0.4444444444444444,
              "#bd3786"
             ],
             [
              0.5555555555555556,
              "#d8576b"
             ],
             [
              0.6666666666666666,
              "#ed7953"
             ],
             [
              0.7777777777777778,
              "#fb9f3a"
             ],
             [
              0.8888888888888888,
              "#fdca26"
             ],
             [
              1,
              "#f0f921"
             ]
            ],
            "type": "histogram2d"
           }
          ],
          "histogram2dcontour": [
           {
            "colorbar": {
             "outlinewidth": 0,
             "ticks": ""
            },
            "colorscale": [
             [
              0,
              "#0d0887"
             ],
             [
              0.1111111111111111,
              "#46039f"
             ],
             [
              0.2222222222222222,
              "#7201a8"
             ],
             [
              0.3333333333333333,
              "#9c179e"
             ],
             [
              0.4444444444444444,
              "#bd3786"
             ],
             [
              0.5555555555555556,
              "#d8576b"
             ],
             [
              0.6666666666666666,
              "#ed7953"
             ],
             [
              0.7777777777777778,
              "#fb9f3a"
             ],
             [
              0.8888888888888888,
              "#fdca26"
             ],
             [
              1,
              "#f0f921"
             ]
            ],
            "type": "histogram2dcontour"
           }
          ],
          "mesh3d": [
           {
            "colorbar": {
             "outlinewidth": 0,
             "ticks": ""
            },
            "type": "mesh3d"
           }
          ],
          "parcoords": [
           {
            "line": {
             "colorbar": {
              "outlinewidth": 0,
              "ticks": ""
             }
            },
            "type": "parcoords"
           }
          ],
          "pie": [
           {
            "automargin": true,
            "type": "pie"
           }
          ],
          "scatter": [
           {
            "fillpattern": {
             "fillmode": "overlay",
             "size": 10,
             "solidity": 0.2
            },
            "type": "scatter"
           }
          ],
          "scatter3d": [
           {
            "line": {
             "colorbar": {
              "outlinewidth": 0,
              "ticks": ""
             }
            },
            "marker": {
             "colorbar": {
              "outlinewidth": 0,
              "ticks": ""
             }
            },
            "type": "scatter3d"
           }
          ],
          "scattercarpet": [
           {
            "marker": {
             "colorbar": {
              "outlinewidth": 0,
              "ticks": ""
             }
            },
            "type": "scattercarpet"
           }
          ],
          "scattergeo": [
           {
            "marker": {
             "colorbar": {
              "outlinewidth": 0,
              "ticks": ""
             }
            },
            "type": "scattergeo"
           }
          ],
          "scattergl": [
           {
            "marker": {
             "colorbar": {
              "outlinewidth": 0,
              "ticks": ""
             }
            },
            "type": "scattergl"
           }
          ],
          "scattermapbox": [
           {
            "marker": {
             "colorbar": {
              "outlinewidth": 0,
              "ticks": ""
             }
            },
            "type": "scattermapbox"
           }
          ],
          "scatterpolar": [
           {
            "marker": {
             "colorbar": {
              "outlinewidth": 0,
              "ticks": ""
             }
            },
            "type": "scatterpolar"
           }
          ],
          "scatterpolargl": [
           {
            "marker": {
             "colorbar": {
              "outlinewidth": 0,
              "ticks": ""
             }
            },
            "type": "scatterpolargl"
           }
          ],
          "scatterternary": [
           {
            "marker": {
             "colorbar": {
              "outlinewidth": 0,
              "ticks": ""
             }
            },
            "type": "scatterternary"
           }
          ],
          "surface": [
           {
            "colorbar": {
             "outlinewidth": 0,
             "ticks": ""
            },
            "colorscale": [
             [
              0,
              "#0d0887"
             ],
             [
              0.1111111111111111,
              "#46039f"
             ],
             [
              0.2222222222222222,
              "#7201a8"
             ],
             [
              0.3333333333333333,
              "#9c179e"
             ],
             [
              0.4444444444444444,
              "#bd3786"
             ],
             [
              0.5555555555555556,
              "#d8576b"
             ],
             [
              0.6666666666666666,
              "#ed7953"
             ],
             [
              0.7777777777777778,
              "#fb9f3a"
             ],
             [
              0.8888888888888888,
              "#fdca26"
             ],
             [
              1,
              "#f0f921"
             ]
            ],
            "type": "surface"
           }
          ],
          "table": [
           {
            "cells": {
             "fill": {
              "color": "#EBF0F8"
             },
             "line": {
              "color": "white"
             }
            },
            "header": {
             "fill": {
              "color": "#C8D4E3"
             },
             "line": {
              "color": "white"
             }
            },
            "type": "table"
           }
          ]
         },
         "layout": {
          "annotationdefaults": {
           "arrowcolor": "#2a3f5f",
           "arrowhead": 0,
           "arrowwidth": 1
          },
          "autotypenumbers": "strict",
          "coloraxis": {
           "colorbar": {
            "outlinewidth": 0,
            "ticks": ""
           }
          },
          "colorscale": {
           "diverging": [
            [
             0,
             "#8e0152"
            ],
            [
             0.1,
             "#c51b7d"
            ],
            [
             0.2,
             "#de77ae"
            ],
            [
             0.3,
             "#f1b6da"
            ],
            [
             0.4,
             "#fde0ef"
            ],
            [
             0.5,
             "#f7f7f7"
            ],
            [
             0.6,
             "#e6f5d0"
            ],
            [
             0.7,
             "#b8e186"
            ],
            [
             0.8,
             "#7fbc41"
            ],
            [
             0.9,
             "#4d9221"
            ],
            [
             1,
             "#276419"
            ]
           ],
           "sequential": [
            [
             0,
             "#0d0887"
            ],
            [
             0.1111111111111111,
             "#46039f"
            ],
            [
             0.2222222222222222,
             "#7201a8"
            ],
            [
             0.3333333333333333,
             "#9c179e"
            ],
            [
             0.4444444444444444,
             "#bd3786"
            ],
            [
             0.5555555555555556,
             "#d8576b"
            ],
            [
             0.6666666666666666,
             "#ed7953"
            ],
            [
             0.7777777777777778,
             "#fb9f3a"
            ],
            [
             0.8888888888888888,
             "#fdca26"
            ],
            [
             1,
             "#f0f921"
            ]
           ],
           "sequentialminus": [
            [
             0,
             "#0d0887"
            ],
            [
             0.1111111111111111,
             "#46039f"
            ],
            [
             0.2222222222222222,
             "#7201a8"
            ],
            [
             0.3333333333333333,
             "#9c179e"
            ],
            [
             0.4444444444444444,
             "#bd3786"
            ],
            [
             0.5555555555555556,
             "#d8576b"
            ],
            [
             0.6666666666666666,
             "#ed7953"
            ],
            [
             0.7777777777777778,
             "#fb9f3a"
            ],
            [
             0.8888888888888888,
             "#fdca26"
            ],
            [
             1,
             "#f0f921"
            ]
           ]
          },
          "colorway": [
           "#636efa",
           "#EF553B",
           "#00cc96",
           "#ab63fa",
           "#FFA15A",
           "#19d3f3",
           "#FF6692",
           "#B6E880",
           "#FF97FF",
           "#FECB52"
          ],
          "font": {
           "color": "#2a3f5f"
          },
          "geo": {
           "bgcolor": "white",
           "lakecolor": "white",
           "landcolor": "#E5ECF6",
           "showlakes": true,
           "showland": true,
           "subunitcolor": "white"
          },
          "hoverlabel": {
           "align": "left"
          },
          "hovermode": "closest",
          "mapbox": {
           "style": "light"
          },
          "paper_bgcolor": "white",
          "plot_bgcolor": "#E5ECF6",
          "polar": {
           "angularaxis": {
            "gridcolor": "white",
            "linecolor": "white",
            "ticks": ""
           },
           "bgcolor": "#E5ECF6",
           "radialaxis": {
            "gridcolor": "white",
            "linecolor": "white",
            "ticks": ""
           }
          },
          "scene": {
           "xaxis": {
            "backgroundcolor": "#E5ECF6",
            "gridcolor": "white",
            "gridwidth": 2,
            "linecolor": "white",
            "showbackground": true,
            "ticks": "",
            "zerolinecolor": "white"
           },
           "yaxis": {
            "backgroundcolor": "#E5ECF6",
            "gridcolor": "white",
            "gridwidth": 2,
            "linecolor": "white",
            "showbackground": true,
            "ticks": "",
            "zerolinecolor": "white"
           },
           "zaxis": {
            "backgroundcolor": "#E5ECF6",
            "gridcolor": "white",
            "gridwidth": 2,
            "linecolor": "white",
            "showbackground": true,
            "ticks": "",
            "zerolinecolor": "white"
           }
          },
          "shapedefaults": {
           "line": {
            "color": "#2a3f5f"
           }
          },
          "ternary": {
           "aaxis": {
            "gridcolor": "white",
            "linecolor": "white",
            "ticks": ""
           },
           "baxis": {
            "gridcolor": "white",
            "linecolor": "white",
            "ticks": ""
           },
           "bgcolor": "#E5ECF6",
           "caxis": {
            "gridcolor": "white",
            "linecolor": "white",
            "ticks": ""
           }
          },
          "title": {
           "x": 0.05
          },
          "xaxis": {
           "automargin": true,
           "gridcolor": "white",
           "linecolor": "white",
           "ticks": "",
           "title": {
            "standoff": 15
           },
           "zerolinecolor": "white",
           "zerolinewidth": 2
          },
          "yaxis": {
           "automargin": true,
           "gridcolor": "white",
           "linecolor": "white",
           "ticks": "",
           "title": {
            "standoff": 15
           },
           "zerolinecolor": "white",
           "zerolinewidth": 2
          }
         }
        },
        "title": {
         "text": "Number of Prizes Awarded per Category"
        },
        "xaxis": {
         "anchor": "y",
         "domain": [
          0,
          1
         ],
         "title": {
          "text": "Nobel Prize Category"
         }
        },
        "yaxis": {
         "anchor": "x",
         "domain": [
          0,
          1
         ],
         "title": {
          "text": "Number of Prizes"
         }
        }
       }
      },
      "text/html": [
       "<div>                            <div id=\"6643c576-a7a9-46c2-a89f-f733b499cf5a\" class=\"plotly-graph-div\" style=\"height:525px; width:100%;\"></div>            <script type=\"text/javascript\">                require([\"plotly\"], function(Plotly) {                    window.PLOTLYENV=window.PLOTLYENV || {};                                    if (document.getElementById(\"6643c576-a7a9-46c2-a89f-f733b499cf5a\")) {                    Plotly.newPlot(                        \"6643c576-a7a9-46c2-a89f-f733b499cf5a\",                        [{\"alignmentgroup\":\"True\",\"hovertemplate\":\"x=%{x}<br>y=%{y}<br>color=%{marker.color}<extra></extra>\",\"legendgroup\":\"\",\"marker\":{\"color\":[222,216,186,135,117,86],\"coloraxis\":\"coloraxis\",\"pattern\":{\"shape\":\"\"}},\"name\":\"\",\"offsetgroup\":\"\",\"orientation\":\"v\",\"showlegend\":false,\"textposition\":\"auto\",\"x\":[\"Medicine\",\"Physics\",\"Chemistry\",\"Peace\",\"Literature\",\"Economics\"],\"xaxis\":\"x\",\"y\":[222,216,186,135,117,86],\"yaxis\":\"y\",\"type\":\"bar\"}],                        {\"template\":{\"data\":{\"histogram2dcontour\":[{\"type\":\"histogram2dcontour\",\"colorbar\":{\"outlinewidth\":0,\"ticks\":\"\"},\"colorscale\":[[0.0,\"#0d0887\"],[0.1111111111111111,\"#46039f\"],[0.2222222222222222,\"#7201a8\"],[0.3333333333333333,\"#9c179e\"],[0.4444444444444444,\"#bd3786\"],[0.5555555555555556,\"#d8576b\"],[0.6666666666666666,\"#ed7953\"],[0.7777777777777778,\"#fb9f3a\"],[0.8888888888888888,\"#fdca26\"],[1.0,\"#f0f921\"]]}],\"choropleth\":[{\"type\":\"choropleth\",\"colorbar\":{\"outlinewidth\":0,\"ticks\":\"\"}}],\"histogram2d\":[{\"type\":\"histogram2d\",\"colorbar\":{\"outlinewidth\":0,\"ticks\":\"\"},\"colorscale\":[[0.0,\"#0d0887\"],[0.1111111111111111,\"#46039f\"],[0.2222222222222222,\"#7201a8\"],[0.3333333333333333,\"#9c179e\"],[0.4444444444444444,\"#bd3786\"],[0.5555555555555556,\"#d8576b\"],[0.6666666666666666,\"#ed7953\"],[0.7777777777777778,\"#fb9f3a\"],[0.8888888888888888,\"#fdca26\"],[1.0,\"#f0f921\"]]}],\"heatmap\":[{\"type\":\"heatmap\",\"colorbar\":{\"outlinewidth\":0,\"ticks\":\"\"},\"colorscale\":[[0.0,\"#0d0887\"],[0.1111111111111111,\"#46039f\"],[0.2222222222222222,\"#7201a8\"],[0.3333333333333333,\"#9c179e\"],[0.4444444444444444,\"#bd3786\"],[0.5555555555555556,\"#d8576b\"],[0.6666666666666666,\"#ed7953\"],[0.7777777777777778,\"#fb9f3a\"],[0.8888888888888888,\"#fdca26\"],[1.0,\"#f0f921\"]]}],\"heatmapgl\":[{\"type\":\"heatmapgl\",\"colorbar\":{\"outlinewidth\":0,\"ticks\":\"\"},\"colorscale\":[[0.0,\"#0d0887\"],[0.1111111111111111,\"#46039f\"],[0.2222222222222222,\"#7201a8\"],[0.3333333333333333,\"#9c179e\"],[0.4444444444444444,\"#bd3786\"],[0.5555555555555556,\"#d8576b\"],[0.6666666666666666,\"#ed7953\"],[0.7777777777777778,\"#fb9f3a\"],[0.8888888888888888,\"#fdca26\"],[1.0,\"#f0f921\"]]}],\"contourcarpet\":[{\"type\":\"contourcarpet\",\"colorbar\":{\"outlinewidth\":0,\"ticks\":\"\"}}],\"contour\":[{\"type\":\"contour\",\"colorbar\":{\"outlinewidth\":0,\"ticks\":\"\"},\"colorscale\":[[0.0,\"#0d0887\"],[0.1111111111111111,\"#46039f\"],[0.2222222222222222,\"#7201a8\"],[0.3333333333333333,\"#9c179e\"],[0.4444444444444444,\"#bd3786\"],[0.5555555555555556,\"#d8576b\"],[0.6666666666666666,\"#ed7953\"],[0.7777777777777778,\"#fb9f3a\"],[0.8888888888888888,\"#fdca26\"],[1.0,\"#f0f921\"]]}],\"surface\":[{\"type\":\"surface\",\"colorbar\":{\"outlinewidth\":0,\"ticks\":\"\"},\"colorscale\":[[0.0,\"#0d0887\"],[0.1111111111111111,\"#46039f\"],[0.2222222222222222,\"#7201a8\"],[0.3333333333333333,\"#9c179e\"],[0.4444444444444444,\"#bd3786\"],[0.5555555555555556,\"#d8576b\"],[0.6666666666666666,\"#ed7953\"],[0.7777777777777778,\"#fb9f3a\"],[0.8888888888888888,\"#fdca26\"],[1.0,\"#f0f921\"]]}],\"mesh3d\":[{\"type\":\"mesh3d\",\"colorbar\":{\"outlinewidth\":0,\"ticks\":\"\"}}],\"scatter\":[{\"fillpattern\":{\"fillmode\":\"overlay\",\"size\":10,\"solidity\":0.2},\"type\":\"scatter\"}],\"parcoords\":[{\"type\":\"parcoords\",\"line\":{\"colorbar\":{\"outlinewidth\":0,\"ticks\":\"\"}}}],\"scatterpolargl\":[{\"type\":\"scatterpolargl\",\"marker\":{\"colorbar\":{\"outlinewidth\":0,\"ticks\":\"\"}}}],\"bar\":[{\"error_x\":{\"color\":\"#2a3f5f\"},\"error_y\":{\"color\":\"#2a3f5f\"},\"marker\":{\"line\":{\"color\":\"#E5ECF6\",\"width\":0.5},\"pattern\":{\"fillmode\":\"overlay\",\"size\":10,\"solidity\":0.2}},\"type\":\"bar\"}],\"scattergeo\":[{\"type\":\"scattergeo\",\"marker\":{\"colorbar\":{\"outlinewidth\":0,\"ticks\":\"\"}}}],\"scatterpolar\":[{\"type\":\"scatterpolar\",\"marker\":{\"colorbar\":{\"outlinewidth\":0,\"ticks\":\"\"}}}],\"histogram\":[{\"marker\":{\"pattern\":{\"fillmode\":\"overlay\",\"size\":10,\"solidity\":0.2}},\"type\":\"histogram\"}],\"scattergl\":[{\"type\":\"scattergl\",\"marker\":{\"colorbar\":{\"outlinewidth\":0,\"ticks\":\"\"}}}],\"scatter3d\":[{\"type\":\"scatter3d\",\"line\":{\"colorbar\":{\"outlinewidth\":0,\"ticks\":\"\"}},\"marker\":{\"colorbar\":{\"outlinewidth\":0,\"ticks\":\"\"}}}],\"scattermapbox\":[{\"type\":\"scattermapbox\",\"marker\":{\"colorbar\":{\"outlinewidth\":0,\"ticks\":\"\"}}}],\"scatterternary\":[{\"type\":\"scatterternary\",\"marker\":{\"colorbar\":{\"outlinewidth\":0,\"ticks\":\"\"}}}],\"scattercarpet\":[{\"type\":\"scattercarpet\",\"marker\":{\"colorbar\":{\"outlinewidth\":0,\"ticks\":\"\"}}}],\"carpet\":[{\"aaxis\":{\"endlinecolor\":\"#2a3f5f\",\"gridcolor\":\"white\",\"linecolor\":\"white\",\"minorgridcolor\":\"white\",\"startlinecolor\":\"#2a3f5f\"},\"baxis\":{\"endlinecolor\":\"#2a3f5f\",\"gridcolor\":\"white\",\"linecolor\":\"white\",\"minorgridcolor\":\"white\",\"startlinecolor\":\"#2a3f5f\"},\"type\":\"carpet\"}],\"table\":[{\"cells\":{\"fill\":{\"color\":\"#EBF0F8\"},\"line\":{\"color\":\"white\"}},\"header\":{\"fill\":{\"color\":\"#C8D4E3\"},\"line\":{\"color\":\"white\"}},\"type\":\"table\"}],\"barpolar\":[{\"marker\":{\"line\":{\"color\":\"#E5ECF6\",\"width\":0.5},\"pattern\":{\"fillmode\":\"overlay\",\"size\":10,\"solidity\":0.2}},\"type\":\"barpolar\"}],\"pie\":[{\"automargin\":true,\"type\":\"pie\"}]},\"layout\":{\"autotypenumbers\":\"strict\",\"colorway\":[\"#636efa\",\"#EF553B\",\"#00cc96\",\"#ab63fa\",\"#FFA15A\",\"#19d3f3\",\"#FF6692\",\"#B6E880\",\"#FF97FF\",\"#FECB52\"],\"font\":{\"color\":\"#2a3f5f\"},\"hovermode\":\"closest\",\"hoverlabel\":{\"align\":\"left\"},\"paper_bgcolor\":\"white\",\"plot_bgcolor\":\"#E5ECF6\",\"polar\":{\"bgcolor\":\"#E5ECF6\",\"angularaxis\":{\"gridcolor\":\"white\",\"linecolor\":\"white\",\"ticks\":\"\"},\"radialaxis\":{\"gridcolor\":\"white\",\"linecolor\":\"white\",\"ticks\":\"\"}},\"ternary\":{\"bgcolor\":\"#E5ECF6\",\"aaxis\":{\"gridcolor\":\"white\",\"linecolor\":\"white\",\"ticks\":\"\"},\"baxis\":{\"gridcolor\":\"white\",\"linecolor\":\"white\",\"ticks\":\"\"},\"caxis\":{\"gridcolor\":\"white\",\"linecolor\":\"white\",\"ticks\":\"\"}},\"coloraxis\":{\"colorbar\":{\"outlinewidth\":0,\"ticks\":\"\"}},\"colorscale\":{\"sequential\":[[0.0,\"#0d0887\"],[0.1111111111111111,\"#46039f\"],[0.2222222222222222,\"#7201a8\"],[0.3333333333333333,\"#9c179e\"],[0.4444444444444444,\"#bd3786\"],[0.5555555555555556,\"#d8576b\"],[0.6666666666666666,\"#ed7953\"],[0.7777777777777778,\"#fb9f3a\"],[0.8888888888888888,\"#fdca26\"],[1.0,\"#f0f921\"]],\"sequentialminus\":[[0.0,\"#0d0887\"],[0.1111111111111111,\"#46039f\"],[0.2222222222222222,\"#7201a8\"],[0.3333333333333333,\"#9c179e\"],[0.4444444444444444,\"#bd3786\"],[0.5555555555555556,\"#d8576b\"],[0.6666666666666666,\"#ed7953\"],[0.7777777777777778,\"#fb9f3a\"],[0.8888888888888888,\"#fdca26\"],[1.0,\"#f0f921\"]],\"diverging\":[[0,\"#8e0152\"],[0.1,\"#c51b7d\"],[0.2,\"#de77ae\"],[0.3,\"#f1b6da\"],[0.4,\"#fde0ef\"],[0.5,\"#f7f7f7\"],[0.6,\"#e6f5d0\"],[0.7,\"#b8e186\"],[0.8,\"#7fbc41\"],[0.9,\"#4d9221\"],[1,\"#276419\"]]},\"xaxis\":{\"gridcolor\":\"white\",\"linecolor\":\"white\",\"ticks\":\"\",\"title\":{\"standoff\":15},\"zerolinecolor\":\"white\",\"automargin\":true,\"zerolinewidth\":2},\"yaxis\":{\"gridcolor\":\"white\",\"linecolor\":\"white\",\"ticks\":\"\",\"title\":{\"standoff\":15},\"zerolinecolor\":\"white\",\"automargin\":true,\"zerolinewidth\":2},\"scene\":{\"xaxis\":{\"backgroundcolor\":\"#E5ECF6\",\"gridcolor\":\"white\",\"linecolor\":\"white\",\"showbackground\":true,\"ticks\":\"\",\"zerolinecolor\":\"white\",\"gridwidth\":2},\"yaxis\":{\"backgroundcolor\":\"#E5ECF6\",\"gridcolor\":\"white\",\"linecolor\":\"white\",\"showbackground\":true,\"ticks\":\"\",\"zerolinecolor\":\"white\",\"gridwidth\":2},\"zaxis\":{\"backgroundcolor\":\"#E5ECF6\",\"gridcolor\":\"white\",\"linecolor\":\"white\",\"showbackground\":true,\"ticks\":\"\",\"zerolinecolor\":\"white\",\"gridwidth\":2}},\"shapedefaults\":{\"line\":{\"color\":\"#2a3f5f\"}},\"annotationdefaults\":{\"arrowcolor\":\"#2a3f5f\",\"arrowhead\":0,\"arrowwidth\":1},\"geo\":{\"bgcolor\":\"white\",\"landcolor\":\"#E5ECF6\",\"subunitcolor\":\"white\",\"showland\":true,\"showlakes\":true,\"lakecolor\":\"white\"},\"title\":{\"x\":0.05},\"mapbox\":{\"style\":\"light\"}}},\"xaxis\":{\"anchor\":\"y\",\"domain\":[0.0,1.0],\"title\":{\"text\":\"Nobel Prize Category\"}},\"yaxis\":{\"anchor\":\"x\",\"domain\":[0.0,1.0],\"title\":{\"text\":\"Number of Prizes\"}},\"coloraxis\":{\"colorbar\":{\"title\":{\"text\":\"color\"}},\"colorscale\":[[0.0,\"rgb(253, 253, 204)\"],[0.09090909090909091,\"rgb(206, 236, 179)\"],[0.18181818181818182,\"rgb(156, 219, 165)\"],[0.2727272727272727,\"rgb(111, 201, 163)\"],[0.36363636363636365,\"rgb(86, 177, 163)\"],[0.45454545454545453,\"rgb(76, 153, 160)\"],[0.5454545454545454,\"rgb(68, 130, 155)\"],[0.6363636363636364,\"rgb(62, 108, 150)\"],[0.7272727272727273,\"rgb(62, 82, 143)\"],[0.8181818181818182,\"rgb(64, 60, 115)\"],[0.9090909090909091,\"rgb(54, 43, 77)\"],[1.0,\"rgb(39, 26, 44)\"]],\"showscale\":false},\"legend\":{\"tracegroupgap\":0},\"title\":{\"text\":\"Number of Prizes Awarded per Category\"},\"barmode\":\"relative\"},                        {\"responsive\": true}                    ).then(function(){\n",
       "                            \n",
       "var gd = document.getElementById('6643c576-a7a9-46c2-a89f-f733b499cf5a');\n",
       "var x = new MutationObserver(function (mutations, observer) {{\n",
       "        var display = window.getComputedStyle(gd).display;\n",
       "        if (!display || display === 'none') {{\n",
       "            console.log([gd, 'removed!']);\n",
       "            Plotly.purge(gd);\n",
       "            observer.disconnect();\n",
       "        }}\n",
       "}});\n",
       "\n",
       "// Listen for the removal of the full notebook cells\n",
       "var notebookContainer = gd.closest('#notebook-container');\n",
       "if (notebookContainer) {{\n",
       "    x.observe(notebookContainer, {childList: true});\n",
       "}}\n",
       "\n",
       "// Listen for the clearing of the current output cell\n",
       "var outputEl = gd.closest('.output');\n",
       "if (outputEl) {{\n",
       "    x.observe(outputEl, {childList: true});\n",
       "}}\n",
       "\n",
       "                        })                };                });            </script>        </div>"
      ]
     },
     "metadata": {},
     "output_type": "display_data"
    }
   ],
   "source": [
    "prizes_per_category = df.category.value_counts()\n",
    "v_bar = px.bar(\n",
    "        x = prizes_per_category.index,\n",
    "        y = prizes_per_category.values,\n",
    "        color = prizes_per_category.values,\n",
    "        color_continuous_scale='deep',\n",
    "        title='Number of Prizes Awarded per Category')\n",
    " \n",
    "v_bar.update_layout(xaxis_title='Nobel Prize Category', \n",
    "                    coloraxis_showscale=False,\n",
    "                    yaxis_title='Number of Prizes')\n",
    "v_bar.show()"
   ]
  },
  {
   "cell_type": "code",
   "execution_count": 185,
   "metadata": {},
   "outputs": [
    {
     "data": {
      "text/plain": [
       "Medicine      222\n",
       "Physics       216\n",
       "Chemistry     186\n",
       "Peace         135\n",
       "Literature    117\n",
       "Economics      86\n",
       "Name: category, dtype: int64"
      ]
     },
     "execution_count": 185,
     "metadata": {},
     "output_type": "execute_result"
    }
   ],
   "source": [
    "df.category.value_counts()"
   ]
  },
  {
   "cell_type": "code",
   "execution_count": 191,
   "metadata": {},
   "outputs": [
    {
     "data": {
      "text/html": [
       "<div>\n",
       "<style scoped>\n",
       "    .dataframe tbody tr th:only-of-type {\n",
       "        vertical-align: middle;\n",
       "    }\n",
       "\n",
       "    .dataframe tbody tr th {\n",
       "        vertical-align: top;\n",
       "    }\n",
       "\n",
       "    .dataframe thead th {\n",
       "        text-align: right;\n",
       "    }\n",
       "</style>\n",
       "<table border=\"1\" class=\"dataframe\">\n",
       "  <thead>\n",
       "    <tr style=\"text-align: right;\">\n",
       "      <th></th>\n",
       "      <th>category</th>\n",
       "      <th>sex</th>\n",
       "      <th>prize</th>\n",
       "    </tr>\n",
       "  </thead>\n",
       "  <tbody>\n",
       "    <tr>\n",
       "      <th>11</th>\n",
       "      <td>Physics</td>\n",
       "      <td>Male</td>\n",
       "      <td>212</td>\n",
       "    </tr>\n",
       "    <tr>\n",
       "      <th>7</th>\n",
       "      <td>Medicine</td>\n",
       "      <td>Male</td>\n",
       "      <td>210</td>\n",
       "    </tr>\n",
       "    <tr>\n",
       "      <th>1</th>\n",
       "      <td>Chemistry</td>\n",
       "      <td>Male</td>\n",
       "      <td>179</td>\n",
       "    </tr>\n",
       "    <tr>\n",
       "      <th>5</th>\n",
       "      <td>Literature</td>\n",
       "      <td>Male</td>\n",
       "      <td>101</td>\n",
       "    </tr>\n",
       "    <tr>\n",
       "      <th>9</th>\n",
       "      <td>Peace</td>\n",
       "      <td>Male</td>\n",
       "      <td>90</td>\n",
       "    </tr>\n",
       "    <tr>\n",
       "      <th>3</th>\n",
       "      <td>Economics</td>\n",
       "      <td>Male</td>\n",
       "      <td>84</td>\n",
       "    </tr>\n",
       "    <tr>\n",
       "      <th>8</th>\n",
       "      <td>Peace</td>\n",
       "      <td>Female</td>\n",
       "      <td>17</td>\n",
       "    </tr>\n",
       "    <tr>\n",
       "      <th>4</th>\n",
       "      <td>Literature</td>\n",
       "      <td>Female</td>\n",
       "      <td>16</td>\n",
       "    </tr>\n",
       "    <tr>\n",
       "      <th>6</th>\n",
       "      <td>Medicine</td>\n",
       "      <td>Female</td>\n",
       "      <td>12</td>\n",
       "    </tr>\n",
       "    <tr>\n",
       "      <th>0</th>\n",
       "      <td>Chemistry</td>\n",
       "      <td>Female</td>\n",
       "      <td>7</td>\n",
       "    </tr>\n",
       "    <tr>\n",
       "      <th>10</th>\n",
       "      <td>Physics</td>\n",
       "      <td>Female</td>\n",
       "      <td>4</td>\n",
       "    </tr>\n",
       "    <tr>\n",
       "      <th>2</th>\n",
       "      <td>Economics</td>\n",
       "      <td>Female</td>\n",
       "      <td>2</td>\n",
       "    </tr>\n",
       "  </tbody>\n",
       "</table>\n",
       "</div>"
      ],
      "text/plain": [
       "      category     sex  prize\n",
       "11     Physics    Male    212\n",
       "7     Medicine    Male    210\n",
       "1    Chemistry    Male    179\n",
       "5   Literature    Male    101\n",
       "9        Peace    Male     90\n",
       "3    Economics    Male     84\n",
       "8        Peace  Female     17\n",
       "4   Literature  Female     16\n",
       "6     Medicine  Female     12\n",
       "0    Chemistry  Female      7\n",
       "10     Physics  Female      4\n",
       "2    Economics  Female      2"
      ]
     },
     "execution_count": 191,
     "metadata": {},
     "output_type": "execute_result"
    }
   ],
   "source": [
    "cat_men_women = df.groupby(['category', 'sex'], \n",
    "                               as_index=False).agg({'prize': pd.Series.count})\n",
    "cat_men_women.sort_values('prize', ascending=False)\n"
   ]
  },
  {
   "cell_type": "code",
   "execution_count": 187,
   "metadata": {},
   "outputs": [
    {
     "data": {
      "application/vnd.plotly.v1+json": {
       "config": {
        "plotlyServerURL": "https://plot.ly"
       },
       "data": [
        {
         "alignmentgroup": "True",
         "hovertemplate": "color=Male<br>x=%{x}<br>y=%{y}<extra></extra>",
         "legendgroup": "Male",
         "marker": {
          "color": "#636efa",
          "pattern": {
           "shape": ""
          }
         },
         "name": "Male",
         "offsetgroup": "Male",
         "orientation": "v",
         "showlegend": true,
         "textposition": "auto",
         "type": "bar",
         "x": [
          "Physics",
          "Medicine",
          "Chemistry",
          "Literature",
          "Peace",
          "Economics"
         ],
         "xaxis": "x",
         "y": [
          212,
          210,
          179,
          101,
          90,
          84
         ],
         "yaxis": "y"
        },
        {
         "alignmentgroup": "True",
         "hovertemplate": "color=Female<br>x=%{x}<br>y=%{y}<extra></extra>",
         "legendgroup": "Female",
         "marker": {
          "color": "#EF553B",
          "pattern": {
           "shape": ""
          }
         },
         "name": "Female",
         "offsetgroup": "Female",
         "orientation": "v",
         "showlegend": true,
         "textposition": "auto",
         "type": "bar",
         "x": [
          "Peace",
          "Literature",
          "Medicine",
          "Chemistry",
          "Physics",
          "Economics"
         ],
         "xaxis": "x",
         "y": [
          17,
          16,
          12,
          7,
          4,
          2
         ],
         "yaxis": "y"
        }
       ],
       "layout": {
        "barmode": "relative",
        "legend": {
         "title": {
          "text": "color"
         },
         "tracegroupgap": 0
        },
        "template": {
         "data": {
          "bar": [
           {
            "error_x": {
             "color": "#2a3f5f"
            },
            "error_y": {
             "color": "#2a3f5f"
            },
            "marker": {
             "line": {
              "color": "#E5ECF6",
              "width": 0.5
             },
             "pattern": {
              "fillmode": "overlay",
              "size": 10,
              "solidity": 0.2
             }
            },
            "type": "bar"
           }
          ],
          "barpolar": [
           {
            "marker": {
             "line": {
              "color": "#E5ECF6",
              "width": 0.5
             },
             "pattern": {
              "fillmode": "overlay",
              "size": 10,
              "solidity": 0.2
             }
            },
            "type": "barpolar"
           }
          ],
          "carpet": [
           {
            "aaxis": {
             "endlinecolor": "#2a3f5f",
             "gridcolor": "white",
             "linecolor": "white",
             "minorgridcolor": "white",
             "startlinecolor": "#2a3f5f"
            },
            "baxis": {
             "endlinecolor": "#2a3f5f",
             "gridcolor": "white",
             "linecolor": "white",
             "minorgridcolor": "white",
             "startlinecolor": "#2a3f5f"
            },
            "type": "carpet"
           }
          ],
          "choropleth": [
           {
            "colorbar": {
             "outlinewidth": 0,
             "ticks": ""
            },
            "type": "choropleth"
           }
          ],
          "contour": [
           {
            "colorbar": {
             "outlinewidth": 0,
             "ticks": ""
            },
            "colorscale": [
             [
              0,
              "#0d0887"
             ],
             [
              0.1111111111111111,
              "#46039f"
             ],
             [
              0.2222222222222222,
              "#7201a8"
             ],
             [
              0.3333333333333333,
              "#9c179e"
             ],
             [
              0.4444444444444444,
              "#bd3786"
             ],
             [
              0.5555555555555556,
              "#d8576b"
             ],
             [
              0.6666666666666666,
              "#ed7953"
             ],
             [
              0.7777777777777778,
              "#fb9f3a"
             ],
             [
              0.8888888888888888,
              "#fdca26"
             ],
             [
              1,
              "#f0f921"
             ]
            ],
            "type": "contour"
           }
          ],
          "contourcarpet": [
           {
            "colorbar": {
             "outlinewidth": 0,
             "ticks": ""
            },
            "type": "contourcarpet"
           }
          ],
          "heatmap": [
           {
            "colorbar": {
             "outlinewidth": 0,
             "ticks": ""
            },
            "colorscale": [
             [
              0,
              "#0d0887"
             ],
             [
              0.1111111111111111,
              "#46039f"
             ],
             [
              0.2222222222222222,
              "#7201a8"
             ],
             [
              0.3333333333333333,
              "#9c179e"
             ],
             [
              0.4444444444444444,
              "#bd3786"
             ],
             [
              0.5555555555555556,
              "#d8576b"
             ],
             [
              0.6666666666666666,
              "#ed7953"
             ],
             [
              0.7777777777777778,
              "#fb9f3a"
             ],
             [
              0.8888888888888888,
              "#fdca26"
             ],
             [
              1,
              "#f0f921"
             ]
            ],
            "type": "heatmap"
           }
          ],
          "heatmapgl": [
           {
            "colorbar": {
             "outlinewidth": 0,
             "ticks": ""
            },
            "colorscale": [
             [
              0,
              "#0d0887"
             ],
             [
              0.1111111111111111,
              "#46039f"
             ],
             [
              0.2222222222222222,
              "#7201a8"
             ],
             [
              0.3333333333333333,
              "#9c179e"
             ],
             [
              0.4444444444444444,
              "#bd3786"
             ],
             [
              0.5555555555555556,
              "#d8576b"
             ],
             [
              0.6666666666666666,
              "#ed7953"
             ],
             [
              0.7777777777777778,
              "#fb9f3a"
             ],
             [
              0.8888888888888888,
              "#fdca26"
             ],
             [
              1,
              "#f0f921"
             ]
            ],
            "type": "heatmapgl"
           }
          ],
          "histogram": [
           {
            "marker": {
             "pattern": {
              "fillmode": "overlay",
              "size": 10,
              "solidity": 0.2
             }
            },
            "type": "histogram"
           }
          ],
          "histogram2d": [
           {
            "colorbar": {
             "outlinewidth": 0,
             "ticks": ""
            },
            "colorscale": [
             [
              0,
              "#0d0887"
             ],
             [
              0.1111111111111111,
              "#46039f"
             ],
             [
              0.2222222222222222,
              "#7201a8"
             ],
             [
              0.3333333333333333,
              "#9c179e"
             ],
             [
              0.4444444444444444,
              "#bd3786"
             ],
             [
              0.5555555555555556,
              "#d8576b"
             ],
             [
              0.6666666666666666,
              "#ed7953"
             ],
             [
              0.7777777777777778,
              "#fb9f3a"
             ],
             [
              0.8888888888888888,
              "#fdca26"
             ],
             [
              1,
              "#f0f921"
             ]
            ],
            "type": "histogram2d"
           }
          ],
          "histogram2dcontour": [
           {
            "colorbar": {
             "outlinewidth": 0,
             "ticks": ""
            },
            "colorscale": [
             [
              0,
              "#0d0887"
             ],
             [
              0.1111111111111111,
              "#46039f"
             ],
             [
              0.2222222222222222,
              "#7201a8"
             ],
             [
              0.3333333333333333,
              "#9c179e"
             ],
             [
              0.4444444444444444,
              "#bd3786"
             ],
             [
              0.5555555555555556,
              "#d8576b"
             ],
             [
              0.6666666666666666,
              "#ed7953"
             ],
             [
              0.7777777777777778,
              "#fb9f3a"
             ],
             [
              0.8888888888888888,
              "#fdca26"
             ],
             [
              1,
              "#f0f921"
             ]
            ],
            "type": "histogram2dcontour"
           }
          ],
          "mesh3d": [
           {
            "colorbar": {
             "outlinewidth": 0,
             "ticks": ""
            },
            "type": "mesh3d"
           }
          ],
          "parcoords": [
           {
            "line": {
             "colorbar": {
              "outlinewidth": 0,
              "ticks": ""
             }
            },
            "type": "parcoords"
           }
          ],
          "pie": [
           {
            "automargin": true,
            "type": "pie"
           }
          ],
          "scatter": [
           {
            "fillpattern": {
             "fillmode": "overlay",
             "size": 10,
             "solidity": 0.2
            },
            "type": "scatter"
           }
          ],
          "scatter3d": [
           {
            "line": {
             "colorbar": {
              "outlinewidth": 0,
              "ticks": ""
             }
            },
            "marker": {
             "colorbar": {
              "outlinewidth": 0,
              "ticks": ""
             }
            },
            "type": "scatter3d"
           }
          ],
          "scattercarpet": [
           {
            "marker": {
             "colorbar": {
              "outlinewidth": 0,
              "ticks": ""
             }
            },
            "type": "scattercarpet"
           }
          ],
          "scattergeo": [
           {
            "marker": {
             "colorbar": {
              "outlinewidth": 0,
              "ticks": ""
             }
            },
            "type": "scattergeo"
           }
          ],
          "scattergl": [
           {
            "marker": {
             "colorbar": {
              "outlinewidth": 0,
              "ticks": ""
             }
            },
            "type": "scattergl"
           }
          ],
          "scattermapbox": [
           {
            "marker": {
             "colorbar": {
              "outlinewidth": 0,
              "ticks": ""
             }
            },
            "type": "scattermapbox"
           }
          ],
          "scatterpolar": [
           {
            "marker": {
             "colorbar": {
              "outlinewidth": 0,
              "ticks": ""
             }
            },
            "type": "scatterpolar"
           }
          ],
          "scatterpolargl": [
           {
            "marker": {
             "colorbar": {
              "outlinewidth": 0,
              "ticks": ""
             }
            },
            "type": "scatterpolargl"
           }
          ],
          "scatterternary": [
           {
            "marker": {
             "colorbar": {
              "outlinewidth": 0,
              "ticks": ""
             }
            },
            "type": "scatterternary"
           }
          ],
          "surface": [
           {
            "colorbar": {
             "outlinewidth": 0,
             "ticks": ""
            },
            "colorscale": [
             [
              0,
              "#0d0887"
             ],
             [
              0.1111111111111111,
              "#46039f"
             ],
             [
              0.2222222222222222,
              "#7201a8"
             ],
             [
              0.3333333333333333,
              "#9c179e"
             ],
             [
              0.4444444444444444,
              "#bd3786"
             ],
             [
              0.5555555555555556,
              "#d8576b"
             ],
             [
              0.6666666666666666,
              "#ed7953"
             ],
             [
              0.7777777777777778,
              "#fb9f3a"
             ],
             [
              0.8888888888888888,
              "#fdca26"
             ],
             [
              1,
              "#f0f921"
             ]
            ],
            "type": "surface"
           }
          ],
          "table": [
           {
            "cells": {
             "fill": {
              "color": "#EBF0F8"
             },
             "line": {
              "color": "white"
             }
            },
            "header": {
             "fill": {
              "color": "#C8D4E3"
             },
             "line": {
              "color": "white"
             }
            },
            "type": "table"
           }
          ]
         },
         "layout": {
          "annotationdefaults": {
           "arrowcolor": "#2a3f5f",
           "arrowhead": 0,
           "arrowwidth": 1
          },
          "autotypenumbers": "strict",
          "coloraxis": {
           "colorbar": {
            "outlinewidth": 0,
            "ticks": ""
           }
          },
          "colorscale": {
           "diverging": [
            [
             0,
             "#8e0152"
            ],
            [
             0.1,
             "#c51b7d"
            ],
            [
             0.2,
             "#de77ae"
            ],
            [
             0.3,
             "#f1b6da"
            ],
            [
             0.4,
             "#fde0ef"
            ],
            [
             0.5,
             "#f7f7f7"
            ],
            [
             0.6,
             "#e6f5d0"
            ],
            [
             0.7,
             "#b8e186"
            ],
            [
             0.8,
             "#7fbc41"
            ],
            [
             0.9,
             "#4d9221"
            ],
            [
             1,
             "#276419"
            ]
           ],
           "sequential": [
            [
             0,
             "#0d0887"
            ],
            [
             0.1111111111111111,
             "#46039f"
            ],
            [
             0.2222222222222222,
             "#7201a8"
            ],
            [
             0.3333333333333333,
             "#9c179e"
            ],
            [
             0.4444444444444444,
             "#bd3786"
            ],
            [
             0.5555555555555556,
             "#d8576b"
            ],
            [
             0.6666666666666666,
             "#ed7953"
            ],
            [
             0.7777777777777778,
             "#fb9f3a"
            ],
            [
             0.8888888888888888,
             "#fdca26"
            ],
            [
             1,
             "#f0f921"
            ]
           ],
           "sequentialminus": [
            [
             0,
             "#0d0887"
            ],
            [
             0.1111111111111111,
             "#46039f"
            ],
            [
             0.2222222222222222,
             "#7201a8"
            ],
            [
             0.3333333333333333,
             "#9c179e"
            ],
            [
             0.4444444444444444,
             "#bd3786"
            ],
            [
             0.5555555555555556,
             "#d8576b"
            ],
            [
             0.6666666666666666,
             "#ed7953"
            ],
            [
             0.7777777777777778,
             "#fb9f3a"
            ],
            [
             0.8888888888888888,
             "#fdca26"
            ],
            [
             1,
             "#f0f921"
            ]
           ]
          },
          "colorway": [
           "#636efa",
           "#EF553B",
           "#00cc96",
           "#ab63fa",
           "#FFA15A",
           "#19d3f3",
           "#FF6692",
           "#B6E880",
           "#FF97FF",
           "#FECB52"
          ],
          "font": {
           "color": "#2a3f5f"
          },
          "geo": {
           "bgcolor": "white",
           "lakecolor": "white",
           "landcolor": "#E5ECF6",
           "showlakes": true,
           "showland": true,
           "subunitcolor": "white"
          },
          "hoverlabel": {
           "align": "left"
          },
          "hovermode": "closest",
          "mapbox": {
           "style": "light"
          },
          "paper_bgcolor": "white",
          "plot_bgcolor": "#E5ECF6",
          "polar": {
           "angularaxis": {
            "gridcolor": "white",
            "linecolor": "white",
            "ticks": ""
           },
           "bgcolor": "#E5ECF6",
           "radialaxis": {
            "gridcolor": "white",
            "linecolor": "white",
            "ticks": ""
           }
          },
          "scene": {
           "xaxis": {
            "backgroundcolor": "#E5ECF6",
            "gridcolor": "white",
            "gridwidth": 2,
            "linecolor": "white",
            "showbackground": true,
            "ticks": "",
            "zerolinecolor": "white"
           },
           "yaxis": {
            "backgroundcolor": "#E5ECF6",
            "gridcolor": "white",
            "gridwidth": 2,
            "linecolor": "white",
            "showbackground": true,
            "ticks": "",
            "zerolinecolor": "white"
           },
           "zaxis": {
            "backgroundcolor": "#E5ECF6",
            "gridcolor": "white",
            "gridwidth": 2,
            "linecolor": "white",
            "showbackground": true,
            "ticks": "",
            "zerolinecolor": "white"
           }
          },
          "shapedefaults": {
           "line": {
            "color": "#2a3f5f"
           }
          },
          "ternary": {
           "aaxis": {
            "gridcolor": "white",
            "linecolor": "white",
            "ticks": ""
           },
           "baxis": {
            "gridcolor": "white",
            "linecolor": "white",
            "ticks": ""
           },
           "bgcolor": "#E5ECF6",
           "caxis": {
            "gridcolor": "white",
            "linecolor": "white",
            "ticks": ""
           }
          },
          "title": {
           "x": 0.05
          },
          "xaxis": {
           "automargin": true,
           "gridcolor": "white",
           "linecolor": "white",
           "ticks": "",
           "title": {
            "standoff": 15
           },
           "zerolinecolor": "white",
           "zerolinewidth": 2
          },
          "yaxis": {
           "automargin": true,
           "gridcolor": "white",
           "linecolor": "white",
           "ticks": "",
           "title": {
            "standoff": 15
           },
           "zerolinecolor": "white",
           "zerolinewidth": 2
          }
         }
        },
        "title": {
         "text": "Number of Prizes Awarded per Category split by Men and Women"
        },
        "xaxis": {
         "anchor": "y",
         "domain": [
          0,
          1
         ],
         "title": {
          "text": "Nobel Prize Category"
         }
        },
        "yaxis": {
         "anchor": "x",
         "domain": [
          0,
          1
         ],
         "title": {
          "text": "Number of Prizes"
         }
        }
       }
      },
      "text/html": [
       "<div>                            <div id=\"fe327435-bb91-4d4b-bebf-ad7aaa1927a0\" class=\"plotly-graph-div\" style=\"height:525px; width:100%;\"></div>            <script type=\"text/javascript\">                require([\"plotly\"], function(Plotly) {                    window.PLOTLYENV=window.PLOTLYENV || {};                                    if (document.getElementById(\"fe327435-bb91-4d4b-bebf-ad7aaa1927a0\")) {                    Plotly.newPlot(                        \"fe327435-bb91-4d4b-bebf-ad7aaa1927a0\",                        [{\"alignmentgroup\":\"True\",\"hovertemplate\":\"color=Male<br>x=%{x}<br>y=%{y}<extra></extra>\",\"legendgroup\":\"Male\",\"marker\":{\"color\":\"#636efa\",\"pattern\":{\"shape\":\"\"}},\"name\":\"Male\",\"offsetgroup\":\"Male\",\"orientation\":\"v\",\"showlegend\":true,\"textposition\":\"auto\",\"x\":[\"Physics\",\"Medicine\",\"Chemistry\",\"Literature\",\"Peace\",\"Economics\"],\"xaxis\":\"x\",\"y\":[212,210,179,101,90,84],\"yaxis\":\"y\",\"type\":\"bar\"},{\"alignmentgroup\":\"True\",\"hovertemplate\":\"color=Female<br>x=%{x}<br>y=%{y}<extra></extra>\",\"legendgroup\":\"Female\",\"marker\":{\"color\":\"#EF553B\",\"pattern\":{\"shape\":\"\"}},\"name\":\"Female\",\"offsetgroup\":\"Female\",\"orientation\":\"v\",\"showlegend\":true,\"textposition\":\"auto\",\"x\":[\"Peace\",\"Literature\",\"Medicine\",\"Chemistry\",\"Physics\",\"Economics\"],\"xaxis\":\"x\",\"y\":[17,16,12,7,4,2],\"yaxis\":\"y\",\"type\":\"bar\"}],                        {\"template\":{\"data\":{\"histogram2dcontour\":[{\"type\":\"histogram2dcontour\",\"colorbar\":{\"outlinewidth\":0,\"ticks\":\"\"},\"colorscale\":[[0.0,\"#0d0887\"],[0.1111111111111111,\"#46039f\"],[0.2222222222222222,\"#7201a8\"],[0.3333333333333333,\"#9c179e\"],[0.4444444444444444,\"#bd3786\"],[0.5555555555555556,\"#d8576b\"],[0.6666666666666666,\"#ed7953\"],[0.7777777777777778,\"#fb9f3a\"],[0.8888888888888888,\"#fdca26\"],[1.0,\"#f0f921\"]]}],\"choropleth\":[{\"type\":\"choropleth\",\"colorbar\":{\"outlinewidth\":0,\"ticks\":\"\"}}],\"histogram2d\":[{\"type\":\"histogram2d\",\"colorbar\":{\"outlinewidth\":0,\"ticks\":\"\"},\"colorscale\":[[0.0,\"#0d0887\"],[0.1111111111111111,\"#46039f\"],[0.2222222222222222,\"#7201a8\"],[0.3333333333333333,\"#9c179e\"],[0.4444444444444444,\"#bd3786\"],[0.5555555555555556,\"#d8576b\"],[0.6666666666666666,\"#ed7953\"],[0.7777777777777778,\"#fb9f3a\"],[0.8888888888888888,\"#fdca26\"],[1.0,\"#f0f921\"]]}],\"heatmap\":[{\"type\":\"heatmap\",\"colorbar\":{\"outlinewidth\":0,\"ticks\":\"\"},\"colorscale\":[[0.0,\"#0d0887\"],[0.1111111111111111,\"#46039f\"],[0.2222222222222222,\"#7201a8\"],[0.3333333333333333,\"#9c179e\"],[0.4444444444444444,\"#bd3786\"],[0.5555555555555556,\"#d8576b\"],[0.6666666666666666,\"#ed7953\"],[0.7777777777777778,\"#fb9f3a\"],[0.8888888888888888,\"#fdca26\"],[1.0,\"#f0f921\"]]}],\"heatmapgl\":[{\"type\":\"heatmapgl\",\"colorbar\":{\"outlinewidth\":0,\"ticks\":\"\"},\"colorscale\":[[0.0,\"#0d0887\"],[0.1111111111111111,\"#46039f\"],[0.2222222222222222,\"#7201a8\"],[0.3333333333333333,\"#9c179e\"],[0.4444444444444444,\"#bd3786\"],[0.5555555555555556,\"#d8576b\"],[0.6666666666666666,\"#ed7953\"],[0.7777777777777778,\"#fb9f3a\"],[0.8888888888888888,\"#fdca26\"],[1.0,\"#f0f921\"]]}],\"contourcarpet\":[{\"type\":\"contourcarpet\",\"colorbar\":{\"outlinewidth\":0,\"ticks\":\"\"}}],\"contour\":[{\"type\":\"contour\",\"colorbar\":{\"outlinewidth\":0,\"ticks\":\"\"},\"colorscale\":[[0.0,\"#0d0887\"],[0.1111111111111111,\"#46039f\"],[0.2222222222222222,\"#7201a8\"],[0.3333333333333333,\"#9c179e\"],[0.4444444444444444,\"#bd3786\"],[0.5555555555555556,\"#d8576b\"],[0.6666666666666666,\"#ed7953\"],[0.7777777777777778,\"#fb9f3a\"],[0.8888888888888888,\"#fdca26\"],[1.0,\"#f0f921\"]]}],\"surface\":[{\"type\":\"surface\",\"colorbar\":{\"outlinewidth\":0,\"ticks\":\"\"},\"colorscale\":[[0.0,\"#0d0887\"],[0.1111111111111111,\"#46039f\"],[0.2222222222222222,\"#7201a8\"],[0.3333333333333333,\"#9c179e\"],[0.4444444444444444,\"#bd3786\"],[0.5555555555555556,\"#d8576b\"],[0.6666666666666666,\"#ed7953\"],[0.7777777777777778,\"#fb9f3a\"],[0.8888888888888888,\"#fdca26\"],[1.0,\"#f0f921\"]]}],\"mesh3d\":[{\"type\":\"mesh3d\",\"colorbar\":{\"outlinewidth\":0,\"ticks\":\"\"}}],\"scatter\":[{\"fillpattern\":{\"fillmode\":\"overlay\",\"size\":10,\"solidity\":0.2},\"type\":\"scatter\"}],\"parcoords\":[{\"type\":\"parcoords\",\"line\":{\"colorbar\":{\"outlinewidth\":0,\"ticks\":\"\"}}}],\"scatterpolargl\":[{\"type\":\"scatterpolargl\",\"marker\":{\"colorbar\":{\"outlinewidth\":0,\"ticks\":\"\"}}}],\"bar\":[{\"error_x\":{\"color\":\"#2a3f5f\"},\"error_y\":{\"color\":\"#2a3f5f\"},\"marker\":{\"line\":{\"color\":\"#E5ECF6\",\"width\":0.5},\"pattern\":{\"fillmode\":\"overlay\",\"size\":10,\"solidity\":0.2}},\"type\":\"bar\"}],\"scattergeo\":[{\"type\":\"scattergeo\",\"marker\":{\"colorbar\":{\"outlinewidth\":0,\"ticks\":\"\"}}}],\"scatterpolar\":[{\"type\":\"scatterpolar\",\"marker\":{\"colorbar\":{\"outlinewidth\":0,\"ticks\":\"\"}}}],\"histogram\":[{\"marker\":{\"pattern\":{\"fillmode\":\"overlay\",\"size\":10,\"solidity\":0.2}},\"type\":\"histogram\"}],\"scattergl\":[{\"type\":\"scattergl\",\"marker\":{\"colorbar\":{\"outlinewidth\":0,\"ticks\":\"\"}}}],\"scatter3d\":[{\"type\":\"scatter3d\",\"line\":{\"colorbar\":{\"outlinewidth\":0,\"ticks\":\"\"}},\"marker\":{\"colorbar\":{\"outlinewidth\":0,\"ticks\":\"\"}}}],\"scattermapbox\":[{\"type\":\"scattermapbox\",\"marker\":{\"colorbar\":{\"outlinewidth\":0,\"ticks\":\"\"}}}],\"scatterternary\":[{\"type\":\"scatterternary\",\"marker\":{\"colorbar\":{\"outlinewidth\":0,\"ticks\":\"\"}}}],\"scattercarpet\":[{\"type\":\"scattercarpet\",\"marker\":{\"colorbar\":{\"outlinewidth\":0,\"ticks\":\"\"}}}],\"carpet\":[{\"aaxis\":{\"endlinecolor\":\"#2a3f5f\",\"gridcolor\":\"white\",\"linecolor\":\"white\",\"minorgridcolor\":\"white\",\"startlinecolor\":\"#2a3f5f\"},\"baxis\":{\"endlinecolor\":\"#2a3f5f\",\"gridcolor\":\"white\",\"linecolor\":\"white\",\"minorgridcolor\":\"white\",\"startlinecolor\":\"#2a3f5f\"},\"type\":\"carpet\"}],\"table\":[{\"cells\":{\"fill\":{\"color\":\"#EBF0F8\"},\"line\":{\"color\":\"white\"}},\"header\":{\"fill\":{\"color\":\"#C8D4E3\"},\"line\":{\"color\":\"white\"}},\"type\":\"table\"}],\"barpolar\":[{\"marker\":{\"line\":{\"color\":\"#E5ECF6\",\"width\":0.5},\"pattern\":{\"fillmode\":\"overlay\",\"size\":10,\"solidity\":0.2}},\"type\":\"barpolar\"}],\"pie\":[{\"automargin\":true,\"type\":\"pie\"}]},\"layout\":{\"autotypenumbers\":\"strict\",\"colorway\":[\"#636efa\",\"#EF553B\",\"#00cc96\",\"#ab63fa\",\"#FFA15A\",\"#19d3f3\",\"#FF6692\",\"#B6E880\",\"#FF97FF\",\"#FECB52\"],\"font\":{\"color\":\"#2a3f5f\"},\"hovermode\":\"closest\",\"hoverlabel\":{\"align\":\"left\"},\"paper_bgcolor\":\"white\",\"plot_bgcolor\":\"#E5ECF6\",\"polar\":{\"bgcolor\":\"#E5ECF6\",\"angularaxis\":{\"gridcolor\":\"white\",\"linecolor\":\"white\",\"ticks\":\"\"},\"radialaxis\":{\"gridcolor\":\"white\",\"linecolor\":\"white\",\"ticks\":\"\"}},\"ternary\":{\"bgcolor\":\"#E5ECF6\",\"aaxis\":{\"gridcolor\":\"white\",\"linecolor\":\"white\",\"ticks\":\"\"},\"baxis\":{\"gridcolor\":\"white\",\"linecolor\":\"white\",\"ticks\":\"\"},\"caxis\":{\"gridcolor\":\"white\",\"linecolor\":\"white\",\"ticks\":\"\"}},\"coloraxis\":{\"colorbar\":{\"outlinewidth\":0,\"ticks\":\"\"}},\"colorscale\":{\"sequential\":[[0.0,\"#0d0887\"],[0.1111111111111111,\"#46039f\"],[0.2222222222222222,\"#7201a8\"],[0.3333333333333333,\"#9c179e\"],[0.4444444444444444,\"#bd3786\"],[0.5555555555555556,\"#d8576b\"],[0.6666666666666666,\"#ed7953\"],[0.7777777777777778,\"#fb9f3a\"],[0.8888888888888888,\"#fdca26\"],[1.0,\"#f0f921\"]],\"sequentialminus\":[[0.0,\"#0d0887\"],[0.1111111111111111,\"#46039f\"],[0.2222222222222222,\"#7201a8\"],[0.3333333333333333,\"#9c179e\"],[0.4444444444444444,\"#bd3786\"],[0.5555555555555556,\"#d8576b\"],[0.6666666666666666,\"#ed7953\"],[0.7777777777777778,\"#fb9f3a\"],[0.8888888888888888,\"#fdca26\"],[1.0,\"#f0f921\"]],\"diverging\":[[0,\"#8e0152\"],[0.1,\"#c51b7d\"],[0.2,\"#de77ae\"],[0.3,\"#f1b6da\"],[0.4,\"#fde0ef\"],[0.5,\"#f7f7f7\"],[0.6,\"#e6f5d0\"],[0.7,\"#b8e186\"],[0.8,\"#7fbc41\"],[0.9,\"#4d9221\"],[1,\"#276419\"]]},\"xaxis\":{\"gridcolor\":\"white\",\"linecolor\":\"white\",\"ticks\":\"\",\"title\":{\"standoff\":15},\"zerolinecolor\":\"white\",\"automargin\":true,\"zerolinewidth\":2},\"yaxis\":{\"gridcolor\":\"white\",\"linecolor\":\"white\",\"ticks\":\"\",\"title\":{\"standoff\":15},\"zerolinecolor\":\"white\",\"automargin\":true,\"zerolinewidth\":2},\"scene\":{\"xaxis\":{\"backgroundcolor\":\"#E5ECF6\",\"gridcolor\":\"white\",\"linecolor\":\"white\",\"showbackground\":true,\"ticks\":\"\",\"zerolinecolor\":\"white\",\"gridwidth\":2},\"yaxis\":{\"backgroundcolor\":\"#E5ECF6\",\"gridcolor\":\"white\",\"linecolor\":\"white\",\"showbackground\":true,\"ticks\":\"\",\"zerolinecolor\":\"white\",\"gridwidth\":2},\"zaxis\":{\"backgroundcolor\":\"#E5ECF6\",\"gridcolor\":\"white\",\"linecolor\":\"white\",\"showbackground\":true,\"ticks\":\"\",\"zerolinecolor\":\"white\",\"gridwidth\":2}},\"shapedefaults\":{\"line\":{\"color\":\"#2a3f5f\"}},\"annotationdefaults\":{\"arrowcolor\":\"#2a3f5f\",\"arrowhead\":0,\"arrowwidth\":1},\"geo\":{\"bgcolor\":\"white\",\"landcolor\":\"#E5ECF6\",\"subunitcolor\":\"white\",\"showland\":true,\"showlakes\":true,\"lakecolor\":\"white\"},\"title\":{\"x\":0.05},\"mapbox\":{\"style\":\"light\"}}},\"xaxis\":{\"anchor\":\"y\",\"domain\":[0.0,1.0],\"title\":{\"text\":\"Nobel Prize Category\"}},\"yaxis\":{\"anchor\":\"x\",\"domain\":[0.0,1.0],\"title\":{\"text\":\"Number of Prizes\"}},\"legend\":{\"title\":{\"text\":\"color\"},\"tracegroupgap\":0},\"title\":{\"text\":\"Number of Prizes Awarded per Category split by Men and Women\"},\"barmode\":\"relative\"},                        {\"responsive\": true}                    ).then(function(){\n",
       "                            \n",
       "var gd = document.getElementById('fe327435-bb91-4d4b-bebf-ad7aaa1927a0');\n",
       "var x = new MutationObserver(function (mutations, observer) {{\n",
       "        var display = window.getComputedStyle(gd).display;\n",
       "        if (!display || display === 'none') {{\n",
       "            console.log([gd, 'removed!']);\n",
       "            Plotly.purge(gd);\n",
       "            observer.disconnect();\n",
       "        }}\n",
       "}});\n",
       "\n",
       "// Listen for the removal of the full notebook cells\n",
       "var notebookContainer = gd.closest('#notebook-container');\n",
       "if (notebookContainer) {{\n",
       "    x.observe(notebookContainer, {childList: true});\n",
       "}}\n",
       "\n",
       "// Listen for the clearing of the current output cell\n",
       "var outputEl = gd.closest('.output');\n",
       "if (outputEl) {{\n",
       "    x.observe(outputEl, {childList: true});\n",
       "}}\n",
       "\n",
       "                        })                };                });            </script>        </div>"
      ]
     },
     "metadata": {},
     "output_type": "display_data"
    }
   ],
   "source": [
    "v_bar_split = px.bar(x = cat_men_women.category,\n",
    "                     y = cat_men_women.prize,\n",
    "                     color = cat_men_women.sex,\n",
    "                     title='Number of Prizes Awarded per Category split by Men and Women')\n",
    " \n",
    "v_bar_split.update_layout(xaxis_title='Nobel Prize Category', \n",
    "                          yaxis_title='Number of Prizes',\n",
    "                         )\n",
    "v_bar_split.show()"
   ]
  },
  {
   "cell_type": "code",
   "execution_count": 200,
   "metadata": {},
   "outputs": [
    {
     "data": {
      "text/plain": [
       "<matplotlib.axes._subplots.AxesSubplot at 0x2ae1bf2d390>"
      ]
     },
     "execution_count": 200,
     "metadata": {},
     "output_type": "execute_result"
    },
    {
     "data": {
      "image/png": "[encoded data removed]",
      "text/plain": [
       "<Figure size 432x288 with 1 Axes>"
      ]
     },
     "metadata": {
      "needs_background": "light"
     },
     "output_type": "display_data"
    }
   ],
   "source": [
    "a = df[ 'birth_country_current'].value_counts().sort_values(ascending=False).head(20)\n",
    "a.plot(kind = 'barh')"
   ]
  },
  {
   "cell_type": "code",
   "execution_count": 215,
   "metadata": {},
   "outputs": [
    {
     "data": {
      "application/vnd.plotly.v1+json": {
       "config": {
        "plotlyServerURL": "https://plot.ly"
       },
       "data": [
        {
         "coloraxis": "coloraxis",
         "geo": "geo",
         "hovertemplate": "<b>%{hovertext}</b><br><br>ISO=%{location}<br>prize=%{z}<extra></extra>",
         "hovertext": [
          "Algeria",
          "Argentina",
          "Australia",
          "Austria",
          "Azerbaijan",
          "Bangladesh",
          "Belarus",
          "Belgium",
          "Bosnia and Herzegovina",
          "Brazil",
          "Bulgaria",
          "Canada",
          "Chile",
          "China",
          "Colombia",
          "Costa Rica",
          "Croatia",
          "Cyprus",
          "Czech Republic",
          "Democratic Republic of the Congo",
          "Denmark",
          "East Timor",
          "Egypt",
          "Ethiopia",
          "Finland",
          "France",
          "Germany",
          "Ghana",
          "Greece",
          "Guadeloupe Island",
          "Guatemala",
          "Hungary",
          "Iceland",
          "India",
          "Indonesia",
          "Iran",
          "Iraq",
          "Ireland",
          "Israel",
          "Italy",
          "Japan",
          "Kenya",
          "Korea (South Korea)",
          "Latvia",
          "Liberia",
          "Lithuania",
          "Luxembourg",
          "Madagascar",
          "Mexico",
          "Morocco",
          "Netherlands",
          "New Zealand",
          "Nigeria",
          "Norway",
          "Not Available",
          "Pakistan",
          "Peru",
          "Poland",
          "Portugal",
          "Romania",
          "Russia",
          "Saint Lucia",
          "Slovakia",
          "Slovenia",
          "South Africa",
          "Spain",
          "Sweden",
          "Switzerland",
          "Taiwan",
          "Trinidad",
          "Turkey",
          "Ukraine",
          "United Kingdom",
          "United States of America",
          "Venezuela",
          "Yemen",
          "Zimbabwe"
         ],
         "locations": [
          "DZA",
          "ARG",
          "AUS",
          "AUT",
          "AZE",
          "BGD",
          "BLR",
          "BEL",
          "BIH",
          "BRA",
          "BGR",
          "CAN",
          "CHL",
          "CHN",
          "COL",
          "CRI",
          "HRV",
          "CYP",
          "CZE",
          "COD",
          "DNK",
          "DOM",
          "EGY",
          "ETH",
          "FIN",
          "FRA",
          "DEU",
          "GHA",
          "GRC",
          "GLP",
          "GTM",
          "HUN",
          "ISL",
          "IND",
          "IDN",
          "IRN",
          "IRQ",
          "IRL",
          "ISR",
          "ITA",
          "JPN",
          "KEN",
          "KOR",
          "LVA",
          "LBR",
          "LTU",
          "LUX",
          "MDG",
          "MEX",
          "MAR",
          "NLD",
          "NZL",
          "NGA",
          "NOR",
          "Not Available",
          "PAK",
          "PER",
          "POL",
          "PRT",
          "ROU",
          "RUS",
          "LCA",
          "SVK",
          "SVN",
          "ZAF",
          "ESP",
          "SWE",
          "CHE",
          "SYR",
          "TON",
          "TUR",
          "UKR",
          "GBR",
          "USA",
          "VEN",
          "YEM",
          "ZWE"
         ],
         "name": "",
         "type": "choropleth",
         "z": [
          2,
          4,
          10,
          18,
          1,
          1,
          4,
          9,
          2,
          1,
          1,
          20,
          2,
          11,
          2,
          1,
          1,
          1,
          6,
          1,
          12,
          2,
          6,
          1,
          5,
          57,
          84,
          1,
          1,
          1,
          2,
          9,
          1,
          9,
          1,
          2,
          1,
          5,
          6,
          19,
          27,
          1,
          2,
          1,
          2,
          3,
          2,
          1,
          3,
          1,
          18,
          3,
          1,
          12,
          32,
          3,
          1,
          27,
          2,
          4,
          26,
          2,
          1,
          1,
          9,
          7,
          29,
          19,
          1,
          1,
          3,
          5,
          105,
          281,
          1,
          1,
          1
         ]
        }
       ],
       "layout": {
        "coloraxis": {
         "colorbar": {
          "title": {
           "text": "prize"
          }
         },
         "colorscale": [
          [
           0,
           "rgb(228, 241, 225)"
          ],
          [
           0.16666666666666666,
           "rgb(180, 217, 204)"
          ],
          [
           0.3333333333333333,
           "rgb(137, 192, 182)"
          ],
          [
           0.5,
           "rgb(99, 166, 160)"
          ],
          [
           0.6666666666666666,
           "rgb(68, 140, 138)"
          ],
          [
           0.8333333333333334,
           "rgb(40, 114, 116)"
          ],
          [
           1,
           "rgb(13, 88, 95)"
          ]
         ],
         "showscale": true
        },
        "geo": {
         "center": {},
         "domain": {
          "x": [
           0,
           1
          ],
          "y": [
           0,
           1
          ]
         }
        },
        "legend": {
         "tracegroupgap": 0
        },
        "margin": {
         "t": 60
        },
        "template": {
         "data": {
          "bar": [
           {
            "error_x": {
             "color": "#2a3f5f"
            },
            "error_y": {
             "color": "#2a3f5f"
            },
            "marker": {
             "line": {
              "color": "#E5ECF6",
              "width": 0.5
             },
             "pattern": {
              "fillmode": "overlay",
              "size": 10,
              "solidity": 0.2
             }
            },
            "type": "bar"
           }
          ],
          "barpolar": [
           {
            "marker": {
             "line": {
              "color": "#E5ECF6",
              "width": 0.5
             },
             "pattern": {
              "fillmode": "overlay",
              "size": 10,
              "solidity": 0.2
             }
            },
            "type": "barpolar"
           }
          ],
          "carpet": [
           {
            "aaxis": {
             "endlinecolor": "#2a3f5f",
             "gridcolor": "white",
             "linecolor": "white",
             "minorgridcolor": "white",
             "startlinecolor": "#2a3f5f"
            },
            "baxis": {
             "endlinecolor": "#2a3f5f",
             "gridcolor": "white",
             "linecolor": "white",
             "minorgridcolor": "white",
             "startlinecolor": "#2a3f5f"
            },
            "type": "carpet"
           }
          ],
          "choropleth": [
           {
            "colorbar": {
             "outlinewidth": 0,
             "ticks": ""
            },
            "type": "choropleth"
           }
          ],
          "contour": [
           {
            "colorbar": {
             "outlinewidth": 0,
             "ticks": ""
            },
            "colorscale": [
             [
              0,
              "#0d0887"
             ],
             [
              0.1111111111111111,
              "#46039f"
             ],
             [
              0.2222222222222222,
              "#7201a8"
             ],
             [
              0.3333333333333333,
              "#9c179e"
             ],
             [
              0.4444444444444444,
              "#bd3786"
             ],
             [
              0.5555555555555556,
              "#d8576b"
             ],
             [
              0.6666666666666666,
              "#ed7953"
             ],
             [
              0.7777777777777778,
              "#fb9f3a"
             ],
             [
              0.8888888888888888,
              "#fdca26"
             ],
             [
              1,
              "#f0f921"
             ]
            ],
            "type": "contour"
           }
          ],
          "contourcarpet": [
           {
            "colorbar": {
             "outlinewidth": 0,
             "ticks": ""
            },
            "type": "contourcarpet"
           }
          ],
          "heatmap": [
           {
            "colorbar": {
             "outlinewidth": 0,
             "ticks": ""
            },
            "colorscale": [
             [
              0,
              "#0d0887"
             ],
             [
              0.1111111111111111,
              "#46039f"
             ],
             [
              0.2222222222222222,
              "#7201a8"
             ],
             [
              0.3333333333333333,
              "#9c179e"
             ],
             [
              0.4444444444444444,
              "#bd3786"
             ],
             [
              0.5555555555555556,
              "#d8576b"
             ],
             [
              0.6666666666666666,
              "#ed7953"
             ],
             [
              0.7777777777777778,
              "#fb9f3a"
             ],
             [
              0.8888888888888888,
              "#fdca26"
             ],
             [
              1,
              "#f0f921"
             ]
            ],
            "type": "heatmap"
           }
          ],
          "heatmapgl": [
           {
            "colorbar": {
             "outlinewidth": 0,
             "ticks": ""
            },
            "colorscale": [
             [
              0,
              "#0d0887"
             ],
             [
              0.1111111111111111,
              "#46039f"
             ],
             [
              0.2222222222222222,
              "#7201a8"
             ],
             [
              0.3333333333333333,
              "#9c179e"
             ],
             [
              0.4444444444444444,
              "#bd3786"
             ],
             [
              0.5555555555555556,
              "#d8576b"
             ],
             [
              0.6666666666666666,
              "#ed7953"
             ],
             [
              0.7777777777777778,
              "#fb9f3a"
             ],
             [
              0.8888888888888888,
              "#fdca26"
             ],
             [
              1,
              "#f0f921"
             ]
            ],
            "type": "heatmapgl"
           }
          ],
          "histogram": [
           {
            "marker": {
             "pattern": {
              "fillmode": "overlay",
              "size": 10,
              "solidity": 0.2
             }
            },
            "type": "histogram"
           }
          ],
          "histogram2d": [
           {
            "colorbar": {
             "outlinewidth": 0,
             "ticks": ""
            },
            "colorscale": [
             [
              0,
              "#0d0887"
             ],
             [
              0.1111111111111111,
              "#46039f"
             ],
             [
              0.2222222222222222,
              "#7201a8"
             ],
             [
              0.3333333333333333,
              "#9c179e"
             ],
             [
              0.4444444444444444,
              "#bd3786"
             ],
             [
              0.5555555555555556,
              "#d8576b"
             ],
             [
              0.6666666666666666,
              "#ed7953"
             ],
             [
              0.7777777777777778,
              "#fb9f3a"
             ],
             [
              0.8888888888888888,
              "#fdca26"
             ],
             [
              1,
              "#f0f921"
             ]
            ],
            "type": "histogram2d"
           }
          ],
          "histogram2dcontour": [
           {
            "colorbar": {
             "outlinewidth": 0,
             "ticks": ""
            },
            "colorscale": [
             [
              0,
              "#0d0887"
             ],
             [
              0.1111111111111111,
              "#46039f"
             ],
             [
              0.2222222222222222,
              "#7201a8"
             ],
             [
              0.3333333333333333,
              "#9c179e"
             ],
             [
              0.4444444444444444,
              "#bd3786"
             ],
             [
              0.5555555555555556,
              "#d8576b"
             ],
             [
              0.6666666666666666,
              "#ed7953"
             ],
             [
              0.7777777777777778,
              "#fb9f3a"
             ],
             [
              0.8888888888888888,
              "#fdca26"
             ],
             [
              1,
              "#f0f921"
             ]
            ],
            "type": "histogram2dcontour"
           }
          ],
          "mesh3d": [
           {
            "colorbar": {
             "outlinewidth": 0,
             "ticks": ""
            },
            "type": "mesh3d"
           }
          ],
          "parcoords": [
           {
            "line": {
             "colorbar": {
              "outlinewidth": 0,
              "ticks": ""
             }
            },
            "type": "parcoords"
           }
          ],
          "pie": [
           {
            "automargin": true,
            "type": "pie"
           }
          ],
          "scatter": [
           {
            "fillpattern": {
             "fillmode": "overlay",
             "size": 10,
             "solidity": 0.2
            },
            "type": "scatter"
           }
          ],
          "scatter3d": [
           {
            "line": {
             "colorbar": {
              "outlinewidth": 0,
              "ticks": ""
             }
            },
            "marker": {
             "colorbar": {
              "outlinewidth": 0,
              "ticks": ""
             }
            },
            "type": "scatter3d"
           }
          ],
          "scattercarpet": [
           {
            "marker": {
             "colorbar": {
              "outlinewidth": 0,
              "ticks": ""
             }
            },
            "type": "scattercarpet"
           }
          ],
          "scattergeo": [
           {
            "marker": {
             "colorbar": {
              "outlinewidth": 0,
              "ticks": ""
             }
            },
            "type": "scattergeo"
           }
          ],
          "scattergl": [
           {
            "marker": {
             "colorbar": {
              "outlinewidth": 0,
              "ticks": ""
             }
            },
            "type": "scattergl"
           }
          ],
          "scattermapbox": [
           {
            "marker": {
             "colorbar": {
              "outlinewidth": 0,
              "ticks": ""
             }
            },
            "type": "scattermapbox"
           }
          ],
          "scatterpolar": [
           {
            "marker": {
             "colorbar": {
              "outlinewidth": 0,
              "ticks": ""
             }
            },
            "type": "scatterpolar"
           }
          ],
          "scatterpolargl": [
           {
            "marker": {
             "colorbar": {
              "outlinewidth": 0,
              "ticks": ""
             }
            },
            "type": "scatterpolargl"
           }
          ],
          "scatterternary": [
           {
            "marker": {
             "colorbar": {
              "outlinewidth": 0,
              "ticks": ""
             }
            },
            "type": "scatterternary"
           }
          ],
          "surface": [
           {
            "colorbar": {
             "outlinewidth": 0,
             "ticks": ""
            },
            "colorscale": [
             [
              0,
              "#0d0887"
             ],
             [
              0.1111111111111111,
              "#46039f"
             ],
             [
              0.2222222222222222,
              "#7201a8"
             ],
             [
              0.3333333333333333,
              "#9c179e"
             ],
             [
              0.4444444444444444,
              "#bd3786"
             ],
             [
              0.5555555555555556,
              "#d8576b"
             ],
             [
              0.6666666666666666,
              "#ed7953"
             ],
             [
              0.7777777777777778,
              "#fb9f3a"
             ],
             [
              0.8888888888888888,
              "#fdca26"
             ],
             [
              1,
              "#f0f921"
             ]
            ],
            "type": "surface"
           }
          ],
          "table": [
           {
            "cells": {
             "fill": {
              "color": "#EBF0F8"
             },
             "line": {
              "color": "white"
             }
            },
            "header": {
             "fill": {
              "color": "#C8D4E3"
             },
             "line": {
              "color": "white"
             }
            },
            "type": "table"
           }
          ]
         },
         "layout": {
          "annotationdefaults": {
           "arrowcolor": "#2a3f5f",
           "arrowhead": 0,
           "arrowwidth": 1
          },
          "autotypenumbers": "strict",
          "coloraxis": {
           "colorbar": {
            "outlinewidth": 0,
            "ticks": ""
           }
          },
          "colorscale": {
           "diverging": [
            [
             0,
             "#8e0152"
            ],
            [
             0.1,
             "#c51b7d"
            ],
            [
             0.2,
             "#de77ae"
            ],
            [
             0.3,
             "#f1b6da"
            ],
            [
             0.4,
             "#fde0ef"
            ],
            [
             0.5,
             "#f7f7f7"
            ],
            [
             0.6,
             "#e6f5d0"
            ],
            [
             0.7,
             "#b8e186"
            ],
            [
             0.8,
             "#7fbc41"
            ],
            [
             0.9,
             "#4d9221"
            ],
            [
             1,
             "#276419"
            ]
           ],
           "sequential": [
            [
             0,
             "#0d0887"
            ],
            [
             0.1111111111111111,
             "#46039f"
            ],
            [
             0.2222222222222222,
             "#7201a8"
            ],
            [
             0.3333333333333333,
             "#9c179e"
            ],
            [
             0.4444444444444444,
             "#bd3786"
            ],
            [
             0.5555555555555556,
             "#d8576b"
            ],
            [
             0.6666666666666666,
             "#ed7953"
            ],
            [
             0.7777777777777778,
             "#fb9f3a"
            ],
            [
             0.8888888888888888,
             "#fdca26"
            ],
            [
             1,
             "#f0f921"
            ]
           ],
           "sequentialminus": [
            [
             0,
             "#0d0887"
            ],
            [
             0.1111111111111111,
             "#46039f"
            ],
            [
             0.2222222222222222,
             "#7201a8"
            ],
            [
             0.3333333333333333,
             "#9c179e"
            ],
            [
             0.4444444444444444,
             "#bd3786"
            ],
            [
             0.5555555555555556,
             "#d8576b"
            ],
            [
             0.6666666666666666,
             "#ed7953"
            ],
            [
             0.7777777777777778,
             "#fb9f3a"
            ],
            [
             0.8888888888888888,
             "#fdca26"
            ],
            [
             1,
             "#f0f921"
            ]
           ]
          },
          "colorway": [
           "#636efa",
           "#EF553B",
           "#00cc96",
           "#ab63fa",
           "#FFA15A",
           "#19d3f3",
           "#FF6692",
           "#B6E880",
           "#FF97FF",
           "#FECB52"
          ],
          "font": {
           "color": "#2a3f5f"
          },
          "geo": {
           "bgcolor": "white",
           "lakecolor": "white",
           "landcolor": "#E5ECF6",
           "showlakes": true,
           "showland": true,
           "subunitcolor": "white"
          },
          "hoverlabel": {
           "align": "left"
          },
          "hovermode": "closest",
          "mapbox": {
           "style": "light"
          },
          "paper_bgcolor": "white",
          "plot_bgcolor": "#E5ECF6",
          "polar": {
           "angularaxis": {
            "gridcolor": "white",
            "linecolor": "white",
            "ticks": ""
           },
           "bgcolor": "#E5ECF6",
           "radialaxis": {
            "gridcolor": "white",
            "linecolor": "white",
            "ticks": ""
           }
          },
          "scene": {
           "xaxis": {
            "backgroundcolor": "#E5ECF6",
            "gridcolor": "white",
            "gridwidth": 2,
            "linecolor": "white",
            "showbackground": true,
            "ticks": "",
            "zerolinecolor": "white"
           },
           "yaxis": {
            "backgroundcolor": "#E5ECF6",
            "gridcolor": "white",
            "gridwidth": 2,
            "linecolor": "white",
            "showbackground": true,
            "ticks": "",
            "zerolinecolor": "white"
           },
           "zaxis": {
            "backgroundcolor": "#E5ECF6",
            "gridcolor": "white",
            "gridwidth": 2,
            "linecolor": "white",
            "showbackground": true,
            "ticks": "",
            "zerolinecolor": "white"
           }
          },
          "shapedefaults": {
           "line": {
            "color": "#2a3f5f"
           }
          },
          "ternary": {
           "aaxis": {
            "gridcolor": "white",
            "linecolor": "white",
            "ticks": ""
           },
           "baxis": {
            "gridcolor": "white",
            "linecolor": "white",
            "ticks": ""
           },
           "bgcolor": "#E5ECF6",
           "caxis": {
            "gridcolor": "white",
            "linecolor": "white",
            "ticks": ""
           }
          },
          "title": {
           "x": 0.05
          },
          "xaxis": {
           "automargin": true,
           "gridcolor": "white",
           "linecolor": "white",
           "ticks": "",
           "title": {
            "standoff": 15
           },
           "zerolinecolor": "white",
           "zerolinewidth": 2
          },
          "yaxis": {
           "automargin": true,
           "gridcolor": "white",
           "linecolor": "white",
           "ticks": "",
           "title": {
            "standoff": 15
           },
           "zerolinecolor": "white",
           "zerolinewidth": 2
          }
         }
        }
       }
      },
      "text/html": [
       "<div>                            <div id=\"0c01b9bd-d289-4730-a115-4b08e1e3136f\" class=\"plotly-graph-div\" style=\"height:525px; width:100%;\"></div>            <script type=\"text/javascript\">                require([\"plotly\"], function(Plotly) {                    window.PLOTLYENV=window.PLOTLYENV || {};                                    if (document.getElementById(\"0c01b9bd-d289-4730-a115-4b08e1e3136f\")) {                    Plotly.newPlot(                        \"0c01b9bd-d289-4730-a115-4b08e1e3136f\",                        [{\"coloraxis\":\"coloraxis\",\"geo\":\"geo\",\"hovertemplate\":\"<b>%{hovertext}</b><br><br>ISO=%{location}<br>prize=%{z}<extra></extra>\",\"hovertext\":[\"Algeria\",\"Argentina\",\"Australia\",\"Austria\",\"Azerbaijan\",\"Bangladesh\",\"Belarus\",\"Belgium\",\"Bosnia and Herzegovina\",\"Brazil\",\"Bulgaria\",\"Canada\",\"Chile\",\"China\",\"Colombia\",\"Costa Rica\",\"Croatia\",\"Cyprus\",\"Czech Republic\",\"Democratic Republic of the Congo\",\"Denmark\",\"East Timor\",\"Egypt\",\"Ethiopia\",\"Finland\",\"France\",\"Germany\",\"Ghana\",\"Greece\",\"Guadeloupe Island\",\"Guatemala\",\"Hungary\",\"Iceland\",\"India\",\"Indonesia\",\"Iran\",\"Iraq\",\"Ireland\",\"Israel\",\"Italy\",\"Japan\",\"Kenya\",\"Korea (South Korea)\",\"Latvia\",\"Liberia\",\"Lithuania\",\"Luxembourg\",\"Madagascar\",\"Mexico\",\"Morocco\",\"Netherlands\",\"New Zealand\",\"Nigeria\",\"Norway\",\"Not Available\",\"Pakistan\",\"Peru\",\"Poland\",\"Portugal\",\"Romania\",\"Russia\",\"Saint Lucia\",\"Slovakia\",\"Slovenia\",\"South Africa\",\"Spain\",\"Sweden\",\"Switzerland\",\"Taiwan\",\"Trinidad\",\"Turkey\",\"Ukraine\",\"United Kingdom\",\"United States of America\",\"Venezuela\",\"Yemen\",\"Zimbabwe\"],\"locations\":[\"DZA\",\"ARG\",\"AUS\",\"AUT\",\"AZE\",\"BGD\",\"BLR\",\"BEL\",\"BIH\",\"BRA\",\"BGR\",\"CAN\",\"CHL\",\"CHN\",\"COL\",\"CRI\",\"HRV\",\"CYP\",\"CZE\",\"COD\",\"DNK\",\"DOM\",\"EGY\",\"ETH\",\"FIN\",\"FRA\",\"DEU\",\"GHA\",\"GRC\",\"GLP\",\"GTM\",\"HUN\",\"ISL\",\"IND\",\"IDN\",\"IRN\",\"IRQ\",\"IRL\",\"ISR\",\"ITA\",\"JPN\",\"KEN\",\"KOR\",\"LVA\",\"LBR\",\"LTU\",\"LUX\",\"MDG\",\"MEX\",\"MAR\",\"NLD\",\"NZL\",\"NGA\",\"NOR\",\"Not Available\",\"PAK\",\"PER\",\"POL\",\"PRT\",\"ROU\",\"RUS\",\"LCA\",\"SVK\",\"SVN\",\"ZAF\",\"ESP\",\"SWE\",\"CHE\",\"SYR\",\"TON\",\"TUR\",\"UKR\",\"GBR\",\"USA\",\"VEN\",\"YEM\",\"ZWE\"],\"name\":\"\",\"z\":[2,4,10,18,1,1,4,9,2,1,1,20,2,11,2,1,1,1,6,1,12,2,6,1,5,57,84,1,1,1,2,9,1,9,1,2,1,5,6,19,27,1,2,1,2,3,2,1,3,1,18,3,1,12,32,3,1,27,2,4,26,2,1,1,9,7,29,19,1,1,3,5,105,281,1,1,1],\"type\":\"choropleth\"}],                        {\"template\":{\"data\":{\"histogram2dcontour\":[{\"type\":\"histogram2dcontour\",\"colorbar\":{\"outlinewidth\":0,\"ticks\":\"\"},\"colorscale\":[[0.0,\"#0d0887\"],[0.1111111111111111,\"#46039f\"],[0.2222222222222222,\"#7201a8\"],[0.3333333333333333,\"#9c179e\"],[0.4444444444444444,\"#bd3786\"],[0.5555555555555556,\"#d8576b\"],[0.6666666666666666,\"#ed7953\"],[0.7777777777777778,\"#fb9f3a\"],[0.8888888888888888,\"#fdca26\"],[1.0,\"#f0f921\"]]}],\"choropleth\":[{\"type\":\"choropleth\",\"colorbar\":{\"outlinewidth\":0,\"ticks\":\"\"}}],\"histogram2d\":[{\"type\":\"histogram2d\",\"colorbar\":{\"outlinewidth\":0,\"ticks\":\"\"},\"colorscale\":[[0.0,\"#0d0887\"],[0.1111111111111111,\"#46039f\"],[0.2222222222222222,\"#7201a8\"],[0.3333333333333333,\"#9c179e\"],[0.4444444444444444,\"#bd3786\"],[0.5555555555555556,\"#d8576b\"],[0.6666666666666666,\"#ed7953\"],[0.7777777777777778,\"#fb9f3a\"],[0.8888888888888888,\"#fdca26\"],[1.0,\"#f0f921\"]]}],\"heatmap\":[{\"type\":\"heatmap\",\"colorbar\":{\"outlinewidth\":0,\"ticks\":\"\"},\"colorscale\":[[0.0,\"#0d0887\"],[0.1111111111111111,\"#46039f\"],[0.2222222222222222,\"#7201a8\"],[0.3333333333333333,\"#9c179e\"],[0.4444444444444444,\"#bd3786\"],[0.5555555555555556,\"#d8576b\"],[0.6666666666666666,\"#ed7953\"],[0.7777777777777778,\"#fb9f3a\"],[0.8888888888888888,\"#fdca26\"],[1.0,\"#f0f921\"]]}],\"heatmapgl\":[{\"type\":\"heatmapgl\",\"colorbar\":{\"outlinewidth\":0,\"ticks\":\"\"},\"colorscale\":[[0.0,\"#0d0887\"],[0.1111111111111111,\"#46039f\"],[0.2222222222222222,\"#7201a8\"],[0.3333333333333333,\"#9c179e\"],[0.4444444444444444,\"#bd3786\"],[0.5555555555555556,\"#d8576b\"],[0.6666666666666666,\"#ed7953\"],[0.7777777777777778,\"#fb9f3a\"],[0.8888888888888888,\"#fdca26\"],[1.0,\"#f0f921\"]]}],\"contourcarpet\":[{\"type\":\"contourcarpet\",\"colorbar\":{\"outlinewidth\":0,\"ticks\":\"\"}}],\"contour\":[{\"type\":\"contour\",\"colorbar\":{\"outlinewidth\":0,\"ticks\":\"\"},\"colorscale\":[[0.0,\"#0d0887\"],[0.1111111111111111,\"#46039f\"],[0.2222222222222222,\"#7201a8\"],[0.3333333333333333,\"#9c179e\"],[0.4444444444444444,\"#bd3786\"],[0.5555555555555556,\"#d8576b\"],[0.6666666666666666,\"#ed7953\"],[0.7777777777777778,\"#fb9f3a\"],[0.8888888888888888,\"#fdca26\"],[1.0,\"#f0f921\"]]}],\"surface\":[{\"type\":\"surface\",\"colorbar\":{\"outlinewidth\":0,\"ticks\":\"\"},\"colorscale\":[[0.0,\"#0d0887\"],[0.1111111111111111,\"#46039f\"],[0.2222222222222222,\"#7201a8\"],[0.3333333333333333,\"#9c179e\"],[0.4444444444444444,\"#bd3786\"],[0.5555555555555556,\"#d8576b\"],[0.6666666666666666,\"#ed7953\"],[0.7777777777777778,\"#fb9f3a\"],[0.8888888888888888,\"#fdca26\"],[1.0,\"#f0f921\"]]}],\"mesh3d\":[{\"type\":\"mesh3d\",\"colorbar\":{\"outlinewidth\":0,\"ticks\":\"\"}}],\"scatter\":[{\"fillpattern\":{\"fillmode\":\"overlay\",\"size\":10,\"solidity\":0.2},\"type\":\"scatter\"}],\"parcoords\":[{\"type\":\"parcoords\",\"line\":{\"colorbar\":{\"outlinewidth\":0,\"ticks\":\"\"}}}],\"scatterpolargl\":[{\"type\":\"scatterpolargl\",\"marker\":{\"colorbar\":{\"outlinewidth\":0,\"ticks\":\"\"}}}],\"bar\":[{\"error_x\":{\"color\":\"#2a3f5f\"},\"error_y\":{\"color\":\"#2a3f5f\"},\"marker\":{\"line\":{\"color\":\"#E5ECF6\",\"width\":0.5},\"pattern\":{\"fillmode\":\"overlay\",\"size\":10,\"solidity\":0.2}},\"type\":\"bar\"}],\"scattergeo\":[{\"type\":\"scattergeo\",\"marker\":{\"colorbar\":{\"outlinewidth\":0,\"ticks\":\"\"}}}],\"scatterpolar\":[{\"type\":\"scatterpolar\",\"marker\":{\"colorbar\":{\"outlinewidth\":0,\"ticks\":\"\"}}}],\"histogram\":[{\"marker\":{\"pattern\":{\"fillmode\":\"overlay\",\"size\":10,\"solidity\":0.2}},\"type\":\"histogram\"}],\"scattergl\":[{\"type\":\"scattergl\",\"marker\":{\"colorbar\":{\"outlinewidth\":0,\"ticks\":\"\"}}}],\"scatter3d\":[{\"type\":\"scatter3d\",\"line\":{\"colorbar\":{\"outlinewidth\":0,\"ticks\":\"\"}},\"marker\":{\"colorbar\":{\"outlinewidth\":0,\"ticks\":\"\"}}}],\"scattermapbox\":[{\"type\":\"scattermapbox\",\"marker\":{\"colorbar\":{\"outlinewidth\":0,\"ticks\":\"\"}}}],\"scatterternary\":[{\"type\":\"scatterternary\",\"marker\":{\"colorbar\":{\"outlinewidth\":0,\"ticks\":\"\"}}}],\"scattercarpet\":[{\"type\":\"scattercarpet\",\"marker\":{\"colorbar\":{\"outlinewidth\":0,\"ticks\":\"\"}}}],\"carpet\":[{\"aaxis\":{\"endlinecolor\":\"#2a3f5f\",\"gridcolor\":\"white\",\"linecolor\":\"white\",\"minorgridcolor\":\"white\",\"startlinecolor\":\"#2a3f5f\"},\"baxis\":{\"endlinecolor\":\"#2a3f5f\",\"gridcolor\":\"white\",\"linecolor\":\"white\",\"minorgridcolor\":\"white\",\"startlinecolor\":\"#2a3f5f\"},\"type\":\"carpet\"}],\"table\":[{\"cells\":{\"fill\":{\"color\":\"#EBF0F8\"},\"line\":{\"color\":\"white\"}},\"header\":{\"fill\":{\"color\":\"#C8D4E3\"},\"line\":{\"color\":\"white\"}},\"type\":\"table\"}],\"barpolar\":[{\"marker\":{\"line\":{\"color\":\"#E5ECF6\",\"width\":0.5},\"pattern\":{\"fillmode\":\"overlay\",\"size\":10,\"solidity\":0.2}},\"type\":\"barpolar\"}],\"pie\":[{\"automargin\":true,\"type\":\"pie\"}]},\"layout\":{\"autotypenumbers\":\"strict\",\"colorway\":[\"#636efa\",\"#EF553B\",\"#00cc96\",\"#ab63fa\",\"#FFA15A\",\"#19d3f3\",\"#FF6692\",\"#B6E880\",\"#FF97FF\",\"#FECB52\"],\"font\":{\"color\":\"#2a3f5f\"},\"hovermode\":\"closest\",\"hoverlabel\":{\"align\":\"left\"},\"paper_bgcolor\":\"white\",\"plot_bgcolor\":\"#E5ECF6\",\"polar\":{\"bgcolor\":\"#E5ECF6\",\"angularaxis\":{\"gridcolor\":\"white\",\"linecolor\":\"white\",\"ticks\":\"\"},\"radialaxis\":{\"gridcolor\":\"white\",\"linecolor\":\"white\",\"ticks\":\"\"}},\"ternary\":{\"bgcolor\":\"#E5ECF6\",\"aaxis\":{\"gridcolor\":\"white\",\"linecolor\":\"white\",\"ticks\":\"\"},\"baxis\":{\"gridcolor\":\"white\",\"linecolor\":\"white\",\"ticks\":\"\"},\"caxis\":{\"gridcolor\":\"white\",\"linecolor\":\"white\",\"ticks\":\"\"}},\"coloraxis\":{\"colorbar\":{\"outlinewidth\":0,\"ticks\":\"\"}},\"colorscale\":{\"sequential\":[[0.0,\"#0d0887\"],[0.1111111111111111,\"#46039f\"],[0.2222222222222222,\"#7201a8\"],[0.3333333333333333,\"#9c179e\"],[0.4444444444444444,\"#bd3786\"],[0.5555555555555556,\"#d8576b\"],[0.6666666666666666,\"#ed7953\"],[0.7777777777777778,\"#fb9f3a\"],[0.8888888888888888,\"#fdca26\"],[1.0,\"#f0f921\"]],\"sequentialminus\":[[0.0,\"#0d0887\"],[0.1111111111111111,\"#46039f\"],[0.2222222222222222,\"#7201a8\"],[0.3333333333333333,\"#9c179e\"],[0.4444444444444444,\"#bd3786\"],[0.5555555555555556,\"#d8576b\"],[0.6666666666666666,\"#ed7953\"],[0.7777777777777778,\"#fb9f3a\"],[0.8888888888888888,\"#fdca26\"],[1.0,\"#f0f921\"]],\"diverging\":[[0,\"#8e0152\"],[0.1,\"#c51b7d\"],[0.2,\"#de77ae\"],[0.3,\"#f1b6da\"],[0.4,\"#fde0ef\"],[0.5,\"#f7f7f7\"],[0.6,\"#e6f5d0\"],[0.7,\"#b8e186\"],[0.8,\"#7fbc41\"],[0.9,\"#4d9221\"],[1,\"#276419\"]]},\"xaxis\":{\"gridcolor\":\"white\",\"linecolor\":\"white\",\"ticks\":\"\",\"title\":{\"standoff\":15},\"zerolinecolor\":\"white\",\"automargin\":true,\"zerolinewidth\":2},\"yaxis\":{\"gridcolor\":\"white\",\"linecolor\":\"white\",\"ticks\":\"\",\"title\":{\"standoff\":15},\"zerolinecolor\":\"white\",\"automargin\":true,\"zerolinewidth\":2},\"scene\":{\"xaxis\":{\"backgroundcolor\":\"#E5ECF6\",\"gridcolor\":\"white\",\"linecolor\":\"white\",\"showbackground\":true,\"ticks\":\"\",\"zerolinecolor\":\"white\",\"gridwidth\":2},\"yaxis\":{\"backgroundcolor\":\"#E5ECF6\",\"gridcolor\":\"white\",\"linecolor\":\"white\",\"showbackground\":true,\"ticks\":\"\",\"zerolinecolor\":\"white\",\"gridwidth\":2},\"zaxis\":{\"backgroundcolor\":\"#E5ECF6\",\"gridcolor\":\"white\",\"linecolor\":\"white\",\"showbackground\":true,\"ticks\":\"\",\"zerolinecolor\":\"white\",\"gridwidth\":2}},\"shapedefaults\":{\"line\":{\"color\":\"#2a3f5f\"}},\"annotationdefaults\":{\"arrowcolor\":\"#2a3f5f\",\"arrowhead\":0,\"arrowwidth\":1},\"geo\":{\"bgcolor\":\"white\",\"landcolor\":\"#E5ECF6\",\"subunitcolor\":\"white\",\"showland\":true,\"showlakes\":true,\"lakecolor\":\"white\"},\"title\":{\"x\":0.05},\"mapbox\":{\"style\":\"light\"}}},\"geo\":{\"domain\":{\"x\":[0.0,1.0],\"y\":[0.0,1.0]},\"center\":{}},\"coloraxis\":{\"colorbar\":{\"title\":{\"text\":\"prize\"}},\"colorscale\":[[0.0,\"rgb(228, 241, 225)\"],[0.16666666666666666,\"rgb(180, 217, 204)\"],[0.3333333333333333,\"rgb(137, 192, 182)\"],[0.5,\"rgb(99, 166, 160)\"],[0.6666666666666666,\"rgb(68, 140, 138)\"],[0.8333333333333334,\"rgb(40, 114, 116)\"],[1.0,\"rgb(13, 88, 95)\"]],\"showscale\":true},\"legend\":{\"tracegroupgap\":0},\"margin\":{\"t\":60}},                        {\"responsive\": true}                    ).then(function(){\n",
       "                            \n",
       "var gd = document.getElementById('0c01b9bd-d289-4730-a115-4b08e1e3136f');\n",
       "var x = new MutationObserver(function (mutations, observer) {{\n",
       "        var display = window.getComputedStyle(gd).display;\n",
       "        if (!display || display === 'none') {{\n",
       "            console.log([gd, 'removed!']);\n",
       "            Plotly.purge(gd);\n",
       "            observer.disconnect();\n",
       "        }}\n",
       "}});\n",
       "\n",
       "// Listen for the removal of the full notebook cells\n",
       "var notebookContainer = gd.closest('#notebook-container');\n",
       "if (notebookContainer) {{\n",
       "    x.observe(notebookContainer, {childList: true});\n",
       "}}\n",
       "\n",
       "// Listen for the clearing of the current output cell\n",
       "var outputEl = gd.closest('.output');\n",
       "if (outputEl) {{\n",
       "    x.observe(outputEl, {childList: true});\n",
       "}}\n",
       "\n",
       "                        })                };                });            </script>        </div>"
      ]
     },
     "metadata": {},
     "output_type": "display_data"
    }
   ],
   "source": [
    "df_countries = df.groupby(['birth_country_current', 'ISO'], \n",
    "                               as_index=False).agg({'prize': pd.Series.count})\n",
    "df_countries.sort_values('prize', ascending=False)\n",
    "world_map = px.choropleth(df_countries,\n",
    "                          locations='ISO',\n",
    "                          color='prize', \n",
    "                          hover_name='birth_country_current', \n",
    "                          color_continuous_scale='Mint')\n",
    " \n",
    "world_map.update_layout(coloraxis_showscale=True,)\n",
    " \n",
    "world_map.show()\n"
   ]
  },
  {
   "cell_type": "code",
   "execution_count": 204,
   "metadata": {},
   "outputs": [
    {
     "data": {
      "application/vnd.plotly.v1+json": {
       "config": {
        "plotlyServerURL": "https://plot.ly"
       },
       "data": [
        {
         "branchvalues": "total",
         "domain": {
          "x": [
           0,
           1
          ],
          "y": [
           0,
           1
          ]
         },
         "hovertemplate": "labels=%{label}<br>prize=%{value}<br>parent=%{parent}<br>id=%{id}<extra></extra>",
         "ids": [
          "Russia/St. Petersburg/A.F. Ioffe Physico-Technical Institute",
          "Denmark/Aarhus/Aarhus University",
          "Russia/Moscow/Academy of Sciences",
          "Not Available/Not Available/American Friends Service Committee (The Quakers)",
          "Not Available/Not Available/Amnesty International",
          "Netherlands/Amsterdam/Amsterdam University",
          "United States of America/Argonne, IL/Argonne National Laboratory",
          "United States of America/Tempe, AZ/Arizona State University",
          "Japan/Tokyo/Asahi Kasei Corporation",
          "United States of America/Washington, DC/Associated Universities Inc.",
          "United Kingdom/Harwell, Berkshire/Atomic Energy Research Establishment",
          "Not Available/Not Available/Aung San Suu Kyi",
          "Australia/Canberra/Australian National University",
          "Australia/Weston Creek/Australian National University",
          "Switzerland/Basel/Basel Institute for Immunology",
          "Switzerland/Basel/Basel University",
          "United States of America/Holmdel, NJ/Bell Laboratories",
          "United States of America/Murray Hill, NJ/Bell Laboratories",
          "United States of America/New York, NY/Bell Laboratories",
          "Germany/Berlin/Berlin University",
          "Switzerland/Berne/Berne University",
          "United States of America/New York, NY/Binghamton University State University of New York",
          "Switzerland/Basel/Biozentrum der Universität",
          "United Kingdom/Birmingham/Birmingham University",
          "United States of America/Waltham MA/Brandeis University",
          "United States of America/Boston, MA/Brigham and Women's Hospital",
          "United Kingdom/Bristol/Bristol University",
          "United States of America/Providence, RI/Brown University",
          "Belgium/Brussels/Brussels University",
          "France/Sèvres/Bureau International des Poids et Mesures (International Bureau of Weights and Measures)",
          "Not Available/Not Available/Bureau international permanent de la Paix (Permanent International Peace Bureau)",
          "Switzerland/Geneva/CERN",
          "India/Calcutta/Calcutta University",
          "Not Available/Not Available/California Institute of Technology (Caltech)",
          "United States of America/Pasadena, CA/California Institute of Technology (Caltech)",
          "United Kingdom/Cardiff/Cardiff University",
          "United States of America/New York, NY/Carnegie Institution of Washington",
          "United States of America/Pittsburgh, PA/Carnegie Mellon University",
          "United States of America/Fairfax, VA/Center for Study of Public Choice",
          "United Kingdom/London/Central Research Laboratories, EMI",
          "United States of America/Boston, MA/Children's Medical Center",
          "China/Beijing/China Academy of Traditional Chinese Medicine",
          "United States of America/New York, NY/City University of New York",
          "United States of America/Cold Spring Harbor, NY/Cold Spring Harbor Laboratory",
          "France/Paris/Collège de France",
          "Germany/Cologne/Cologne University",
          "United States of America/New York, NY/Columbia University",
          "Not Available/Not Available/Columbia University",
          "Not Available/Not Available/Comité international de la Croix Rouge (International Committee of the Red Cross)",
          "Denmark/Copenhagen/Copenhagen University",
          "United States of America/Ithaca, NY/Cornell University",
          "United Kingdom/London/Department of Scientific and Industrial Research",
          "United States of America/Mountain View, CA/Digital Pathways, Inc.",
          "United States of America/Madison, NJ/Drew University",
          "United States of America/Wilmington, DE/Du Pont",
          "United Kingdom/Edinburgh/Edinburgh University",
          "Switzerland/Zurich/Eidgenössische Technische Hochschule (Swiss Federal Institute of Technology)",
          "Not Available/Not Available/European Union (EU)",
          "United States of America/Batavia, IL/Fermi National Accelerator Laboratory",
          "Denmark/Copenhagen/Finsen Medical Light Institute",
          "Germany/J&uuml;lich/Forschungszentrum J&uuml;lich",
          "United Kingdom/Hertfordshire/Francis Crick Institute",
          "Germany/Frankfurt-on-the-Main/Frankfurt-on-the-Main University",
          "United States of America/Seattle, WA/Fred Hutchinson Cancer Research Center",
          "Not Available/Not Available/Friends Service Council (The Quakers)",
          "Germany/Berlin-Dahlem/Fritz-Haber-Institut",
          "Germany/Berlin/Fritz-Haber-Institut der Max-Planck-Gesellschaft",
          "United States of America/Schenectady, NY/General Electric Company",
          "United States of America/Fairfax, VA/George Mason University",
          "Germany/Heidelberg/German Cancer Research Center",
          "Belgium/Ghent/Ghent University",
          "United Kingdom/Bodmin/Glynn Research Laboratories",
          "Germany/Göttingen/Goettingen University",
          "Not Available/Not Available/Grameen Bank",
          "Austria/Graz/Graz University",
          "Germany/Greifswald/Greifswald University",
          "Netherlands/Groningen/Groningen University",
          "United Kingdom/Cambridge/Gurdon Institute",
          "Sweden/Gothenburg/Göteborg University",
          "Germany/Halle/Halle University",
          "United States of America/Boston, MA/Harvard Medical School",
          "United States of America/Cambridge, MA/Harvard University",
          "Not Available/Not Available/Harvard University",
          "Japan/Tsukuba/High Energy Accelerator Research Organization (KEK)",
          "Japan/Sapporo/Hokkaido University",
          "United States of America/Chevy Chase/Howard Hughes Medical Institute",
          "United States of America/Durham, NC/Howard Hughes Medical Institute",
          "United States of America/Yorktown Heights, NY/IBM Thomas J. Watson Research Center",
          "Switzerland/Rüschlikon/IBM Zurich Research Laboratory",
          "United Kingdom/London/Imperial Cancer Research Fund",
          "United Kingdom/London/Imperial College",
          "United States of America/Bloomington, IN/Indiana University",
          "Austria/Innsbruck/Innsbruck University",
          "France/Rueil-Malmaison/Institut Français du Pétrole",
          "France/Paris/Institut Pasteur",
          "Tunisia/Tunis/Institut Pasteur",
          "Not Available/Not Available/Institut de droit international (Institute of International Law)",
          "France/Paris/Institut du Radium",
          "United States of America/Princeton, NJ/Institute for Advanced Study",
          "Argentina/Buenos Aires/Institute for Biochemical Research",
          "Russia/Moscow/Institute for Chemical Physics of the Academy of Sciences of the USSR",
          "Germany/Berlin/Institute for Infectious Diseases",
          "Italy/Rome/Institute of Cell Biology of the C.N.R.",
          "United Kingdom/Cambridge/Institute of Physical Chemistry",
          "Italy/Milan/Institute of Technology",
          "Argentina/Buenos Aires/Instituto de Biologia y Medicina Experimental (Institute for Biology and Experimental Medicine)",
          "Not Available/Not Available/Intergovernmental Panel on Climate Change (IPCC)",
          "Not Available/Not Available/International Atomic Energy Agency (IAEA)",
          "Not Available/Not Available/International Campaign to Abolish Nuclear Weapons (ICAN)",
          "Not Available/Not Available/International Campaign to Ban Landmines (ICBL)",
          "Italy/Trieste/International Centre for Theoretical Physics",
          "Not Available/Not Available/International Labour Organization (I.L.O.)",
          "Not Available/Not Available/International Physicians for the Prevention of Nuclear War",
          "Italy/Rome/Istituto Superiore di Sanità (Chief Institute of Public Health)",
          "United States of America/Bar Harbor, ME/Jackson Laboratory",
          "United States of America/Ashburn, VA/Janelia Research Campus, Howard Hughes Medical Institute",
          "United States of America/Baltimore, MD/Johns Hopkins University",
          "Sweden/Stockholm/Karolinska Institutet",
          "Germany/Kiel/Kiel University",
          "Japan/Tokyo/Kitasato University",
          "Austria/Altenberg; Grünau im Almtal/Konrad-Lorenz-Institut der Österreichischen Akademie der Wissen­schaften, Forschungsstelle für Ethologie",
          "Japan/Kyoto/Kyoto Sangyo University",
          "Japan/Kyoto/Kyoto University",
          "Not Available/Not Available/LIGO/VIRGO Collaboration",
          "United States of America/New York, NY/Laboratories of the Division of Medicine and Public Health, Rockefeller Foundation",
          "Switzerland/Basel/Laboratorium der Farben-Fabriken J.R. Geigy A.G. (Laboratory of the J.R. Geigy Dye-Factory Co.)",
          "Germany/Berlin/Landwirtschaftliche Hochschule (Agricultural College)",
          "United States of America/Berkeley, CA/Lawrence Berkeley National Laboratory",
          "Not Available/Not Available/Le Duc Tho",
          "Netherlands/Leiden/Leiden University",
          "Germany/Leipzig/Leipzig University",
          "Not Available/Not Available/Ligue des Sociétés de la Croix-Rouge (League of Red Cross Societies)",
          "United Kingdom/Liverpool/Liverpool University",
          "United Kingdom/London/London School of Economics and Political Science",
          "United Kingdom/London/London University",
          "United States of America/Greenwich, CT/Long Term Capital Management",
          "United Kingdom/Cambridge/MRC Laboratory of Molecular Biology",
          "Spain/Madrid/Madrid University",
          "Germany/Mainz/Mainz University",
          "Germany/Marburg/Marburg University",
          "United Kingdom/London/Marconi Wireless Telegraph Co. Ltd.",
          "United States of America/Woods Hole, MA/Marine Biological Laboratory (MBL)",
          "United States of America/Cambridge, MA/Massachusetts Institute of Technology (MIT)",
          "Germany/Berlin/Max-Planck Institut",
          "Germany/Berlin-Dahlem/Max-Planck Institut",
          "Germany/Heidelberg/Max-Planck Institut",
          "Germany/Berlin/Max-Planck-Institut",
          "Germany/Frankfurt-on-the-Main/Max-Planck-Institut",
          "Germany/Garching/Max-Planck-Institut",
          "Germany/Göttingen/Max-Planck-Institut",
          "Germany/Heidelberg/Max-Planck-Institut",
          "Germany/Mainz/Max-Planck-Institut",
          "Germany/Martinsried/Max-Planck-Institut",
          "Germany/Munich/Max-Planck-Institut",
          "Germany/Mülheim/Ruhr/Max-Planck-Institut",
          "Germany/Stuttgart/Max-Planck-Institut",
          "Germany/Tübingen/Max-Planck-Institut",
          "United States of America/Rochester, MN/Mayo Clinic",
          "Canada/Hamilton, Ontario/McMaster University",
          "Japan/Nagoya/Meijo University",
          "Russia/St. Petersburg/Military Medical Academy",
          "Not Available/Not Available/Mother Teresa",
          "Germany/Munich/Munich University",
          "Germany/Munster/Munster University",
          "Not Available/Not Available/Médecins Sans Frontières",
          "United States of America/Greenbelt, MD/NASA Goddard Space Flight Center",
          "Australia/Nedlands/NHMRC Helicobacter pylori Research Laboratory, QEII Medical Centre",
          "Japan/Nagoya/Nagoya University",
          "France/Nancy/Nancy University",
          "Not Available/Not Available/National Dialogue Quartet",
          "United Kingdom/London/National Institute for Medical Research",
          "United States of America/Research Triangle Park, NC/National Institute of Environmental Health Sciences",
          "United States of America/Boulder, CO/National Institute of Standards and Technology",
          "United States of America/Gaithersburg, MD/National Institute of Standards and Technology",
          "United States of America/Bethesda, MD/National Institutes of Health",
          "Canada/Ottawa/National Research Council of Canada",
          "United States of America/Beverly, MA/New England Biolabs",
          "United States of America/New York, NY/New York University",
          "Denmark/Copenhagen/Niels Bohr Institute",
          "Denmark/Copenhagen/Nordita",
          "United States of America/Evanston, IL/Northwestern University",
          "Norway/Trondheim/Norwegian University of Science and Technology (NTNU)",
          "Netherlands/Bilthoven/Not affiliated",
          "United States of America/La Jolla, CA/Not affiliated",
          "Not Available/Not Available/Not affiliated",
          "Australia/Perth/Not affiliated",
          "United States of America/St. Louis, MO/Not affiliated",
          "Not Available/Not Available/Office international Nansen pour les Réfugiés (Nansen International Office for Refugees)",
          "Not Available/Not Available/Office of the United Nations High Commissioner for Refugees (UNHCR)",
          "Not Available/Not Available/Organisation for the Prohibition of Chemical Weapons (OPCW)",
          "Russia/Moscow/P.N. Lebedev Physical Institute",
          "United States of America/San Francisco, CA/Parker Institute for Cancer Immunotherapy",
          "Italy/Pavia/Pavia University",
          "Czech Republic/Prague/Polarographic Institute of the Czechoslovak Academy of Science",
          "Denmark/Copenhagen/Polytechnic Institute",
          "United States of America/Princeton, NJ/Princeton University",
          "Not Available/Not Available/Pugwash Conferences on Science and World Affairs",
          "United States of America/West Lafayette, IN/Purdue University",
          "Canada/Kingston/Queen's University",
          "Germany/Bonn/Rheinische Friedrich-Wilhelms-Universität",
          "United States of America/Houston, TX/Rice University",
          "United States of America/New York, NY/Rockefeller Institute for Medical Research",
          "United States of America/Princeton, NJ/Rockefeller Institute for Medical Research",
          "United States of America/New York, NY/Rockefeller University",
          "Italy/Rome/Rome University",
          "United Kingdom/Bucksburn (Scotland)/Rowett Research Institute",
          "Sweden/Stockholm/Royal Institute of Technology",
          "United Kingdom/London/Royal Institution of Great Britain",
          "United States of America/New Brunswick, NJ/Rutgers University",
          "United States of America/New York, NY/SUNY Health Science Center",
          "United States of America/St. Louis, MO/Saint Louis University",
          "United States of America/Mountain View, CA/Semiconductor Laboratory of Beckman Instruments, Inc.",
          "United Kingdom/Sheffield/Sheffield University",
          "Japan/Kyoto/Shimadzu Corp.",
          "Not Available/Not Available/Sorbonne University",
          "France/Paris/Sorbonne University",
          "United States of America/Memphis, TN/St. Jude Children's Research Hospital",
          "United Kingdom/Harlow/Standard Telecommunication Laboratories",
          "United States of America/Stanford, CA/Stanford Linear Accelerator Center",
          "United States of America/Stanford, CA/Stanford University",
          "Sweden/Stockholm/Stockholm School of Economics",
          "Sweden/Stockholm/Stockholm University",
          "France/Strasbourg/Strasbourg University",
          "Sweden/Lidingö-Stockholm/Swedish Gas-Accumulator Co.",
          "Hungary/Szeged/Szeged University",
          "Germany/Munich/Technical University",
          "Israel/Haifa/Technion - Israel Institute of Technology",
          "Germany/Munich/Technische Hochschule (Institute of Technology)",
          "United States of America/Dallas, TX/Texas Instruments",
          "Not Available/Not Available/The 14th Dalai Lama (Tenzin Gyatso)",
          "United States of America/Philadelphia, PA/The Institute for Cancer Research",
          "United States of America/Buffalo, NY/The Medical Foundation of Buffalo",
          "United States of America/Berkeley, CA/The Molecular Sciences Institute",
          "Netherlands/Rotterdam/The Netherlands School of Economics",
          "United States of America/San Diego, CA/The Salk Institute",
          "United States of America/La Jolla, CA/The Scripps Research Institute",
          "United Kingdom/Beckenham/The Wellcome Research Laboratories",
          "United Kingdom/Cambridge/The Wellcome Trust Sanger Institute",
          "Japan/Tokyo/Tokyo Institute of Technology",
          "Japan/Tokyo/Tokyo University of Education",
          "France/Toulouse/Toulouse School of Economics (TSE)",
          "France/Toulouse/Toulouse University",
          "Ireland/Dublin/Trinity College",
          "United States of America/Medford, MA/Tufts University",
          "United States of America/Washington, DC/US Naval Research Laboratory",
          "Not Available/Not Available/United Nations (U.N.)",
          "Not Available/Not Available/United Nations Children's Fund (UNICEF)",
          "Not Available/Not Available/United Nations Peacekeeping Forces",
          "United Kingdom/Liverpool/University College London",
          "United Kingdom/London/University College London",
          "Canada/Edmonton/University of Alberta",
          "Germany/Bonn/University of Bonn",
          "Canada/Vancouver/University of British Columbia",
          "United States of America/Berkeley, CA/University of California",
          "United States of America/Irvine, CA/University of California",
          "United States of America/Los Angeles, CA/University of California",
          "United States of America/San Diego, CA/University of California",
          "United States of America/San Francisco, CA/University of California",
          "United States of America/Santa Barbara, CA/University of California",
          "United Kingdom/Cambridge/University of Cambridge",
          "United States of America/Chicago, IL/University of Chicago",
          "United States of America/Boulder, CO/University of Colorado",
          "Not Available/Not Available/University of Delaware",
          "United Kingdom/Edinburgh/University of Edinburgh",
          "Germany/Breisgau/University of Freiburg",
          "Switzerland/Geneva/University of Geneva",
          "France/Grenoble/University of Grenoble",
          "Netherlands/Groningen/University of Groningen",
          "Germany/Heidelberg/University of Heidelberg",
          "Finland/Helsinki/University of Helsinki",
          "United States of America/Urbana, IL/University of Illinois",
          "Israel/Jerusalem/University of Jerusalem, Center for Rationality",
          "Switzerland/Lausanne/University of Lausanne",
          "Portugal/Lisbon/University of Lisbon",
          "United States of America/Maine ME/University of Maine",
          "United Kingdom/Manchester/University of Manchester",
          "United States of America/College Park, MD/University of Maryland, Department of Economics and School of Public Policy",
          "United States of America/Worcester, MA/University of Massachusetts Medical School",
          "United States of America/Minneapolis, MN/University of Minnesota",
          "United States of America/Columbia/University of Missouri",
          "Russia/Moscow/University of Moscow",
          "United States of America/Chapel Hill, NC/University of North Carolina",
          "United Kingdom/Nottingham/University of Nottingham, School of Physics and Astronomy",
          "Norway/Oslo/University of Oslo",
          "United Kingdom/Oxford/University of Oxford",
          "United States of America/Philadelphia, PA/University of Pennsylvania",
          "United States of America/Rochester, NY/University of Rochester",
          "United States of America/Los Angeles, CA/University of Southern California",
          "France/Strasbourg/University of Strasbourg",
          "United Kingdom/Brighton/University of Sussex",
          "United States of America/Austin TX/University of Texas",
          "United States of America/Houston, TX/University of Texas",
          "United States of America/Dallas, TX/University of Texas Southwestern Medical Center at Dallas",
          "Japan/Kashiwa/University of Tokyo",
          "Japan/Tokyo/University of Tokyo",
          "Canada/Toronto/University of Toronto",
          "Japan/Tokyo/University of Tsukuba",
          "United States of America/Salt Lake City, UT/University of Utah",
          "United States of America/Seattle, WA/University of Washington",
          "Canada/Waterloo/University of Waterloo",
          "United States of America/Madison, WI/University of Wisconsin",
          "Switzerland/Zurich/University of Zurich",
          "Belgium/Louvain/Université Catholique de Louvain",
          "Belgium/Brussels/Université Libre de Bruxelles",
          "France/Strasbourg/Université Louis Pasteur",
          "France/Orsay/Université Paris-Saclay",
          "France/Paris/Université de Paris, Laboratoire Immuno-Hématologie",
          "France/Strasbourg/Université de Strasbourg",
          "Sweden/Uppsala/Uppsala University",
          "Netherlands/Utrecht/Utrecht University",
          "United States of America/Nashville, TN/Vanderbilt University",
          "United States of America/New Orleans, LA/Veterans Administration Hospital",
          "United States of America/New York, NY/Veterans Administration Hospital",
          "United Kingdom/Manchester/Victoria University",
          "Austria/Vienna/Vienna University",
          "United States of America/Richmond, VA/Virginia Commonwealth University",
          "Australia/Melbourne/Walter and Eliza Hall Institute for Medical Research",
          "United States of America/St. Louis, MO/Washington University",
          "Israel/Rehovot/Weizmann Institute of Science",
          "United States of America/Research Triangle Park, NC/Wellcome Research Laboratories",
          "United States of America/Cleveland, OH/Western Reserve University",
          "Not Available/Not Available/World Food Programme (WFP)",
          "France/Paris/World Foundation for AIDS Research and Prevention",
          "Germany/Würzburg/Würzburg University",
          "United States of America/New Haven, CT/Yale University",
          "France/Paris/École Nationale Supérieur des Mines de Paris",
          "France/Paris/École Normale Supérieure",
          "France/Palaiseau/École Polytechnique",
          "France/Paris/École Polytechnique",
          "France/Paris/École Supérieure de Physique et Chimie",
          "France/Paris/École municipale de physique et de chimie industrielles (Municipal School of Industrial Physics and Chemistry)",
          "Denmark/Aarhus",
          "Austria/Altenberg; Grünau im Almtal",
          "Netherlands/Amsterdam",
          "United States of America/Argonne, IL",
          "United States of America/Ashburn, VA",
          "United States of America/Austin TX",
          "United States of America/Baltimore, MD",
          "United States of America/Bar Harbor, ME",
          "Switzerland/Basel",
          "United States of America/Batavia, IL",
          "United Kingdom/Beckenham",
          "China/Beijing",
          "United States of America/Berkeley, CA",
          "Germany/Berlin",
          "Germany/Berlin-Dahlem",
          "Switzerland/Berne",
          "United States of America/Bethesda, MD",
          "United States of America/Beverly, MA",
          "Netherlands/Bilthoven",
          "United Kingdom/Birmingham",
          "United States of America/Bloomington, IN",
          "United Kingdom/Bodmin",
          "Germany/Bonn",
          "United States of America/Boston, MA",
          "United States of America/Boulder, CO",
          "Germany/Breisgau",
          "United Kingdom/Brighton",
          "United Kingdom/Bristol",
          "Belgium/Brussels",
          "United Kingdom/Bucksburn (Scotland)",
          "Argentina/Buenos Aires",
          "United States of America/Buffalo, NY",
          "India/Calcutta",
          "United Kingdom/Cambridge",
          "United States of America/Cambridge, MA",
          "Australia/Canberra",
          "United Kingdom/Cardiff",
          "United States of America/Chapel Hill, NC",
          "United States of America/Chevy Chase",
          "United States of America/Chicago, IL",
          "United States of America/Cleveland, OH",
          "United States of America/Cold Spring Harbor, NY",
          "United States of America/College Park, MD",
          "Germany/Cologne",
          "United States of America/Columbia",
          "Denmark/Copenhagen",
          "United States of America/Dallas, TX",
          "Ireland/Dublin",
          "United States of America/Durham, NC",
          "United Kingdom/Edinburgh",
          "Canada/Edmonton",
          "United States of America/Evanston, IL",
          "United States of America/Fairfax, VA",
          "Germany/Frankfurt-on-the-Main",
          "United States of America/Gaithersburg, MD",
          "Germany/Garching",
          "Switzerland/Geneva",
          "Belgium/Ghent",
          "Sweden/Gothenburg",
          "Austria/Graz",
          "United States of America/Greenbelt, MD",
          "United States of America/Greenwich, CT",
          "Germany/Greifswald",
          "France/Grenoble",
          "Netherlands/Groningen",
          "Germany/Göttingen",
          "Israel/Haifa",
          "Germany/Halle",
          "Canada/Hamilton, Ontario",
          "United Kingdom/Harlow",
          "United Kingdom/Harwell, Berkshire",
          "Germany/Heidelberg",
          "Finland/Helsinki",
          "United Kingdom/Hertfordshire",
          "United States of America/Holmdel, NJ",
          "United States of America/Houston, TX",
          "Austria/Innsbruck",
          "United States of America/Irvine, CA",
          "United States of America/Ithaca, NY",
          "Germany/J&uuml;lich",
          "Israel/Jerusalem",
          "Japan/Kashiwa",
          "Germany/Kiel",
          "Canada/Kingston",
          "Japan/Kyoto",
          "United States of America/La Jolla, CA",
          "Switzerland/Lausanne",
          "Netherlands/Leiden",
          "Germany/Leipzig",
          "Sweden/Lidingö-Stockholm",
          "Portugal/Lisbon",
          "United Kingdom/Liverpool",
          "United Kingdom/London",
          "United States of America/Los Angeles, CA",
          "Belgium/Louvain",
          "United States of America/Madison, NJ",
          "United States of America/Madison, WI",
          "Spain/Madrid",
          "United States of America/Maine ME",
          "Germany/Mainz",
          "United Kingdom/Manchester",
          "Germany/Marburg",
          "Germany/Martinsried",
          "United States of America/Medford, MA",
          "Australia/Melbourne",
          "United States of America/Memphis, TN",
          "Italy/Milan",
          "United States of America/Minneapolis, MN",
          "Russia/Moscow",
          "United States of America/Mountain View, CA",
          "Germany/Munich",
          "Germany/Munster",
          "United States of America/Murray Hill, NJ",
          "Germany/Mülheim/Ruhr",
          "Japan/Nagoya",
          "France/Nancy",
          "United States of America/Nashville, TN",
          "Australia/Nedlands",
          "United States of America/New Brunswick, NJ",
          "United States of America/New Haven, CT",
          "United States of America/New Orleans, LA",
          "United States of America/New York, NY",
          "Not Available/Not Available",
          "United Kingdom/Nottingham",
          "France/Orsay",
          "Norway/Oslo",
          "Canada/Ottawa",
          "United Kingdom/Oxford",
          "France/Palaiseau",
          "France/Paris",
          "United States of America/Pasadena, CA",
          "Italy/Pavia",
          "Australia/Perth",
          "United States of America/Philadelphia, PA",
          "United States of America/Pittsburgh, PA",
          "Czech Republic/Prague",
          "United States of America/Princeton, NJ",
          "United States of America/Providence, RI",
          "Israel/Rehovot",
          "United States of America/Research Triangle Park, NC",
          "United States of America/Richmond, VA",
          "United States of America/Rochester, MN",
          "United States of America/Rochester, NY",
          "Italy/Rome",
          "Netherlands/Rotterdam",
          "France/Rueil-Malmaison",
          "Switzerland/Rüschlikon",
          "United States of America/Salt Lake City, UT",
          "United States of America/San Diego, CA",
          "United States of America/San Francisco, CA",
          "United States of America/Santa Barbara, CA",
          "Japan/Sapporo",
          "United States of America/Schenectady, NY",
          "United States of America/Seattle, WA",
          "United Kingdom/Sheffield",
          "United States of America/St. Louis, MO",
          "Russia/St. Petersburg",
          "United States of America/Stanford, CA",
          "Sweden/Stockholm",
          "France/Strasbourg",
          "Germany/Stuttgart",
          "Hungary/Szeged",
          "France/Sèvres",
          "United States of America/Tempe, AZ",
          "Japan/Tokyo",
          "Canada/Toronto",
          "France/Toulouse",
          "Italy/Trieste",
          "Norway/Trondheim",
          "Japan/Tsukuba",
          "Tunisia/Tunis",
          "Germany/Tübingen",
          "Sweden/Uppsala",
          "United States of America/Urbana, IL",
          "Netherlands/Utrecht",
          "Canada/Vancouver",
          "Austria/Vienna",
          "United States of America/Waltham MA",
          "United States of America/Washington, DC",
          "Canada/Waterloo",
          "United States of America/West Lafayette, IN",
          "Australia/Weston Creek",
          "United States of America/Wilmington, DE",
          "United States of America/Woods Hole, MA",
          "United States of America/Worcester, MA",
          "Germany/Würzburg",
          "United States of America/Yorktown Heights, NY",
          "Switzerland/Zurich",
          "Argentina",
          "Australia",
          "Austria",
          "Belgium",
          "Canada",
          "China",
          "Czech Republic",
          "Denmark",
          "Finland",
          "France",
          "Germany",
          "Hungary",
          "India",
          "Ireland",
          "Israel",
          "Italy",
          "Japan",
          "Netherlands",
          "Norway",
          "Not Available",
          "Portugal",
          "Russia",
          "Spain",
          "Sweden",
          "Switzerland",
          "Tunisia",
          "United Kingdom",
          "United States of America"
         ],
         "labels": [
          "A.F. Ioffe Physico-Technical Institute",
          "Aarhus University",
          "Academy of Sciences",
          "American Friends Service Committee (The Quakers)",
          "Amnesty International",
          "Amsterdam University",
          "Argonne National Laboratory",
          "Arizona State University",
          "Asahi Kasei Corporation",
          "Associated Universities Inc.",
          "Atomic Energy Research Establishment",
          "Aung San Suu Kyi",
          "Australian National University",
          "Australian National University",
          "Basel Institute for Immunology",
          "Basel University",
          "Bell Laboratories",
          "Bell Laboratories",
          "Bell Laboratories",
          "Berlin University",
          "Berne University",
          "Binghamton University State University of New York",
          "Biozentrum der Universität",
          "Birmingham University",
          "Brandeis University",
          "Brigham and Women's Hospital",
          "Bristol University",
          "Brown University",
          "Brussels University",
          "Bureau International des Poids et Mesures (International Bureau of Weights and Measures)",
          "Bureau international permanent de la Paix (Permanent International Peace Bureau)",
          "CERN",
          "Calcutta University",
          "California Institute of Technology (Caltech)",
          "California Institute of Technology (Caltech)",
          "Cardiff University",
          "Carnegie Institution of Washington",
          "Carnegie Mellon University",
          "Center for Study of Public Choice",
          "Central Research Laboratories, EMI",
          "Children's Medical Center",
          "China Academy of Traditional Chinese Medicine",
          "City University of New York",
          "Cold Spring Harbor Laboratory",
          "Collège de France",
          "Cologne University",
          "Columbia University",
          "Columbia University",
          "Comité international de la Croix Rouge (International Committee of the Red Cross)",
          "Copenhagen University",
          "Cornell University",
          "Department of Scientific and Industrial Research",
          "Digital Pathways, Inc.",
          "Drew University",
          "Du Pont",
          "Edinburgh University",
          "Eidgenössische Technische Hochschule (Swiss Federal Institute of Technology)",
          "European Union (EU)",
          "Fermi National Accelerator Laboratory",
          "Finsen Medical Light Institute",
          "Forschungszentrum J&uuml;lich",
          "Francis Crick Institute",
          "Frankfurt-on-the-Main University",
          "Fred Hutchinson Cancer Research Center",
          "Friends Service Council (The Quakers)",
          "Fritz-Haber-Institut",
          "Fritz-Haber-Institut der Max-Planck-Gesellschaft",
          "General Electric Company",
          "George Mason University",
          "German Cancer Research Center",
          "Ghent University",
          "Glynn Research Laboratories",
          "Goettingen University",
          "Grameen Bank",
          "Graz University",
          "Greifswald University",
          "Groningen University",
          "Gurdon Institute",
          "Göteborg University",
          "Halle University",
          "Harvard Medical School",
          "Harvard University",
          "Harvard University",
          "High Energy Accelerator Research Organization (KEK)",
          "Hokkaido University",
          "Howard Hughes Medical Institute",
          "Howard Hughes Medical Institute",
          "IBM Thomas J. Watson Research Center",
          "IBM Zurich Research Laboratory",
          "Imperial Cancer Research Fund",
          "Imperial College",
          "Indiana University",
          "Innsbruck University",
          "Institut Français du Pétrole",
          "Institut Pasteur",
          "Institut Pasteur",
          "Institut de droit international (Institute of International Law)",
          "Institut du Radium",
          "Institute for Advanced Study",
          "Institute for Biochemical Research",
          "Institute for Chemical Physics of the Academy of Sciences of the USSR",
          "Institute for Infectious Diseases",
          "Institute of Cell Biology of the C.N.R.",
          "Institute of Physical Chemistry",
          "Institute of Technology",
          "Instituto de Biologia y Medicina Experimental (Institute for Biology and Experimental Medicine)",
          "Intergovernmental Panel on Climate Change (IPCC)",
          "International Atomic Energy Agency (IAEA)",
          "International Campaign to Abolish Nuclear Weapons (ICAN)",
          "International Campaign to Ban Landmines (ICBL)",
          "International Centre for Theoretical Physics",
          "International Labour Organization (I.L.O.)",
          "International Physicians for the Prevention of Nuclear War",
          "Istituto Superiore di Sanità (Chief Institute of Public Health)",
          "Jackson Laboratory",
          "Janelia Research Campus, Howard Hughes Medical Institute",
          "Johns Hopkins University",
          "Karolinska Institutet",
          "Kiel University",
          "Kitasato University",
          "Konrad-Lorenz-Institut der Österreichischen Akademie der Wissen­schaften, Forschungsstelle für Ethologie",
          "Kyoto Sangyo University",
          "Kyoto University",
          "LIGO/VIRGO Collaboration",
          "Laboratories of the Division of Medicine and Public Health, Rockefeller Foundation",
          "Laboratorium der Farben-Fabriken J.R. Geigy A.G. (Laboratory of the J.R. Geigy Dye-Factory Co.)",
          "Landwirtschaftliche Hochschule (Agricultural College)",
          "Lawrence Berkeley National Laboratory",
          "Le Duc Tho",
          "Leiden University",
          "Leipzig University",
          "Ligue des Sociétés de la Croix-Rouge (League of Red Cross Societies)",
          "Liverpool University",
          "London School of Economics and Political Science",
          "London University",
          "Long Term Capital Management",
          "MRC Laboratory of Molecular Biology",
          "Madrid University",
          "Mainz University",
          "Marburg University",
          "Marconi Wireless Telegraph Co. Ltd.",
          "Marine Biological Laboratory (MBL)",
          "Massachusetts Institute of Technology (MIT)",
          "Max-Planck Institut",
          "Max-Planck Institut",
          "Max-Planck Institut",
          "Max-Planck-Institut",
          "Max-Planck-Institut",
          "Max-Planck-Institut",
          "Max-Planck-Institut",
          "Max-Planck-Institut",
          "Max-Planck-Institut",
          "Max-Planck-Institut",
          "Max-Planck-Institut",
          "Max-Planck-Institut",
          "Max-Planck-Institut",
          "Max-Planck-Institut",
          "Mayo Clinic",
          "McMaster University",
          "Meijo University",
          "Military Medical Academy",
          "Mother Teresa",
          "Munich University",
          "Munster University",
          "Médecins Sans Frontières",
          "NASA Goddard Space Flight Center",
          "NHMRC Helicobacter pylori Research Laboratory, QEII Medical Centre",
          "Nagoya University",
          "Nancy University",
          "National Dialogue Quartet",
          "National Institute for Medical Research",
          "National Institute of Environmental Health Sciences",
          "National Institute of Standards and Technology",
          "National Institute of Standards and Technology",
          "National Institutes of Health",
          "National Research Council of Canada",
          "New England Biolabs",
          "New York University",
          "Niels Bohr Institute",
          "Nordita",
          "Northwestern University",
          "Norwegian University of Science and Technology (NTNU)",
          "Not affiliated",
          "Not affiliated",
          "Not affiliated",
          "Not affiliated",
          "Not affiliated",
          "Office international Nansen pour les Réfugiés (Nansen International Office for Refugees)",
          "Office of the United Nations High Commissioner for Refugees (UNHCR)",
          "Organisation for the Prohibition of Chemical Weapons (OPCW)",
          "P.N. Lebedev Physical Institute",
          "Parker Institute for Cancer Immunotherapy",
          "Pavia University",
          "Polarographic Institute of the Czechoslovak Academy of Science",
          "Polytechnic Institute",
          "Princeton University",
          "Pugwash Conferences on Science and World Affairs",
          "Purdue University",
          "Queen's University",
          "Rheinische Friedrich-Wilhelms-Universität",
          "Rice University",
          "Rockefeller Institute for Medical Research",
          "Rockefeller Institute for Medical Research",
          "Rockefeller University",
          "Rome University",
          "Rowett Research Institute",
          "Royal Institute of Technology",
          "Royal Institution of Great Britain",
          "Rutgers University",
          "SUNY Health Science Center",
          "Saint Louis University",
          "Semiconductor Laboratory of Beckman Instruments, Inc.",
          "Sheffield University",
          "Shimadzu Corp.",
          "Sorbonne University",
          "Sorbonne University",
          "St. Jude Children's Research Hospital",
          "Standard Telecommunication Laboratories",
          "Stanford Linear Accelerator Center",
          "Stanford University",
          "Stockholm School of Economics",
          "Stockholm University",
          "Strasbourg University",
          "Swedish Gas-Accumulator Co.",
          "Szeged University",
          "Technical University",
          "Technion - Israel Institute of Technology",
          "Technische Hochschule (Institute of Technology)",
          "Texas Instruments",
          "The 14th Dalai Lama (Tenzin Gyatso)",
          "The Institute for Cancer Research",
          "The Medical Foundation of Buffalo",
          "The Molecular Sciences Institute",
          "The Netherlands School of Economics",
          "The Salk Institute",
          "The Scripps Research Institute",
          "The Wellcome Research Laboratories",
          "The Wellcome Trust Sanger Institute",
          "Tokyo Institute of Technology",
          "Tokyo University of Education",
          "Toulouse School of Economics (TSE)",
          "Toulouse University",
          "Trinity College",
          "Tufts University",
          "US Naval Research Laboratory",
          "United Nations (U.N.)",
          "United Nations Children's Fund (UNICEF)",
          "United Nations Peacekeeping Forces",
          "University College London",
          "University College London",
          "University of Alberta",
          "University of Bonn",
          "University of British Columbia",
          "University of California",
          "University of California",
          "University of California",
          "University of California",
          "University of California",
          "University of California",
          "University of Cambridge",
          "University of Chicago",
          "University of Colorado",
          "University of Delaware",
          "University of Edinburgh",
          "University of Freiburg",
          "University of Geneva",
          "University of Grenoble",
          "University of Groningen",
          "University of Heidelberg",
          "University of Helsinki",
          "University of Illinois",
          "University of Jerusalem, Center for Rationality",
          "University of Lausanne",
          "University of Lisbon",
          "University of Maine",
          "University of Manchester",
          "University of Maryland, Department of Economics and School of Public Policy",
          "University of Massachusetts Medical School",
          "University of Minnesota",
          "University of Missouri",
          "University of Moscow",
          "University of North Carolina",
          "University of Nottingham, School of Physics and Astronomy",
          "University of Oslo",
          "University of Oxford",
          "University of Pennsylvania",
          "University of Rochester",
          "University of Southern California",
          "University of Strasbourg",
          "University of Sussex",
          "University of Texas",
          "University of Texas",
          "University of Texas Southwestern Medical Center at Dallas",
          "University of Tokyo",
          "University of Tokyo",
          "University of Toronto",
          "University of Tsukuba",
          "University of Utah",
          "University of Washington",
          "University of Waterloo",
          "University of Wisconsin",
          "University of Zurich",
          "Université Catholique de Louvain",
          "Université Libre de Bruxelles",
          "Université Louis Pasteur",
          "Université Paris-Saclay",
          "Université de Paris, Laboratoire Immuno-Hématologie",
          "Université de Strasbourg",
          "Uppsala University",
          "Utrecht University",
          "Vanderbilt University",
          "Veterans Administration Hospital",
          "Veterans Administration Hospital",
          "Victoria University",
          "Vienna University",
          "Virginia Commonwealth University",
          "Walter and Eliza Hall Institute for Medical Research",
          "Washington University",
          "Weizmann Institute of Science",
          "Wellcome Research Laboratories",
          "Western Reserve University",
          "World Food Programme (WFP)",
          "World Foundation for AIDS Research and Prevention",
          "Würzburg University",
          "Yale University",
          "École Nationale Supérieur des Mines de Paris",
          "École Normale Supérieure",
          "École Polytechnique",
          "École Polytechnique",
          "École Supérieure de Physique et Chimie",
          "École municipale de physique et de chimie industrielles (Municipal School of Industrial Physics and Chemistry)",
          "Aarhus",
          "Altenberg; Grünau im Almtal",
          "Amsterdam",
          "Argonne, IL",
          "Ashburn, VA",
          "Austin TX",
          "Baltimore, MD",
          "Bar Harbor, ME",
          "Basel",
          "Batavia, IL",
          "Beckenham",
          "Beijing",
          "Berkeley, CA",
          "Berlin",
          "Berlin-Dahlem",
          "Berne",
          "Bethesda, MD",
          "Beverly, MA",
          "Bilthoven",
          "Birmingham",
          "Bloomington, IN",
          "Bodmin",
          "Bonn",
          "Boston, MA",
          "Boulder, CO",
          "Breisgau",
          "Brighton",
          "Bristol",
          "Brussels",
          "Bucksburn (Scotland)",
          "Buenos Aires",
          "Buffalo, NY",
          "Calcutta",
          "Cambridge",
          "Cambridge, MA",
          "Canberra",
          "Cardiff",
          "Chapel Hill, NC",
          "Chevy Chase",
          "Chicago, IL",
          "Cleveland, OH",
          "Cold Spring Harbor, NY",
          "College Park, MD",
          "Cologne",
          "Columbia",
          "Copenhagen",
          "Dallas, TX",
          "Dublin",
          "Durham, NC",
          "Edinburgh",
          "Edmonton",
          "Evanston, IL",
          "Fairfax, VA",
          "Frankfurt-on-the-Main",
          "Gaithersburg, MD",
          "Garching",
          "Geneva",
          "Ghent",
          "Gothenburg",
          "Graz",
          "Greenbelt, MD",
          "Greenwich, CT",
          "Greifswald",
          "Grenoble",
          "Groningen",
          "Göttingen",
          "Haifa",
          "Halle",
          "Hamilton, Ontario",
          "Harlow",
          "Harwell, Berkshire",
          "Heidelberg",
          "Helsinki",
          "Hertfordshire",
          "Holmdel, NJ",
          "Houston, TX",
          "Innsbruck",
          "Irvine, CA",
          "Ithaca, NY",
          "J&uuml;lich",
          "Jerusalem",
          "Kashiwa",
          "Kiel",
          "Kingston",
          "Kyoto",
          "La Jolla, CA",
          "Lausanne",
          "Leiden",
          "Leipzig",
          "Lidingö-Stockholm",
          "Lisbon",
          "Liverpool",
          "London",
          "Los Angeles, CA",
          "Louvain",
          "Madison, NJ",
          "Madison, WI",
          "Madrid",
          "Maine ME",
          "Mainz",
          "Manchester",
          "Marburg",
          "Martinsried",
          "Medford, MA",
          "Melbourne",
          "Memphis, TN",
          "Milan",
          "Minneapolis, MN",
          "Moscow",
          "Mountain View, CA",
          "Munich",
          "Munster",
          "Murray Hill, NJ",
          "Mülheim/Ruhr",
          "Nagoya",
          "Nancy",
          "Nashville, TN",
          "Nedlands",
          "New Brunswick, NJ",
          "New Haven, CT",
          "New Orleans, LA",
          "New York, NY",
          "Not Available",
          "Nottingham",
          "Orsay",
          "Oslo",
          "Ottawa",
          "Oxford",
          "Palaiseau",
          "Paris",
          "Pasadena, CA",
          "Pavia",
          "Perth",
          "Philadelphia, PA",
          "Pittsburgh, PA",
          "Prague",
          "Princeton, NJ",
          "Providence, RI",
          "Rehovot",
          "Research Triangle Park, NC",
          "Richmond, VA",
          "Rochester, MN",
          "Rochester, NY",
          "Rome",
          "Rotterdam",
          "Rueil-Malmaison",
          "Rüschlikon",
          "Salt Lake City, UT",
          "San Diego, CA",
          "San Francisco, CA",
          "Santa Barbara, CA",
          "Sapporo",
          "Schenectady, NY",
          "Seattle, WA",
          "Sheffield",
          "St. Louis, MO",
          "St. Petersburg",
          "Stanford, CA",
          "Stockholm",
          "Strasbourg",
          "Stuttgart",
          "Szeged",
          "Sèvres",
          "Tempe, AZ",
          "Tokyo",
          "Toronto",
          "Toulouse",
          "Trieste",
          "Trondheim",
          "Tsukuba",
          "Tunis",
          "Tübingen",
          "Uppsala",
          "Urbana, IL",
          "Utrecht",
          "Vancouver",
          "Vienna",
          "Waltham MA",
          "Washington, DC",
          "Waterloo",
          "West Lafayette, IN",
          "Weston Creek",
          "Wilmington, DE",
          "Woods Hole, MA",
          "Worcester, MA",
          "Würzburg",
          "Yorktown Heights, NY",
          "Zurich",
          "Argentina",
          "Australia",
          "Austria",
          "Belgium",
          "Canada",
          "China",
          "Czech Republic",
          "Denmark",
          "Finland",
          "France",
          "Germany",
          "Hungary",
          "India",
          "Ireland",
          "Israel",
          "Italy",
          "Japan",
          "Netherlands",
          "Norway",
          "Not Available",
          "Portugal",
          "Russia",
          "Spain",
          "Sweden",
          "Switzerland",
          "Tunisia",
          "United Kingdom",
          "United States of America"
         ],
         "name": "",
         "parents": [
          "Russia/St. Petersburg",
          "Denmark/Aarhus",
          "Russia/Moscow",
          "Not Available/Not Available",
          "Not Available/Not Available",
          "Netherlands/Amsterdam",
          "United States of America/Argonne, IL",
          "United States of America/Tempe, AZ",
          "Japan/Tokyo",
          "United States of America/Washington, DC",
          "United Kingdom/Harwell, Berkshire",
          "Not Available/Not Available",
          "Australia/Canberra",
          "Australia/Weston Creek",
          "Switzerland/Basel",
          "Switzerland/Basel",
          "United States of America/Holmdel, NJ",
          "United States of America/Murray Hill, NJ",
          "United States of America/New York, NY",
          "Germany/Berlin",
          "Switzerland/Berne",
          "United States of America/New York, NY",
          "Switzerland/Basel",
          "United Kingdom/Birmingham",
          "United States of America/Waltham MA",
          "United States of America/Boston, MA",
          "United Kingdom/Bristol",
          "United States of America/Providence, RI",
          "Belgium/Brussels",
          "France/Sèvres",
          "Not Available/Not Available",
          "Switzerland/Geneva",
          "India/Calcutta",
          "Not Available/Not Available",
          "United States of America/Pasadena, CA",
          "United Kingdom/Cardiff",
          "United States of America/New York, NY",
          "United States of America/Pittsburgh, PA",
          "United States of America/Fairfax, VA",
          "United Kingdom/London",
          "United States of America/Boston, MA",
          "China/Beijing",
          "United States of America/New York, NY",
          "United States of America/Cold Spring Harbor, NY",
          "France/Paris",
          "Germany/Cologne",
          "United States of America/New York, NY",
          "Not Available/Not Available",
          "Not Available/Not Available",
          "Denmark/Copenhagen",
          "United States of America/Ithaca, NY",
          "United Kingdom/London",
          "United States of America/Mountain View, CA",
          "United States of America/Madison, NJ",
          "United States of America/Wilmington, DE",
          "United Kingdom/Edinburgh",
          "Switzerland/Zurich",
          "Not Available/Not Available",
          "United States of America/Batavia, IL",
          "Denmark/Copenhagen",
          "Germany/J&uuml;lich",
          "United Kingdom/Hertfordshire",
          "Germany/Frankfurt-on-the-Main",
          "United States of America/Seattle, WA",
          "Not Available/Not Available",
          "Germany/Berlin-Dahlem",
          "Germany/Berlin",
          "United States of America/Schenectady, NY",
          "United States of America/Fairfax, VA",
          "Germany/Heidelberg",
          "Belgium/Ghent",
          "United Kingdom/Bodmin",
          "Germany/Göttingen",
          "Not Available/Not Available",
          "Austria/Graz",
          "Germany/Greifswald",
          "Netherlands/Groningen",
          "United Kingdom/Cambridge",
          "Sweden/Gothenburg",
          "Germany/Halle",
          "United States of America/Boston, MA",
          "United States of America/Cambridge, MA",
          "Not Available/Not Available",
          "Japan/Tsukuba",
          "Japan/Sapporo",
          "United States of America/Chevy Chase",
          "United States of America/Durham, NC",
          "United States of America/Yorktown Heights, NY",
          "Switzerland/Rüschlikon",
          "United Kingdom/London",
          "United Kingdom/London",
          "United States of America/Bloomington, IN",
          "Austria/Innsbruck",
          "France/Rueil-Malmaison",
          "France/Paris",
          "Tunisia/Tunis",
          "Not Available/Not Available",
          "France/Paris",
          "United States of America/Princeton, NJ",
          "Argentina/Buenos Aires",
          "Russia/Moscow",
          "Germany/Berlin",
          "Italy/Rome",
          "United Kingdom/Cambridge",
          "Italy/Milan",
          "Argentina/Buenos Aires",
          "Not Available/Not Available",
          "Not Available/Not Available",
          "Not Available/Not Available",
          "Not Available/Not Available",
          "Italy/Trieste",
          "Not Available/Not Available",
          "Not Available/Not Available",
          "Italy/Rome",
          "United States of America/Bar Harbor, ME",
          "United States of America/Ashburn, VA",
          "United States of America/Baltimore, MD",
          "Sweden/Stockholm",
          "Germany/Kiel",
          "Japan/Tokyo",
          "Austria/Altenberg; Grünau im Almtal",
          "Japan/Kyoto",
          "Japan/Kyoto",
          "Not Available/Not Available",
          "United States of America/New York, NY",
          "Switzerland/Basel",
          "Germany/Berlin",
          "United States of America/Berkeley, CA",
          "Not Available/Not Available",
          "Netherlands/Leiden",
          "Germany/Leipzig",
          "Not Available/Not Available",
          "United Kingdom/Liverpool",
          "United Kingdom/London",
          "United Kingdom/London",
          "United States of America/Greenwich, CT",
          "United Kingdom/Cambridge",
          "Spain/Madrid",
          "Germany/Mainz",
          "Germany/Marburg",
          "United Kingdom/London",
          "United States of America/Woods Hole, MA",
          "United States of America/Cambridge, MA",
          "Germany/Berlin",
          "Germany/Berlin-Dahlem",
          "Germany/Heidelberg",
          "Germany/Berlin",
          "Germany/Frankfurt-on-the-Main",
          "Germany/Garching",
          "Germany/Göttingen",
          "Germany/Heidelberg",
          "Germany/Mainz",
          "Germany/Martinsried",
          "Germany/Munich",
          "Germany/Mülheim/Ruhr",
          "Germany/Stuttgart",
          "Germany/Tübingen",
          "United States of America/Rochester, MN",
          "Canada/Hamilton, Ontario",
          "Japan/Nagoya",
          "Russia/St. Petersburg",
          "Not Available/Not Available",
          "Germany/Munich",
          "Germany/Munster",
          "Not Available/Not Available",
          "United States of America/Greenbelt, MD",
          "Australia/Nedlands",
          "Japan/Nagoya",
          "France/Nancy",
          "Not Available/Not Available",
          "United Kingdom/London",
          "United States of America/Research Triangle Park, NC",
          "United States of America/Boulder, CO",
          "United States of America/Gaithersburg, MD",
          "United States of America/Bethesda, MD",
          "Canada/Ottawa",
          "United States of America/Beverly, MA",
          "United States of America/New York, NY",
          "Denmark/Copenhagen",
          "Denmark/Copenhagen",
          "United States of America/Evanston, IL",
          "Norway/Trondheim",
          "Netherlands/Bilthoven",
          "United States of America/La Jolla, CA",
          "Not Available/Not Available",
          "Australia/Perth",
          "United States of America/St. Louis, MO",
          "Not Available/Not Available",
          "Not Available/Not Available",
          "Not Available/Not Available",
          "Russia/Moscow",
          "United States of America/San Francisco, CA",
          "Italy/Pavia",
          "Czech Republic/Prague",
          "Denmark/Copenhagen",
          "United States of America/Princeton, NJ",
          "Not Available/Not Available",
          "United States of America/West Lafayette, IN",
          "Canada/Kingston",
          "Germany/Bonn",
          "United States of America/Houston, TX",
          "United States of America/New York, NY",
          "United States of America/Princeton, NJ",
          "United States of America/New York, NY",
          "Italy/Rome",
          "United Kingdom/Bucksburn (Scotland)",
          "Sweden/Stockholm",
          "United Kingdom/London",
          "United States of America/New Brunswick, NJ",
          "United States of America/New York, NY",
          "United States of America/St. Louis, MO",
          "United States of America/Mountain View, CA",
          "United Kingdom/Sheffield",
          "Japan/Kyoto",
          "Not Available/Not Available",
          "France/Paris",
          "United States of America/Memphis, TN",
          "United Kingdom/Harlow",
          "United States of America/Stanford, CA",
          "United States of America/Stanford, CA",
          "Sweden/Stockholm",
          "Sweden/Stockholm",
          "France/Strasbourg",
          "Sweden/Lidingö-Stockholm",
          "Hungary/Szeged",
          "Germany/Munich",
          "Israel/Haifa",
          "Germany/Munich",
          "United States of America/Dallas, TX",
          "Not Available/Not Available",
          "United States of America/Philadelphia, PA",
          "United States of America/Buffalo, NY",
          "United States of America/Berkeley, CA",
          "Netherlands/Rotterdam",
          "United States of America/San Diego, CA",
          "United States of America/La Jolla, CA",
          "United Kingdom/Beckenham",
          "United Kingdom/Cambridge",
          "Japan/Tokyo",
          "Japan/Tokyo",
          "France/Toulouse",
          "France/Toulouse",
          "Ireland/Dublin",
          "United States of America/Medford, MA",
          "United States of America/Washington, DC",
          "Not Available/Not Available",
          "Not Available/Not Available",
          "Not Available/Not Available",
          "United Kingdom/Liverpool",
          "United Kingdom/London",
          "Canada/Edmonton",
          "Germany/Bonn",
          "Canada/Vancouver",
          "United States of America/Berkeley, CA",
          "United States of America/Irvine, CA",
          "United States of America/Los Angeles, CA",
          "United States of America/San Diego, CA",
          "United States of America/San Francisco, CA",
          "United States of America/Santa Barbara, CA",
          "United Kingdom/Cambridge",
          "United States of America/Chicago, IL",
          "United States of America/Boulder, CO",
          "Not Available/Not Available",
          "United Kingdom/Edinburgh",
          "Germany/Breisgau",
          "Switzerland/Geneva",
          "France/Grenoble",
          "Netherlands/Groningen",
          "Germany/Heidelberg",
          "Finland/Helsinki",
          "United States of America/Urbana, IL",
          "Israel/Jerusalem",
          "Switzerland/Lausanne",
          "Portugal/Lisbon",
          "United States of America/Maine ME",
          "United Kingdom/Manchester",
          "United States of America/College Park, MD",
          "United States of America/Worcester, MA",
          "United States of America/Minneapolis, MN",
          "United States of America/Columbia",
          "Russia/Moscow",
          "United States of America/Chapel Hill, NC",
          "United Kingdom/Nottingham",
          "Norway/Oslo",
          "United Kingdom/Oxford",
          "United States of America/Philadelphia, PA",
          "United States of America/Rochester, NY",
          "United States of America/Los Angeles, CA",
          "France/Strasbourg",
          "United Kingdom/Brighton",
          "United States of America/Austin TX",
          "United States of America/Houston, TX",
          "United States of America/Dallas, TX",
          "Japan/Kashiwa",
          "Japan/Tokyo",
          "Canada/Toronto",
          "Japan/Tokyo",
          "United States of America/Salt Lake City, UT",
          "United States of America/Seattle, WA",
          "Canada/Waterloo",
          "United States of America/Madison, WI",
          "Switzerland/Zurich",
          "Belgium/Louvain",
          "Belgium/Brussels",
          "France/Strasbourg",
          "France/Orsay",
          "France/Paris",
          "France/Strasbourg",
          "Sweden/Uppsala",
          "Netherlands/Utrecht",
          "United States of America/Nashville, TN",
          "United States of America/New Orleans, LA",
          "United States of America/New York, NY",
          "United Kingdom/Manchester",
          "Austria/Vienna",
          "United States of America/Richmond, VA",
          "Australia/Melbourne",
          "United States of America/St. Louis, MO",
          "Israel/Rehovot",
          "United States of America/Research Triangle Park, NC",
          "United States of America/Cleveland, OH",
          "Not Available/Not Available",
          "France/Paris",
          "Germany/Würzburg",
          "United States of America/New Haven, CT",
          "France/Paris",
          "France/Paris",
          "France/Palaiseau",
          "France/Paris",
          "France/Paris",
          "France/Paris",
          "Denmark",
          "Austria",
          "Netherlands",
          "United States of America",
          "United States of America",
          "United States of America",
          "United States of America",
          "United States of America",
          "Switzerland",
          "United States of America",
          "United Kingdom",
          "China",
          "United States of America",
          "Germany",
          "Germany",
          "Switzerland",
          "United States of America",
          "United States of America",
          "Netherlands",
          "United Kingdom",
          "United States of America",
          "United Kingdom",
          "Germany",
          "United States of America",
          "United States of America",
          "Germany",
          "United Kingdom",
          "United Kingdom",
          "Belgium",
          "United Kingdom",
          "Argentina",
          "United States of America",
          "India",
          "United Kingdom",
          "United States of America",
          "Australia",
          "United Kingdom",
          "United States of America",
          "United States of America",
          "United States of America",
          "United States of America",
          "United States of America",
          "United States of America",
          "Germany",
          "United States of America",
          "Denmark",
          "United States of America",
          "Ireland",
          "United States of America",
          "United Kingdom",
          "Canada",
          "United States of America",
          "United States of America",
          "Germany",
          "United States of America",
          "Germany",
          "Switzerland",
          "Belgium",
          "Sweden",
          "Austria",
          "United States of America",
          "United States of America",
          "Germany",
          "France",
          "Netherlands",
          "Germany",
          "Israel",
          "Germany",
          "Canada",
          "United Kingdom",
          "United Kingdom",
          "Germany",
          "Finland",
          "United Kingdom",
          "United States of America",
          "United States of America",
          "Austria",
          "United States of America",
          "United States of America",
          "Germany",
          "Israel",
          "Japan",
          "Germany",
          "Canada",
          "Japan",
          "United States of America",
          "Switzerland",
          "Netherlands",
          "Germany",
          "Sweden",
          "Portugal",
          "United Kingdom",
          "United Kingdom",
          "United States of America",
          "Belgium",
          "United States of America",
          "United States of America",
          "Spain",
          "United States of America",
          "Germany",
          "United Kingdom",
          "Germany",
          "Germany",
          "United States of America",
          "Australia",
          "United States of America",
          "Italy",
          "United States of America",
          "Russia",
          "United States of America",
          "Germany",
          "Germany",
          "United States of America",
          "Germany",
          "Japan",
          "France",
          "United States of America",
          "Australia",
          "United States of America",
          "United States of America",
          "United States of America",
          "United States of America",
          "Not Available",
          "United Kingdom",
          "France",
          "Norway",
          "Canada",
          "United Kingdom",
          "France",
          "France",
          "United States of America",
          "Italy",
          "Australia",
          "United States of America",
          "United States of America",
          "Czech Republic",
          "United States of America",
          "United States of America",
          "Israel",
          "United States of America",
          "United States of America",
          "United States of America",
          "United States of America",
          "Italy",
          "Netherlands",
          "France",
          "Switzerland",
          "United States of America",
          "United States of America",
          "United States of America",
          "United States of America",
          "Japan",
          "United States of America",
          "United States of America",
          "United Kingdom",
          "United States of America",
          "Russia",
          "United States of America",
          "Sweden",
          "France",
          "Germany",
          "Hungary",
          "France",
          "United States of America",
          "Japan",
          "Canada",
          "France",
          "Italy",
          "Norway",
          "Japan",
          "Tunisia",
          "Germany",
          "Sweden",
          "United States of America",
          "Netherlands",
          "Canada",
          "Austria",
          "United States of America",
          "United States of America",
          "Canada",
          "United States of America",
          "Australia",
          "United States of America",
          "United States of America",
          "United States of America",
          "Germany",
          "United States of America",
          "Switzerland",
          "",
          "",
          "",
          "",
          "",
          "",
          "",
          "",
          "",
          "",
          "",
          "",
          "",
          "",
          "",
          "",
          "",
          "",
          "",
          "",
          "",
          "",
          "",
          "",
          "",
          "",
          "",
          ""
         ],
         "type": "sunburst",
         "values": [
          1,
          1,
          3,
          1,
          1,
          2,
          1,
          1,
          1,
          1,
          1,
          1,
          1,
          1,
          2,
          1,
          3,
          4,
          1,
          6,
          1,
          1,
          1,
          1,
          1,
          1,
          1,
          2,
          1,
          1,
          1,
          3,
          1,
          1,
          16,
          1,
          1,
          3,
          1,
          1,
          1,
          1,
          1,
          1,
          3,
          1,
          16,
          1,
          3,
          3,
          8,
          1,
          1,
          1,
          1,
          2,
          4,
          1,
          1,
          1,
          1,
          1,
          1,
          3,
          1,
          1,
          2,
          2,
          1,
          1,
          1,
          1,
          5,
          1,
          2,
          1,
          1,
          1,
          1,
          1,
          7,
          28,
          1,
          1,
          1,
          1,
          1,
          1,
          4,
          3,
          3,
          2,
          1,
          1,
          6,
          1,
          1,
          2,
          2,
          1,
          1,
          1,
          1,
          1,
          1,
          1,
          1,
          1,
          1,
          1,
          1,
          1,
          1,
          1,
          1,
          1,
          6,
          5,
          3,
          1,
          1,
          1,
          4,
          3,
          1,
          1,
          1,
          1,
          1,
          3,
          2,
          1,
          1,
          1,
          7,
          1,
          10,
          1,
          1,
          1,
          1,
          1,
          21,
          1,
          3,
          1,
          1,
          1,
          1,
          3,
          1,
          1,
          1,
          1,
          1,
          1,
          1,
          2,
          1,
          1,
          1,
          1,
          5,
          1,
          1,
          1,
          1,
          2,
          1,
          1,
          2,
          1,
          1,
          1,
          5,
          1,
          1,
          4,
          1,
          1,
          3,
          2,
          1,
          1,
          219,
          1,
          1,
          1,
          2,
          1,
          4,
          1,
          1,
          1,
          1,
          15,
          1,
          2,
          1,
          1,
          2,
          4,
          2,
          13,
          1,
          1,
          1,
          2,
          1,
          1,
          1,
          1,
          1,
          1,
          1,
          6,
          1,
          1,
          1,
          23,
          1,
          3,
          1,
          1,
          1,
          2,
          3,
          1,
          1,
          1,
          1,
          1,
          1,
          1,
          1,
          1,
          1,
          1,
          1,
          1,
          1,
          1,
          1,
          1,
          1,
          1,
          1,
          1,
          1,
          6,
          1,
          1,
          1,
          19,
          3,
          6,
          3,
          4,
          5,
          18,
          20,
          4,
          1,
          1,
          2,
          2,
          1,
          1,
          6,
          1,
          4,
          1,
          1,
          1,
          1,
          2,
          1,
          1,
          1,
          1,
          2,
          2,
          1,
          3,
          12,
          4,
          1,
          2,
          2,
          2,
          1,
          1,
          5,
          1,
          1,
          3,
          1,
          1,
          4,
          1,
          3,
          4,
          1,
          2,
          1,
          1,
          1,
          1,
          5,
          2,
          2,
          1,
          1,
          3,
          2,
          1,
          1,
          4,
          1,
          2,
          1,
          1,
          1,
          1,
          9,
          1,
          1,
          1,
          1,
          1,
          1,
          1,
          1,
          2,
          1,
          1,
          1,
          6,
          1,
          5,
          1,
          1,
          1,
          21,
          12,
          4,
          1,
          5,
          1,
          1,
          1,
          2,
          1,
          2,
          9,
          5,
          2,
          2,
          1,
          3,
          1,
          2,
          1,
          1,
          31,
          49,
          1,
          1,
          2,
          1,
          20,
          1,
          1,
          1,
          1,
          1,
          7,
          6,
          1,
          1,
          3,
          1,
          3,
          2,
          2,
          1,
          1,
          5,
          1,
          1,
          2,
          1,
          1,
          1,
          1,
          2,
          8,
          3,
          1,
          1,
          1,
          1,
          9,
          1,
          1,
          3,
          3,
          1,
          3,
          8,
          1,
          1,
          1,
          3,
          1,
          6,
          2,
          1,
          3,
          2,
          1,
          1,
          2,
          27,
          8,
          1,
          1,
          3,
          1,
          1,
          2,
          5,
          1,
          1,
          1,
          1,
          1,
          1,
          1,
          10,
          2,
          9,
          1,
          4,
          1,
          3,
          1,
          2,
          1,
          1,
          9,
          1,
          44,
          259,
          1,
          1,
          3,
          1,
          12,
          1,
          24,
          16,
          1,
          1,
          5,
          3,
          1,
          19,
          2,
          1,
          3,
          1,
          2,
          1,
          3,
          1,
          1,
          4,
          1,
          4,
          5,
          5,
          1,
          2,
          7,
          1,
          6,
          2,
          24,
          10,
          5,
          1,
          1,
          1,
          1,
          6,
          3,
          2,
          1,
          2,
          1,
          1,
          1,
          5,
          4,
          2,
          1,
          2,
          1,
          2,
          1,
          2,
          1,
          1,
          1,
          1,
          1,
          1,
          8,
          2,
          5,
          6,
          5,
          9,
          1,
          1,
          8,
          1,
          37,
          67,
          1,
          1,
          1,
          5,
          6,
          18,
          11,
          5,
          259,
          1,
          12,
          1,
          17,
          24,
          1,
          93,
          364
         ]
        }
       ],
       "layout": {
        "coloraxis": {
         "showscale": false
        },
        "legend": {
         "tracegroupgap": 0
        },
        "template": {
         "data": {
          "bar": [
           {
            "error_x": {
             "color": "#2a3f5f"
            },
            "error_y": {
             "color": "#2a3f5f"
            },
            "marker": {
             "line": {
              "color": "#E5ECF6",
              "width": 0.5
             },
             "pattern": {
              "fillmode": "overlay",
              "size": 10,
              "solidity": 0.2
             }
            },
            "type": "bar"
           }
          ],
          "barpolar": [
           {
            "marker": {
             "line": {
              "color": "#E5ECF6",
              "width": 0.5
             },
             "pattern": {
              "fillmode": "overlay",
              "size": 10,
              "solidity": 0.2
             }
            },
            "type": "barpolar"
           }
          ],
          "carpet": [
           {
            "aaxis": {
             "endlinecolor": "#2a3f5f",
             "gridcolor": "white",
             "linecolor": "white",
             "minorgridcolor": "white",
             "startlinecolor": "#2a3f5f"
            },
            "baxis": {
             "endlinecolor": "#2a3f5f",
             "gridcolor": "white",
             "linecolor": "white",
             "minorgridcolor": "white",
             "startlinecolor": "#2a3f5f"
            },
            "type": "carpet"
           }
          ],
          "choropleth": [
           {
            "colorbar": {
             "outlinewidth": 0,
             "ticks": ""
            },
            "type": "choropleth"
           }
          ],
          "contour": [
           {
            "colorbar": {
             "outlinewidth": 0,
             "ticks": ""
            },
            "colorscale": [
             [
              0,
              "#0d0887"
             ],
             [
              0.1111111111111111,
              "#46039f"
             ],
             [
              0.2222222222222222,
              "#7201a8"
             ],
             [
              0.3333333333333333,
              "#9c179e"
             ],
             [
              0.4444444444444444,
              "#bd3786"
             ],
             [
              0.5555555555555556,
              "#d8576b"
             ],
             [
              0.6666666666666666,
              "#ed7953"
             ],
             [
              0.7777777777777778,
              "#fb9f3a"
             ],
             [
              0.8888888888888888,
              "#fdca26"
             ],
             [
              1,
              "#f0f921"
             ]
            ],
            "type": "contour"
           }
          ],
          "contourcarpet": [
           {
            "colorbar": {
             "outlinewidth": 0,
             "ticks": ""
            },
            "type": "contourcarpet"
           }
          ],
          "heatmap": [
           {
            "colorbar": {
             "outlinewidth": 0,
             "ticks": ""
            },
            "colorscale": [
             [
              0,
              "#0d0887"
             ],
             [
              0.1111111111111111,
              "#46039f"
             ],
             [
              0.2222222222222222,
              "#7201a8"
             ],
             [
              0.3333333333333333,
              "#9c179e"
             ],
             [
              0.4444444444444444,
              "#bd3786"
             ],
             [
              0.5555555555555556,
              "#d8576b"
             ],
             [
              0.6666666666666666,
              "#ed7953"
             ],
             [
              0.7777777777777778,
              "#fb9f3a"
             ],
             [
              0.8888888888888888,
              "#fdca26"
             ],
             [
              1,
              "#f0f921"
             ]
            ],
            "type": "heatmap"
           }
          ],
          "heatmapgl": [
           {
            "colorbar": {
             "outlinewidth": 0,
             "ticks": ""
            },
            "colorscale": [
             [
              0,
              "#0d0887"
             ],
             [
              0.1111111111111111,
              "#46039f"
             ],
             [
              0.2222222222222222,
              "#7201a8"
             ],
             [
              0.3333333333333333,
              "#9c179e"
             ],
             [
              0.4444444444444444,
              "#bd3786"
             ],
             [
              0.5555555555555556,
              "#d8576b"
             ],
             [
              0.6666666666666666,
              "#ed7953"
             ],
             [
              0.7777777777777778,
              "#fb9f3a"
             ],
             [
              0.8888888888888888,
              "#fdca26"
             ],
             [
              1,
              "#f0f921"
             ]
            ],
            "type": "heatmapgl"
           }
          ],
          "histogram": [
           {
            "marker": {
             "pattern": {
              "fillmode": "overlay",
              "size": 10,
              "solidity": 0.2
             }
            },
            "type": "histogram"
           }
          ],
          "histogram2d": [
           {
            "colorbar": {
             "outlinewidth": 0,
             "ticks": ""
            },
            "colorscale": [
             [
              0,
              "#0d0887"
             ],
             [
              0.1111111111111111,
              "#46039f"
             ],
             [
              0.2222222222222222,
              "#7201a8"
             ],
             [
              0.3333333333333333,
              "#9c179e"
             ],
             [
              0.4444444444444444,
              "#bd3786"
             ],
             [
              0.5555555555555556,
              "#d8576b"
             ],
             [
              0.6666666666666666,
              "#ed7953"
             ],
             [
              0.7777777777777778,
              "#fb9f3a"
             ],
             [
              0.8888888888888888,
              "#fdca26"
             ],
             [
              1,
              "#f0f921"
             ]
            ],
            "type": "histogram2d"
           }
          ],
          "histogram2dcontour": [
           {
            "colorbar": {
             "outlinewidth": 0,
             "ticks": ""
            },
            "colorscale": [
             [
              0,
              "#0d0887"
             ],
             [
              0.1111111111111111,
              "#46039f"
             ],
             [
              0.2222222222222222,
              "#7201a8"
             ],
             [
              0.3333333333333333,
              "#9c179e"
             ],
             [
              0.4444444444444444,
              "#bd3786"
             ],
             [
              0.5555555555555556,
              "#d8576b"
             ],
             [
              0.6666666666666666,
              "#ed7953"
             ],
             [
              0.7777777777777778,
              "#fb9f3a"
             ],
             [
              0.8888888888888888,
              "#fdca26"
             ],
             [
              1,
              "#f0f921"
             ]
            ],
            "type": "histogram2dcontour"
           }
          ],
          "mesh3d": [
           {
            "colorbar": {
             "outlinewidth": 0,
             "ticks": ""
            },
            "type": "mesh3d"
           }
          ],
          "parcoords": [
           {
            "line": {
             "colorbar": {
              "outlinewidth": 0,
              "ticks": ""
             }
            },
            "type": "parcoords"
           }
          ],
          "pie": [
           {
            "automargin": true,
            "type": "pie"
           }
          ],
          "scatter": [
           {
            "fillpattern": {
             "fillmode": "overlay",
             "size": 10,
             "solidity": 0.2
            },
            "type": "scatter"
           }
          ],
          "scatter3d": [
           {
            "line": {
             "colorbar": {
              "outlinewidth": 0,
              "ticks": ""
             }
            },
            "marker": {
             "colorbar": {
              "outlinewidth": 0,
              "ticks": ""
             }
            },
            "type": "scatter3d"
           }
          ],
          "scattercarpet": [
           {
            "marker": {
             "colorbar": {
              "outlinewidth": 0,
              "ticks": ""
             }
            },
            "type": "scattercarpet"
           }
          ],
          "scattergeo": [
           {
            "marker": {
             "colorbar": {
              "outlinewidth": 0,
              "ticks": ""
             }
            },
            "type": "scattergeo"
           }
          ],
          "scattergl": [
           {
            "marker": {
             "colorbar": {
              "outlinewidth": 0,
              "ticks": ""
             }
            },
            "type": "scattergl"
           }
          ],
          "scattermapbox": [
           {
            "marker": {
             "colorbar": {
              "outlinewidth": 0,
              "ticks": ""
             }
            },
            "type": "scattermapbox"
           }
          ],
          "scatterpolar": [
           {
            "marker": {
             "colorbar": {
              "outlinewidth": 0,
              "ticks": ""
             }
            },
            "type": "scatterpolar"
           }
          ],
          "scatterpolargl": [
           {
            "marker": {
             "colorbar": {
              "outlinewidth": 0,
              "ticks": ""
             }
            },
            "type": "scatterpolargl"
           }
          ],
          "scatterternary": [
           {
            "marker": {
             "colorbar": {
              "outlinewidth": 0,
              "ticks": ""
             }
            },
            "type": "scatterternary"
           }
          ],
          "surface": [
           {
            "colorbar": {
             "outlinewidth": 0,
             "ticks": ""
            },
            "colorscale": [
             [
              0,
              "#0d0887"
             ],
             [
              0.1111111111111111,
              "#46039f"
             ],
             [
              0.2222222222222222,
              "#7201a8"
             ],
             [
              0.3333333333333333,
              "#9c179e"
             ],
             [
              0.4444444444444444,
              "#bd3786"
             ],
             [
              0.5555555555555556,
              "#d8576b"
             ],
             [
              0.6666666666666666,
              "#ed7953"
             ],
             [
              0.7777777777777778,
              "#fb9f3a"
             ],
             [
              0.8888888888888888,
              "#fdca26"
             ],
             [
              1,
              "#f0f921"
             ]
            ],
            "type": "surface"
           }
          ],
          "table": [
           {
            "cells": {
             "fill": {
              "color": "#EBF0F8"
             },
             "line": {
              "color": "white"
             }
            },
            "header": {
             "fill": {
              "color": "#C8D4E3"
             },
             "line": {
              "color": "white"
             }
            },
            "type": "table"
           }
          ]
         },
         "layout": {
          "annotationdefaults": {
           "arrowcolor": "#2a3f5f",
           "arrowhead": 0,
           "arrowwidth": 1
          },
          "autotypenumbers": "strict",
          "coloraxis": {
           "colorbar": {
            "outlinewidth": 0,
            "ticks": ""
           }
          },
          "colorscale": {
           "diverging": [
            [
             0,
             "#8e0152"
            ],
            [
             0.1,
             "#c51b7d"
            ],
            [
             0.2,
             "#de77ae"
            ],
            [
             0.3,
             "#f1b6da"
            ],
            [
             0.4,
             "#fde0ef"
            ],
            [
             0.5,
             "#f7f7f7"
            ],
            [
             0.6,
             "#e6f5d0"
            ],
            [
             0.7,
             "#b8e186"
            ],
            [
             0.8,
             "#7fbc41"
            ],
            [
             0.9,
             "#4d9221"
            ],
            [
             1,
             "#276419"
            ]
           ],
           "sequential": [
            [
             0,
             "#0d0887"
            ],
            [
             0.1111111111111111,
             "#46039f"
            ],
            [
             0.2222222222222222,
             "#7201a8"
            ],
            [
             0.3333333333333333,
             "#9c179e"
            ],
            [
             0.4444444444444444,
             "#bd3786"
            ],
            [
             0.5555555555555556,
             "#d8576b"
            ],
            [
             0.6666666666666666,
             "#ed7953"
            ],
            [
             0.7777777777777778,
             "#fb9f3a"
            ],
            [
             0.8888888888888888,
             "#fdca26"
            ],
            [
             1,
             "#f0f921"
            ]
           ],
           "sequentialminus": [
            [
             0,
             "#0d0887"
            ],
            [
             0.1111111111111111,
             "#46039f"
            ],
            [
             0.2222222222222222,
             "#7201a8"
            ],
            [
             0.3333333333333333,
             "#9c179e"
            ],
            [
             0.4444444444444444,
             "#bd3786"
            ],
            [
             0.5555555555555556,
             "#d8576b"
            ],
            [
             0.6666666666666666,
             "#ed7953"
            ],
            [
             0.7777777777777778,
             "#fb9f3a"
            ],
            [
             0.8888888888888888,
             "#fdca26"
            ],
            [
             1,
             "#f0f921"
            ]
           ]
          },
          "colorway": [
           "#636efa",
           "#EF553B",
           "#00cc96",
           "#ab63fa",
           "#FFA15A",
           "#19d3f3",
           "#FF6692",
           "#B6E880",
           "#FF97FF",
           "#FECB52"
          ],
          "font": {
           "color": "#2a3f5f"
          },
          "geo": {
           "bgcolor": "white",
           "lakecolor": "white",
           "landcolor": "#E5ECF6",
           "showlakes": true,
           "showland": true,
           "subunitcolor": "white"
          },
          "hoverlabel": {
           "align": "left"
          },
          "hovermode": "closest",
          "mapbox": {
           "style": "light"
          },
          "paper_bgcolor": "white",
          "plot_bgcolor": "#E5ECF6",
          "polar": {
           "angularaxis": {
            "gridcolor": "white",
            "linecolor": "white",
            "ticks": ""
           },
           "bgcolor": "#E5ECF6",
           "radialaxis": {
            "gridcolor": "white",
            "linecolor": "white",
            "ticks": ""
           }
          },
          "scene": {
           "xaxis": {
            "backgroundcolor": "#E5ECF6",
            "gridcolor": "white",
            "gridwidth": 2,
            "linecolor": "white",
            "showbackground": true,
            "ticks": "",
            "zerolinecolor": "white"
           },
           "yaxis": {
            "backgroundcolor": "#E5ECF6",
            "gridcolor": "white",
            "gridwidth": 2,
            "linecolor": "white",
            "showbackground": true,
            "ticks": "",
            "zerolinecolor": "white"
           },
           "zaxis": {
            "backgroundcolor": "#E5ECF6",
            "gridcolor": "white",
            "gridwidth": 2,
            "linecolor": "white",
            "showbackground": true,
            "ticks": "",
            "zerolinecolor": "white"
           }
          },
          "shapedefaults": {
           "line": {
            "color": "#2a3f5f"
           }
          },
          "ternary": {
           "aaxis": {
            "gridcolor": "white",
            "linecolor": "white",
            "ticks": ""
           },
           "baxis": {
            "gridcolor": "white",
            "linecolor": "white",
            "ticks": ""
           },
           "bgcolor": "#E5ECF6",
           "caxis": {
            "gridcolor": "white",
            "linecolor": "white",
            "ticks": ""
           }
          },
          "title": {
           "x": 0.05
          },
          "xaxis": {
           "automargin": true,
           "gridcolor": "white",
           "linecolor": "white",
           "ticks": "",
           "title": {
            "standoff": 15
           },
           "zerolinecolor": "white",
           "zerolinewidth": 2
          },
          "yaxis": {
           "automargin": true,
           "gridcolor": "white",
           "linecolor": "white",
           "ticks": "",
           "title": {
            "standoff": 15
           },
           "zerolinecolor": "white",
           "zerolinewidth": 2
          }
         }
        },
        "title": {
         "text": "Where do Discoveries Take Place?"
        },
        "xaxis": {
         "title": {
          "text": "Number of Prizes"
         }
        },
        "yaxis": {
         "title": {
          "text": "City"
         }
        }
       }
      },
      "text/html": [
       "<div>                            <div id=\"dbf6488d-b380-4f2c-9d04-d6de382309d6\" class=\"plotly-graph-div\" style=\"height:525px; width:100%;\"></div>            <script type=\"text/javascript\">                require([\"plotly\"], function(Plotly) {                    window.PLOTLYENV=window.PLOTLYENV || {};                                    if (document.getElementById(\"dbf6488d-b380-4f2c-9d04-d6de382309d6\")) {                    Plotly.newPlot(                        \"dbf6488d-b380-4f2c-9d04-d6de382309d6\",                        [{\"branchvalues\":\"total\",\"domain\":{\"x\":[0.0,1.0],\"y\":[0.0,1.0]},\"hovertemplate\":\"labels=%{label}<br>prize=%{value}<br>parent=%{parent}<br>id=%{id}<extra></extra>\",\"ids\":[\"Russia/St. Petersburg/A.F. Ioffe Physico-Technical Institute\",\"Denmark/Aarhus/Aarhus University\",\"Russia/Moscow/Academy of Sciences\",\"Not Available/Not Available/American Friends Service Committee (The Quakers)\",\"Not Available/Not Available/Amnesty International\",\"Netherlands/Amsterdam/Amsterdam University\",\"United States of America/Argonne, IL/Argonne National Laboratory\",\"United States of America/Tempe, AZ/Arizona State University\",\"Japan/Tokyo/Asahi Kasei Corporation\",\"United States of America/Washington, DC/Associated Universities Inc.\",\"United Kingdom/Harwell, Berkshire/Atomic Energy Research Establishment\",\"Not Available/Not Available/Aung San Suu Kyi\",\"Australia/Canberra/Australian National University\",\"Australia/Weston Creek/Australian National University\",\"Switzerland/Basel/Basel Institute for Immunology\",\"Switzerland/Basel/Basel University\",\"United States of America/Holmdel, NJ/Bell Laboratories\",\"United States of America/Murray Hill, NJ/Bell Laboratories\",\"United States of America/New York, NY/Bell Laboratories\",\"Germany/Berlin/Berlin University\",\"Switzerland/Berne/Berne University\",\"United States of America/New York, NY/Binghamton University State University of New York\",\"Switzerland/Basel/Biozentrum der Universit\\u00e4t\",\"United Kingdom/Birmingham/Birmingham University\",\"United States of America/Waltham MA/Brandeis University\",\"United States of America/Boston, MA/Brigham and Women's Hospital\",\"United Kingdom/Bristol/Bristol University\",\"United States of America/Providence, RI/Brown University\",\"Belgium/Brussels/Brussels University\",\"France/S\\u00e8vres/Bureau International des Poids et Mesures (International Bureau of Weights and Measures)\",\"Not Available/Not Available/Bureau international permanent de la Paix (Permanent International Peace Bureau)\",\"Switzerland/Geneva/CERN\",\"India/Calcutta/Calcutta University\",\"Not Available/Not Available/California Institute of Technology (Caltech)\",\"United States of America/Pasadena, CA/California Institute of Technology (Caltech)\",\"United Kingdom/Cardiff/Cardiff University\",\"United States of America/New York, NY/Carnegie Institution of Washington\",\"United States of America/Pittsburgh, PA/Carnegie Mellon University\",\"United States of America/Fairfax, VA/Center for Study of Public Choice\",\"United Kingdom/London/Central Research Laboratories, EMI\",\"United States of America/Boston, MA/Children's Medical Center\",\"China/Beijing/China Academy of Traditional Chinese Medicine\",\"United States of America/New York, NY/City University of New York\",\"United States of America/Cold Spring Harbor, NY/Cold Spring Harbor Laboratory\",\"France/Paris/Coll\\u00e8ge de France\",\"Germany/Cologne/Cologne University\",\"United States of America/New York, NY/Columbia University\",\"Not Available/Not Available/Columbia University\",\"Not Available/Not Available/Comit\\u00e9 international de la Croix Rouge (International Committee of the Red Cross)\",\"Denmark/Copenhagen/Copenhagen University\",\"United States of America/Ithaca, NY/Cornell University\",\"United Kingdom/London/Department of Scientific and Industrial Research\",\"United States of America/Mountain View, CA/Digital Pathways, Inc.\",\"United States of America/Madison, NJ/Drew University\",\"United States of America/Wilmington, DE/Du Pont\",\"United Kingdom/Edinburgh/Edinburgh University\",\"Switzerland/Zurich/Eidgen\\u00f6ssische Technische Hochschule (Swiss Federal Institute of Technology)\",\"Not Available/Not Available/European Union (EU)\",\"United States of America/Batavia, IL/Fermi National Accelerator Laboratory\",\"Denmark/Copenhagen/Finsen Medical Light Institute\",\"Germany/J&uuml;lich/Forschungszentrum J&uuml;lich\",\"United Kingdom/Hertfordshire/Francis Crick Institute\",\"Germany/Frankfurt-on-the-Main/Frankfurt-on-the-Main University\",\"United States of America/Seattle, WA/Fred Hutchinson Cancer Research Center\",\"Not Available/Not Available/Friends Service Council (The Quakers)\",\"Germany/Berlin-Dahlem/Fritz-Haber-Institut\",\"Germany/Berlin/Fritz-Haber-Institut der Max-Planck-Gesellschaft\",\"United States of America/Schenectady, NY/General Electric Company\",\"United States of America/Fairfax, VA/George Mason University\",\"Germany/Heidelberg/German Cancer Research Center\",\"Belgium/Ghent/Ghent University\",\"United Kingdom/Bodmin/Glynn Research Laboratories\",\"Germany/G\\u00f6ttingen/Goettingen University\",\"Not Available/Not Available/Grameen Bank\",\"Austria/Graz/Graz University\",\"Germany/Greifswald/Greifswald University\",\"Netherlands/Groningen/Groningen University\",\"United Kingdom/Cambridge/Gurdon Institute\",\"Sweden/Gothenburg/G\\u00f6teborg University\",\"Germany/Halle/Halle University\",\"United States of America/Boston, MA/Harvard Medical School\",\"United States of America/Cambridge, MA/Harvard University\",\"Not Available/Not Available/Harvard University\",\"Japan/Tsukuba/High Energy Accelerator Research Organization (KEK)\",\"Japan/Sapporo/Hokkaido University\",\"United States of America/Chevy Chase/Howard Hughes Medical Institute\",\"United States of America/Durham, NC/Howard Hughes Medical Institute\",\"United States of America/Yorktown Heights, NY/IBM Thomas J. Watson Research Center\",\"Switzerland/R\\u00fcschlikon/IBM Zurich Research Laboratory\",\"United Kingdom/London/Imperial Cancer Research Fund\",\"United Kingdom/London/Imperial College\",\"United States of America/Bloomington, IN/Indiana University\",\"Austria/Innsbruck/Innsbruck University\",\"France/Rueil-Malmaison/Institut Fran\\u00e7ais du P\\u00e9trole\",\"France/Paris/Institut Pasteur\",\"Tunisia/Tunis/Institut Pasteur\",\"Not Available/Not Available/Institut de droit international (Institute of International Law)\",\"France/Paris/Institut du Radium\",\"United States of America/Princeton, NJ/Institute for Advanced Study\",\"Argentina/Buenos Aires/Institute for Biochemical Research\",\"Russia/Moscow/Institute for Chemical Physics of the Academy of Sciences of the USSR\",\"Germany/Berlin/Institute for Infectious Diseases\",\"Italy/Rome/Institute of Cell Biology of the C.N.R.\",\"United Kingdom/Cambridge/Institute of Physical Chemistry\",\"Italy/Milan/Institute of Technology\",\"Argentina/Buenos Aires/Instituto de Biologia y Medicina Experimental (Institute for Biology and Experimental Medicine)\",\"Not Available/Not Available/Intergovernmental Panel on Climate Change (IPCC)\",\"Not Available/Not Available/International Atomic Energy Agency (IAEA)\",\"Not Available/Not Available/International Campaign to Abolish Nuclear Weapons (ICAN)\",\"Not Available/Not Available/International Campaign to Ban Landmines (ICBL)\",\"Italy/Trieste/International Centre for Theoretical Physics\",\"Not Available/Not Available/International Labour Organization (I.L.O.)\",\"Not Available/Not Available/International Physicians for the Prevention of Nuclear War\",\"Italy/Rome/Istituto Superiore di Sanit\\u00e0 (Chief Institute of Public Health)\",\"United States of America/Bar Harbor, ME/Jackson Laboratory\",\"United States of America/Ashburn, VA/Janelia Research Campus, Howard Hughes Medical Institute\",\"United States of America/Baltimore, MD/Johns Hopkins University\",\"Sweden/Stockholm/Karolinska Institutet\",\"Germany/Kiel/Kiel University\",\"Japan/Tokyo/Kitasato University\",\"Austria/Altenberg; Gr\\u00fcnau im Almtal/Konrad-Lorenz-Institut der \\u00d6sterreichischen Akademie der Wissen\\u00adschaften, Forschungsstelle f\\u00fcr Ethologie\",\"Japan/Kyoto/Kyoto Sangyo University\",\"Japan/Kyoto/Kyoto University\",\"Not Available/Not Available/LIGO/VIRGO Collaboration\",\"United States of America/New York, NY/Laboratories of the Division of Medicine and Public Health, Rockefeller Foundation\",\"Switzerland/Basel/Laboratorium der Farben-Fabriken J.R. Geigy A.G. (Laboratory of the J.R. Geigy Dye-Factory Co.)\",\"Germany/Berlin/Landwirtschaftliche Hochschule (Agricultural College)\",\"United States of America/Berkeley, CA/Lawrence Berkeley National Laboratory\",\"Not Available/Not Available/Le Duc Tho\",\"Netherlands/Leiden/Leiden University\",\"Germany/Leipzig/Leipzig University\",\"Not Available/Not Available/Ligue des Soci\\u00e9t\\u00e9s de la Croix-Rouge (League of Red Cross Societies)\",\"United Kingdom/Liverpool/Liverpool University\",\"United Kingdom/London/London School of Economics and Political Science\",\"United Kingdom/London/London University\",\"United States of America/Greenwich, CT/Long Term Capital Management\",\"United Kingdom/Cambridge/MRC Laboratory of Molecular Biology\",\"Spain/Madrid/Madrid University\",\"Germany/Mainz/Mainz University\",\"Germany/Marburg/Marburg University\",\"United Kingdom/London/Marconi Wireless Telegraph Co. Ltd.\",\"United States of America/Woods Hole, MA/Marine Biological Laboratory (MBL)\",\"United States of America/Cambridge, MA/Massachusetts Institute of Technology (MIT)\",\"Germany/Berlin/Max-Planck Institut\",\"Germany/Berlin-Dahlem/Max-Planck Institut\",\"Germany/Heidelberg/Max-Planck Institut\",\"Germany/Berlin/Max-Planck-Institut\",\"Germany/Frankfurt-on-the-Main/Max-Planck-Institut\",\"Germany/Garching/Max-Planck-Institut\",\"Germany/G\\u00f6ttingen/Max-Planck-Institut\",\"Germany/Heidelberg/Max-Planck-Institut\",\"Germany/Mainz/Max-Planck-Institut\",\"Germany/Martinsried/Max-Planck-Institut\",\"Germany/Munich/Max-Planck-Institut\",\"Germany/M\\u00fclheim/Ruhr/Max-Planck-Institut\",\"Germany/Stuttgart/Max-Planck-Institut\",\"Germany/T\\u00fcbingen/Max-Planck-Institut\",\"United States of America/Rochester, MN/Mayo Clinic\",\"Canada/Hamilton, Ontario/McMaster University\",\"Japan/Nagoya/Meijo University\",\"Russia/St. Petersburg/Military Medical Academy\",\"Not Available/Not Available/Mother Teresa\",\"Germany/Munich/Munich University\",\"Germany/Munster/Munster University\",\"Not Available/Not Available/M\\u00e9decins Sans Fronti\\u00e8res\",\"United States of America/Greenbelt, MD/NASA Goddard Space Flight Center\",\"Australia/Nedlands/NHMRC Helicobacter pylori Research Laboratory, QEII Medical Centre\",\"Japan/Nagoya/Nagoya University\",\"France/Nancy/Nancy University\",\"Not Available/Not Available/National Dialogue Quartet\",\"United Kingdom/London/National Institute for Medical Research\",\"United States of America/Research Triangle Park, NC/National Institute of Environmental Health Sciences\",\"United States of America/Boulder, CO/National Institute of Standards and Technology\",\"United States of America/Gaithersburg, MD/National Institute of Standards and Technology\",\"United States of America/Bethesda, MD/National Institutes of Health\",\"Canada/Ottawa/National Research Council of Canada\",\"United States of America/Beverly, MA/New England Biolabs\",\"United States of America/New York, NY/New York University\",\"Denmark/Copenhagen/Niels Bohr Institute\",\"Denmark/Copenhagen/Nordita\",\"United States of America/Evanston, IL/Northwestern University\",\"Norway/Trondheim/Norwegian University of Science and Technology (NTNU)\",\"Netherlands/Bilthoven/Not affiliated\",\"United States of America/La Jolla, CA/Not affiliated\",\"Not Available/Not Available/Not affiliated\",\"Australia/Perth/Not affiliated\",\"United States of America/St. Louis, MO/Not affiliated\",\"Not Available/Not Available/Office international Nansen pour les R\\u00e9fugi\\u00e9s (Nansen International Office for Refugees)\",\"Not Available/Not Available/Office of the United Nations High Commissioner for Refugees (UNHCR)\",\"Not Available/Not Available/Organisation for the Prohibition of Chemical Weapons (OPCW)\",\"Russia/Moscow/P.N. Lebedev Physical Institute\",\"United States of America/San Francisco, CA/Parker Institute for Cancer Immunotherapy\",\"Italy/Pavia/Pavia University\",\"Czech Republic/Prague/Polarographic Institute of the Czechoslovak Academy of Science\",\"Denmark/Copenhagen/Polytechnic Institute\",\"United States of America/Princeton, NJ/Princeton University\",\"Not Available/Not Available/Pugwash Conferences on Science and World Affairs\",\"United States of America/West Lafayette, IN/Purdue University\",\"Canada/Kingston/Queen's University\",\"Germany/Bonn/Rheinische Friedrich-Wilhelms-Universit\\u00e4t\",\"United States of America/Houston, TX/Rice University\",\"United States of America/New York, NY/Rockefeller Institute for Medical Research\",\"United States of America/Princeton, NJ/Rockefeller Institute for Medical Research\",\"United States of America/New York, NY/Rockefeller University\",\"Italy/Rome/Rome University\",\"United Kingdom/Bucksburn (Scotland)/Rowett Research Institute\",\"Sweden/Stockholm/Royal Institute of Technology\",\"United Kingdom/London/Royal Institution of Great Britain\",\"United States of America/New Brunswick, NJ/Rutgers University\",\"United States of America/New York, NY/SUNY Health Science Center\",\"United States of America/St. Louis, MO/Saint Louis University\",\"United States of America/Mountain View, CA/Semiconductor Laboratory of Beckman Instruments, Inc.\",\"United Kingdom/Sheffield/Sheffield University\",\"Japan/Kyoto/Shimadzu Corp.\",\"Not Available/Not Available/Sorbonne University\",\"France/Paris/Sorbonne University\",\"United States of America/Memphis, TN/St. Jude Children's Research Hospital\",\"United Kingdom/Harlow/Standard Telecommunication Laboratories\",\"United States of America/Stanford, CA/Stanford Linear Accelerator Center\",\"United States of America/Stanford, CA/Stanford University\",\"Sweden/Stockholm/Stockholm School of Economics\",\"Sweden/Stockholm/Stockholm University\",\"France/Strasbourg/Strasbourg University\",\"Sweden/Liding\\u00f6-Stockholm/Swedish Gas-Accumulator Co.\",\"Hungary/Szeged/Szeged University\",\"Germany/Munich/Technical University\",\"Israel/Haifa/Technion - Israel Institute of Technology\",\"Germany/Munich/Technische Hochschule (Institute of Technology)\",\"United States of America/Dallas, TX/Texas Instruments\",\"Not Available/Not Available/The 14th Dalai Lama (Tenzin Gyatso)\",\"United States of America/Philadelphia, PA/The Institute for Cancer Research\",\"United States of America/Buffalo, NY/The Medical Foundation of Buffalo\",\"United States of America/Berkeley, CA/The Molecular Sciences Institute\",\"Netherlands/Rotterdam/The Netherlands School of Economics\",\"United States of America/San Diego, CA/The Salk Institute\",\"United States of America/La Jolla, CA/The Scripps Research Institute\",\"United Kingdom/Beckenham/The Wellcome Research Laboratories\",\"United Kingdom/Cambridge/The Wellcome Trust Sanger Institute\",\"Japan/Tokyo/Tokyo Institute of Technology\",\"Japan/Tokyo/Tokyo University of Education\",\"France/Toulouse/Toulouse School of Economics (TSE)\",\"France/Toulouse/Toulouse University\",\"Ireland/Dublin/Trinity College\",\"United States of America/Medford, MA/Tufts University\",\"United States of America/Washington, DC/US Naval Research Laboratory\",\"Not Available/Not Available/United Nations (U.N.)\",\"Not Available/Not Available/United Nations Children's Fund (UNICEF)\",\"Not Available/Not Available/United Nations Peacekeeping Forces\",\"United Kingdom/Liverpool/University College London\",\"United Kingdom/London/University College London\",\"Canada/Edmonton/University of Alberta\",\"Germany/Bonn/University of Bonn\",\"Canada/Vancouver/University of British Columbia\",\"United States of America/Berkeley, CA/University of California\",\"United States of America/Irvine, CA/University of California\",\"United States of America/Los Angeles, CA/University of California\",\"United States of America/San Diego, CA/University of California\",\"United States of America/San Francisco, CA/University of California\",\"United States of America/Santa Barbara, CA/University of California\",\"United Kingdom/Cambridge/University of Cambridge\",\"United States of America/Chicago, IL/University of Chicago\",\"United States of America/Boulder, CO/University of Colorado\",\"Not Available/Not Available/University of Delaware\",\"United Kingdom/Edinburgh/University of Edinburgh\",\"Germany/Breisgau/University of Freiburg\",\"Switzerland/Geneva/University of Geneva\",\"France/Grenoble/University of Grenoble\",\"Netherlands/Groningen/University of Groningen\",\"Germany/Heidelberg/University of Heidelberg\",\"Finland/Helsinki/University of Helsinki\",\"United States of America/Urbana, IL/University of Illinois\",\"Israel/Jerusalem/University of Jerusalem, Center for Rationality\",\"Switzerland/Lausanne/University of Lausanne\",\"Portugal/Lisbon/University of Lisbon\",\"United States of America/Maine ME/University of Maine\",\"United Kingdom/Manchester/University of Manchester\",\"United States of America/College Park, MD/University of Maryland, Department of Economics and School of Public Policy\",\"United States of America/Worcester, MA/University of Massachusetts Medical School\",\"United States of America/Minneapolis, MN/University of Minnesota\",\"United States of America/Columbia/University of Missouri\",\"Russia/Moscow/University of Moscow\",\"United States of America/Chapel Hill, NC/University of North Carolina\",\"United Kingdom/Nottingham/University of Nottingham, School of Physics and Astronomy\",\"Norway/Oslo/University of Oslo\",\"United Kingdom/Oxford/University of Oxford\",\"United States of America/Philadelphia, PA/University of Pennsylvania\",\"United States of America/Rochester, NY/University of Rochester\",\"United States of America/Los Angeles, CA/University of Southern California\",\"France/Strasbourg/University of Strasbourg\",\"United Kingdom/Brighton/University of Sussex\",\"United States of America/Austin TX/University of Texas\",\"United States of America/Houston, TX/University of Texas\",\"United States of America/Dallas, TX/University of Texas Southwestern Medical Center at Dallas\",\"Japan/Kashiwa/University of Tokyo\",\"Japan/Tokyo/University of Tokyo\",\"Canada/Toronto/University of Toronto\",\"Japan/Tokyo/University of Tsukuba\",\"United States of America/Salt Lake City, UT/University of Utah\",\"United States of America/Seattle, WA/University of Washington\",\"Canada/Waterloo/University of Waterloo\",\"United States of America/Madison, WI/University of Wisconsin\",\"Switzerland/Zurich/University of Zurich\",\"Belgium/Louvain/Universit\\u00e9 Catholique de Louvain\",\"Belgium/Brussels/Universit\\u00e9 Libre de Bruxelles\",\"France/Strasbourg/Universit\\u00e9 Louis Pasteur\",\"France/Orsay/Universit\\u00e9 Paris-Saclay\",\"France/Paris/Universit\\u00e9 de Paris, Laboratoire Immuno-H\\u00e9matologie\",\"France/Strasbourg/Universit\\u00e9 de Strasbourg\",\"Sweden/Uppsala/Uppsala University\",\"Netherlands/Utrecht/Utrecht University\",\"United States of America/Nashville, TN/Vanderbilt University\",\"United States of America/New Orleans, LA/Veterans Administration Hospital\",\"United States of America/New York, NY/Veterans Administration Hospital\",\"United Kingdom/Manchester/Victoria University\",\"Austria/Vienna/Vienna University\",\"United States of America/Richmond, VA/Virginia Commonwealth University\",\"Australia/Melbourne/Walter and Eliza Hall Institute for Medical Research\",\"United States of America/St. Louis, MO/Washington University\",\"Israel/Rehovot/Weizmann Institute of Science\",\"United States of America/Research Triangle Park, NC/Wellcome Research Laboratories\",\"United States of America/Cleveland, OH/Western Reserve University\",\"Not Available/Not Available/World Food Programme (WFP)\",\"France/Paris/World Foundation for AIDS Research and Prevention\",\"Germany/W\\u00fcrzburg/W\\u00fcrzburg University\",\"United States of America/New Haven, CT/Yale University\",\"France/Paris/\\u00c9cole Nationale Sup\\u00e9rieur des Mines de Paris\",\"France/Paris/\\u00c9cole Normale Sup\\u00e9rieure\",\"France/Palaiseau/\\u00c9cole Polytechnique\",\"France/Paris/\\u00c9cole Polytechnique\",\"France/Paris/\\u00c9cole Sup\\u00e9rieure de Physique et Chimie\",\"France/Paris/\\u00c9cole municipale de physique et de chimie industrielles (Municipal School of Industrial Physics and Chemistry)\",\"Denmark/Aarhus\",\"Austria/Altenberg; Gr\\u00fcnau im Almtal\",\"Netherlands/Amsterdam\",\"United States of America/Argonne, IL\",\"United States of America/Ashburn, VA\",\"United States of America/Austin TX\",\"United States of America/Baltimore, MD\",\"United States of America/Bar Harbor, ME\",\"Switzerland/Basel\",\"United States of America/Batavia, IL\",\"United Kingdom/Beckenham\",\"China/Beijing\",\"United States of America/Berkeley, CA\",\"Germany/Berlin\",\"Germany/Berlin-Dahlem\",\"Switzerland/Berne\",\"United States of America/Bethesda, MD\",\"United States of America/Beverly, MA\",\"Netherlands/Bilthoven\",\"United Kingdom/Birmingham\",\"United States of America/Bloomington, IN\",\"United Kingdom/Bodmin\",\"Germany/Bonn\",\"United States of America/Boston, MA\",\"United States of America/Boulder, CO\",\"Germany/Breisgau\",\"United Kingdom/Brighton\",\"United Kingdom/Bristol\",\"Belgium/Brussels\",\"United Kingdom/Bucksburn (Scotland)\",\"Argentina/Buenos Aires\",\"United States of America/Buffalo, NY\",\"India/Calcutta\",\"United Kingdom/Cambridge\",\"United States of America/Cambridge, MA\",\"Australia/Canberra\",\"United Kingdom/Cardiff\",\"United States of America/Chapel Hill, NC\",\"United States of America/Chevy Chase\",\"United States of America/Chicago, IL\",\"United States of America/Cleveland, OH\",\"United States of America/Cold Spring Harbor, NY\",\"United States of America/College Park, MD\",\"Germany/Cologne\",\"United States of America/Columbia\",\"Denmark/Copenhagen\",\"United States of America/Dallas, TX\",\"Ireland/Dublin\",\"United States of America/Durham, NC\",\"United Kingdom/Edinburgh\",\"Canada/Edmonton\",\"United States of America/Evanston, IL\",\"United States of America/Fairfax, VA\",\"Germany/Frankfurt-on-the-Main\",\"United States of America/Gaithersburg, MD\",\"Germany/Garching\",\"Switzerland/Geneva\",\"Belgium/Ghent\",\"Sweden/Gothenburg\",\"Austria/Graz\",\"United States of America/Greenbelt, MD\",\"United States of America/Greenwich, CT\",\"Germany/Greifswald\",\"France/Grenoble\",\"Netherlands/Groningen\",\"Germany/G\\u00f6ttingen\",\"Israel/Haifa\",\"Germany/Halle\",\"Canada/Hamilton, Ontario\",\"United Kingdom/Harlow\",\"United Kingdom/Harwell, Berkshire\",\"Germany/Heidelberg\",\"Finland/Helsinki\",\"United Kingdom/Hertfordshire\",\"United States of America/Holmdel, NJ\",\"United States of America/Houston, TX\",\"Austria/Innsbruck\",\"United States of America/Irvine, CA\",\"United States of America/Ithaca, NY\",\"Germany/J&uuml;lich\",\"Israel/Jerusalem\",\"Japan/Kashiwa\",\"Germany/Kiel\",\"Canada/Kingston\",\"Japan/Kyoto\",\"United States of America/La Jolla, CA\",\"Switzerland/Lausanne\",\"Netherlands/Leiden\",\"Germany/Leipzig\",\"Sweden/Liding\\u00f6-Stockholm\",\"Portugal/Lisbon\",\"United Kingdom/Liverpool\",\"United Kingdom/London\",\"United States of America/Los Angeles, CA\",\"Belgium/Louvain\",\"United States of America/Madison, NJ\",\"United States of America/Madison, WI\",\"Spain/Madrid\",\"United States of America/Maine ME\",\"Germany/Mainz\",\"United Kingdom/Manchester\",\"Germany/Marburg\",\"Germany/Martinsried\",\"United States of America/Medford, MA\",\"Australia/Melbourne\",\"United States of America/Memphis, TN\",\"Italy/Milan\",\"United States of America/Minneapolis, MN\",\"Russia/Moscow\",\"United States of America/Mountain View, CA\",\"Germany/Munich\",\"Germany/Munster\",\"United States of America/Murray Hill, NJ\",\"Germany/M\\u00fclheim/Ruhr\",\"Japan/Nagoya\",\"France/Nancy\",\"United States of America/Nashville, TN\",\"Australia/Nedlands\",\"United States of America/New Brunswick, NJ\",\"United States of America/New Haven, CT\",\"United States of America/New Orleans, LA\",\"United States of America/New York, NY\",\"Not Available/Not Available\",\"United Kingdom/Nottingham\",\"France/Orsay\",\"Norway/Oslo\",\"Canada/Ottawa\",\"United Kingdom/Oxford\",\"France/Palaiseau\",\"France/Paris\",\"United States of America/Pasadena, CA\",\"Italy/Pavia\",\"Australia/Perth\",\"United States of America/Philadelphia, PA\",\"United States of America/Pittsburgh, PA\",\"Czech Republic/Prague\",\"United States of America/Princeton, NJ\",\"United States of America/Providence, RI\",\"Israel/Rehovot\",\"United States of America/Research Triangle Park, NC\",\"United States of America/Richmond, VA\",\"United States of America/Rochester, MN\",\"United States of America/Rochester, NY\",\"Italy/Rome\",\"Netherlands/Rotterdam\",\"France/Rueil-Malmaison\",\"Switzerland/R\\u00fcschlikon\",\"United States of America/Salt Lake City, UT\",\"United States of America/San Diego, CA\",\"United States of America/San Francisco, CA\",\"United States of America/Santa Barbara, CA\",\"Japan/Sapporo\",\"United States of America/Schenectady, NY\",\"United States of America/Seattle, WA\",\"United Kingdom/Sheffield\",\"United States of America/St. Louis, MO\",\"Russia/St. Petersburg\",\"United States of America/Stanford, CA\",\"Sweden/Stockholm\",\"France/Strasbourg\",\"Germany/Stuttgart\",\"Hungary/Szeged\",\"France/S\\u00e8vres\",\"United States of America/Tempe, AZ\",\"Japan/Tokyo\",\"Canada/Toronto\",\"France/Toulouse\",\"Italy/Trieste\",\"Norway/Trondheim\",\"Japan/Tsukuba\",\"Tunisia/Tunis\",\"Germany/T\\u00fcbingen\",\"Sweden/Uppsala\",\"United States of America/Urbana, IL\",\"Netherlands/Utrecht\",\"Canada/Vancouver\",\"Austria/Vienna\",\"United States of America/Waltham MA\",\"United States of America/Washington, DC\",\"Canada/Waterloo\",\"United States of America/West Lafayette, IN\",\"Australia/Weston Creek\",\"United States of America/Wilmington, DE\",\"United States of America/Woods Hole, MA\",\"United States of America/Worcester, MA\",\"Germany/W\\u00fcrzburg\",\"United States of America/Yorktown Heights, NY\",\"Switzerland/Zurich\",\"Argentina\",\"Australia\",\"Austria\",\"Belgium\",\"Canada\",\"China\",\"Czech Republic\",\"Denmark\",\"Finland\",\"France\",\"Germany\",\"Hungary\",\"India\",\"Ireland\",\"Israel\",\"Italy\",\"Japan\",\"Netherlands\",\"Norway\",\"Not Available\",\"Portugal\",\"Russia\",\"Spain\",\"Sweden\",\"Switzerland\",\"Tunisia\",\"United Kingdom\",\"United States of America\"],\"labels\":[\"A.F. Ioffe Physico-Technical Institute\",\"Aarhus University\",\"Academy of Sciences\",\"American Friends Service Committee (The Quakers)\",\"Amnesty International\",\"Amsterdam University\",\"Argonne National Laboratory\",\"Arizona State University\",\"Asahi Kasei Corporation\",\"Associated Universities Inc.\",\"Atomic Energy Research Establishment\",\"Aung San Suu Kyi\",\"Australian National University\",\"Australian National University\",\"Basel Institute for Immunology\",\"Basel University\",\"Bell Laboratories\",\"Bell Laboratories\",\"Bell Laboratories\",\"Berlin University\",\"Berne University\",\"Binghamton University State University of New York\",\"Biozentrum der Universit\\u00e4t\",\"Birmingham University\",\"Brandeis University\",\"Brigham and Women's Hospital\",\"Bristol University\",\"Brown University\",\"Brussels University\",\"Bureau International des Poids et Mesures (International Bureau of Weights and Measures)\",\"Bureau international permanent de la Paix (Permanent International Peace Bureau)\",\"CERN\",\"Calcutta University\",\"California Institute of Technology (Caltech)\",\"California Institute of Technology (Caltech)\",\"Cardiff University\",\"Carnegie Institution of Washington\",\"Carnegie Mellon University\",\"Center for Study of Public Choice\",\"Central Research Laboratories, EMI\",\"Children's Medical Center\",\"China Academy of Traditional Chinese Medicine\",\"City University of New York\",\"Cold Spring Harbor Laboratory\",\"Coll\\u00e8ge de France\",\"Cologne University\",\"Columbia University\",\"Columbia University\",\"Comit\\u00e9 international de la Croix Rouge (International Committee of the Red Cross)\",\"Copenhagen University\",\"Cornell University\",\"Department of Scientific and Industrial Research\",\"Digital Pathways, Inc.\",\"Drew University\",\"Du Pont\",\"Edinburgh University\",\"Eidgen\\u00f6ssische Technische Hochschule (Swiss Federal Institute of Technology)\",\"European Union (EU)\",\"Fermi National Accelerator Laboratory\",\"Finsen Medical Light Institute\",\"Forschungszentrum J&uuml;lich\",\"Francis Crick Institute\",\"Frankfurt-on-the-Main University\",\"Fred Hutchinson Cancer Research Center\",\"Friends Service Council (The Quakers)\",\"Fritz-Haber-Institut\",\"Fritz-Haber-Institut der Max-Planck-Gesellschaft\",\"General Electric Company\",\"George Mason University\",\"German Cancer Research Center\",\"Ghent University\",\"Glynn Research Laboratories\",\"Goettingen University\",\"Grameen Bank\",\"Graz University\",\"Greifswald University\",\"Groningen University\",\"Gurdon Institute\",\"G\\u00f6teborg University\",\"Halle University\",\"Harvard Medical School\",\"Harvard University\",\"Harvard University\",\"High Energy Accelerator Research Organization (KEK)\",\"Hokkaido University\",\"Howard Hughes Medical Institute\",\"Howard Hughes Medical Institute\",\"IBM Thomas J. Watson Research Center\",\"IBM Zurich Research Laboratory\",\"Imperial Cancer Research Fund\",\"Imperial College\",\"Indiana University\",\"Innsbruck University\",\"Institut Fran\\u00e7ais du P\\u00e9trole\",\"Institut Pasteur\",\"Institut Pasteur\",\"Institut de droit international (Institute of International Law)\",\"Institut du Radium\",\"Institute for Advanced Study\",\"Institute for Biochemical Research\",\"Institute for Chemical Physics of the Academy of Sciences of the USSR\",\"Institute for Infectious Diseases\",\"Institute of Cell Biology of the C.N.R.\",\"Institute of Physical Chemistry\",\"Institute of Technology\",\"Instituto de Biologia y Medicina Experimental (Institute for Biology and Experimental Medicine)\",\"Intergovernmental Panel on Climate Change (IPCC)\",\"International Atomic Energy Agency (IAEA)\",\"International Campaign to Abolish Nuclear Weapons (ICAN)\",\"International Campaign to Ban Landmines (ICBL)\",\"International Centre for Theoretical Physics\",\"International Labour Organization (I.L.O.)\",\"International Physicians for the Prevention of Nuclear War\",\"Istituto Superiore di Sanit\\u00e0 (Chief Institute of Public Health)\",\"Jackson Laboratory\",\"Janelia Research Campus, Howard Hughes Medical Institute\",\"Johns Hopkins University\",\"Karolinska Institutet\",\"Kiel University\",\"Kitasato University\",\"Konrad-Lorenz-Institut der \\u00d6sterreichischen Akademie der Wissen\\u00adschaften, Forschungsstelle f\\u00fcr Ethologie\",\"Kyoto Sangyo University\",\"Kyoto University\",\"LIGO/VIRGO Collaboration\",\"Laboratories of the Division of Medicine and Public Health, Rockefeller Foundation\",\"Laboratorium der Farben-Fabriken J.R. Geigy A.G. (Laboratory of the J.R. Geigy Dye-Factory Co.)\",\"Landwirtschaftliche Hochschule (Agricultural College)\",\"Lawrence Berkeley National Laboratory\",\"Le Duc Tho\",\"Leiden University\",\"Leipzig University\",\"Ligue des Soci\\u00e9t\\u00e9s de la Croix-Rouge (League of Red Cross Societies)\",\"Liverpool University\",\"London School of Economics and Political Science\",\"London University\",\"Long Term Capital Management\",\"MRC Laboratory of Molecular Biology\",\"Madrid University\",\"Mainz University\",\"Marburg University\",\"Marconi Wireless Telegraph Co. Ltd.\",\"Marine Biological Laboratory (MBL)\",\"Massachusetts Institute of Technology (MIT)\",\"Max-Planck Institut\",\"Max-Planck Institut\",\"Max-Planck Institut\",\"Max-Planck-Institut\",\"Max-Planck-Institut\",\"Max-Planck-Institut\",\"Max-Planck-Institut\",\"Max-Planck-Institut\",\"Max-Planck-Institut\",\"Max-Planck-Institut\",\"Max-Planck-Institut\",\"Max-Planck-Institut\",\"Max-Planck-Institut\",\"Max-Planck-Institut\",\"Mayo Clinic\",\"McMaster University\",\"Meijo University\",\"Military Medical Academy\",\"Mother Teresa\",\"Munich University\",\"Munster University\",\"M\\u00e9decins Sans Fronti\\u00e8res\",\"NASA Goddard Space Flight Center\",\"NHMRC Helicobacter pylori Research Laboratory, QEII Medical Centre\",\"Nagoya University\",\"Nancy University\",\"National Dialogue Quartet\",\"National Institute for Medical Research\",\"National Institute of Environmental Health Sciences\",\"National Institute of Standards and Technology\",\"National Institute of Standards and Technology\",\"National Institutes of Health\",\"National Research Council of Canada\",\"New England Biolabs\",\"New York University\",\"Niels Bohr Institute\",\"Nordita\",\"Northwestern University\",\"Norwegian University of Science and Technology (NTNU)\",\"Not affiliated\",\"Not affiliated\",\"Not affiliated\",\"Not affiliated\",\"Not affiliated\",\"Office international Nansen pour les R\\u00e9fugi\\u00e9s (Nansen International Office for Refugees)\",\"Office of the United Nations High Commissioner for Refugees (UNHCR)\",\"Organisation for the Prohibition of Chemical Weapons (OPCW)\",\"P.N. Lebedev Physical Institute\",\"Parker Institute for Cancer Immunotherapy\",\"Pavia University\",\"Polarographic Institute of the Czechoslovak Academy of Science\",\"Polytechnic Institute\",\"Princeton University\",\"Pugwash Conferences on Science and World Affairs\",\"Purdue University\",\"Queen's University\",\"Rheinische Friedrich-Wilhelms-Universit\\u00e4t\",\"Rice University\",\"Rockefeller Institute for Medical Research\",\"Rockefeller Institute for Medical Research\",\"Rockefeller University\",\"Rome University\",\"Rowett Research Institute\",\"Royal Institute of Technology\",\"Royal Institution of Great Britain\",\"Rutgers University\",\"SUNY Health Science Center\",\"Saint Louis University\",\"Semiconductor Laboratory of Beckman Instruments, Inc.\",\"Sheffield University\",\"Shimadzu Corp.\",\"Sorbonne University\",\"Sorbonne University\",\"St. Jude Children's Research Hospital\",\"Standard Telecommunication Laboratories\",\"Stanford Linear Accelerator Center\",\"Stanford University\",\"Stockholm School of Economics\",\"Stockholm University\",\"Strasbourg University\",\"Swedish Gas-Accumulator Co.\",\"Szeged University\",\"Technical University\",\"Technion - Israel Institute of Technology\",\"Technische Hochschule (Institute of Technology)\",\"Texas Instruments\",\"The 14th Dalai Lama (Tenzin Gyatso)\",\"The Institute for Cancer Research\",\"The Medical Foundation of Buffalo\",\"The Molecular Sciences Institute\",\"The Netherlands School of Economics\",\"The Salk Institute\",\"The Scripps Research Institute\",\"The Wellcome Research Laboratories\",\"The Wellcome Trust Sanger Institute\",\"Tokyo Institute of Technology\",\"Tokyo University of Education\",\"Toulouse School of Economics (TSE)\",\"Toulouse University\",\"Trinity College\",\"Tufts University\",\"US Naval Research Laboratory\",\"United Nations (U.N.)\",\"United Nations Children's Fund (UNICEF)\",\"United Nations Peacekeeping Forces\",\"University College London\",\"University College London\",\"University of Alberta\",\"University of Bonn\",\"University of British Columbia\",\"University of California\",\"University of California\",\"University of California\",\"University of California\",\"University of California\",\"University of California\",\"University of Cambridge\",\"University of Chicago\",\"University of Colorado\",\"University of Delaware\",\"University of Edinburgh\",\"University of Freiburg\",\"University of Geneva\",\"University of Grenoble\",\"University of Groningen\",\"University of Heidelberg\",\"University of Helsinki\",\"University of Illinois\",\"University of Jerusalem, Center for Rationality\",\"University of Lausanne\",\"University of Lisbon\",\"University of Maine\",\"University of Manchester\",\"University of Maryland, Department of Economics and School of Public Policy\",\"University of Massachusetts Medical School\",\"University of Minnesota\",\"University of Missouri\",\"University of Moscow\",\"University of North Carolina\",\"University of Nottingham, School of Physics and Astronomy\",\"University of Oslo\",\"University of Oxford\",\"University of Pennsylvania\",\"University of Rochester\",\"University of Southern California\",\"University of Strasbourg\",\"University of Sussex\",\"University of Texas\",\"University of Texas\",\"University of Texas Southwestern Medical Center at Dallas\",\"University of Tokyo\",\"University of Tokyo\",\"University of Toronto\",\"University of Tsukuba\",\"University of Utah\",\"University of Washington\",\"University of Waterloo\",\"University of Wisconsin\",\"University of Zurich\",\"Universit\\u00e9 Catholique de Louvain\",\"Universit\\u00e9 Libre de Bruxelles\",\"Universit\\u00e9 Louis Pasteur\",\"Universit\\u00e9 Paris-Saclay\",\"Universit\\u00e9 de Paris, Laboratoire Immuno-H\\u00e9matologie\",\"Universit\\u00e9 de Strasbourg\",\"Uppsala University\",\"Utrecht University\",\"Vanderbilt University\",\"Veterans Administration Hospital\",\"Veterans Administration Hospital\",\"Victoria University\",\"Vienna University\",\"Virginia Commonwealth University\",\"Walter and Eliza Hall Institute for Medical Research\",\"Washington University\",\"Weizmann Institute of Science\",\"Wellcome Research Laboratories\",\"Western Reserve University\",\"World Food Programme (WFP)\",\"World Foundation for AIDS Research and Prevention\",\"W\\u00fcrzburg University\",\"Yale University\",\"\\u00c9cole Nationale Sup\\u00e9rieur des Mines de Paris\",\"\\u00c9cole Normale Sup\\u00e9rieure\",\"\\u00c9cole Polytechnique\",\"\\u00c9cole Polytechnique\",\"\\u00c9cole Sup\\u00e9rieure de Physique et Chimie\",\"\\u00c9cole municipale de physique et de chimie industrielles (Municipal School of Industrial Physics and Chemistry)\",\"Aarhus\",\"Altenberg; Gr\\u00fcnau im Almtal\",\"Amsterdam\",\"Argonne, IL\",\"Ashburn, VA\",\"Austin TX\",\"Baltimore, MD\",\"Bar Harbor, ME\",\"Basel\",\"Batavia, IL\",\"Beckenham\",\"Beijing\",\"Berkeley, CA\",\"Berlin\",\"Berlin-Dahlem\",\"Berne\",\"Bethesda, MD\",\"Beverly, MA\",\"Bilthoven\",\"Birmingham\",\"Bloomington, IN\",\"Bodmin\",\"Bonn\",\"Boston, MA\",\"Boulder, CO\",\"Breisgau\",\"Brighton\",\"Bristol\",\"Brussels\",\"Bucksburn (Scotland)\",\"Buenos Aires\",\"Buffalo, NY\",\"Calcutta\",\"Cambridge\",\"Cambridge, MA\",\"Canberra\",\"Cardiff\",\"Chapel Hill, NC\",\"Chevy Chase\",\"Chicago, IL\",\"Cleveland, OH\",\"Cold Spring Harbor, NY\",\"College Park, MD\",\"Cologne\",\"Columbia\",\"Copenhagen\",\"Dallas, TX\",\"Dublin\",\"Durham, NC\",\"Edinburgh\",\"Edmonton\",\"Evanston, IL\",\"Fairfax, VA\",\"Frankfurt-on-the-Main\",\"Gaithersburg, MD\",\"Garching\",\"Geneva\",\"Ghent\",\"Gothenburg\",\"Graz\",\"Greenbelt, MD\",\"Greenwich, CT\",\"Greifswald\",\"Grenoble\",\"Groningen\",\"G\\u00f6ttingen\",\"Haifa\",\"Halle\",\"Hamilton, Ontario\",\"Harlow\",\"Harwell, Berkshire\",\"Heidelberg\",\"Helsinki\",\"Hertfordshire\",\"Holmdel, NJ\",\"Houston, TX\",\"Innsbruck\",\"Irvine, CA\",\"Ithaca, NY\",\"J&uuml;lich\",\"Jerusalem\",\"Kashiwa\",\"Kiel\",\"Kingston\",\"Kyoto\",\"La Jolla, CA\",\"Lausanne\",\"Leiden\",\"Leipzig\",\"Liding\\u00f6-Stockholm\",\"Lisbon\",\"Liverpool\",\"London\",\"Los Angeles, CA\",\"Louvain\",\"Madison, NJ\",\"Madison, WI\",\"Madrid\",\"Maine ME\",\"Mainz\",\"Manchester\",\"Marburg\",\"Martinsried\",\"Medford, MA\",\"Melbourne\",\"Memphis, TN\",\"Milan\",\"Minneapolis, MN\",\"Moscow\",\"Mountain View, CA\",\"Munich\",\"Munster\",\"Murray Hill, NJ\",\"M\\u00fclheim/Ruhr\",\"Nagoya\",\"Nancy\",\"Nashville, TN\",\"Nedlands\",\"New Brunswick, NJ\",\"New Haven, CT\",\"New Orleans, LA\",\"New York, NY\",\"Not Available\",\"Nottingham\",\"Orsay\",\"Oslo\",\"Ottawa\",\"Oxford\",\"Palaiseau\",\"Paris\",\"Pasadena, CA\",\"Pavia\",\"Perth\",\"Philadelphia, PA\",\"Pittsburgh, PA\",\"Prague\",\"Princeton, NJ\",\"Providence, RI\",\"Rehovot\",\"Research Triangle Park, NC\",\"Richmond, VA\",\"Rochester, MN\",\"Rochester, NY\",\"Rome\",\"Rotterdam\",\"Rueil-Malmaison\",\"R\\u00fcschlikon\",\"Salt Lake City, UT\",\"San Diego, CA\",\"San Francisco, CA\",\"Santa Barbara, CA\",\"Sapporo\",\"Schenectady, NY\",\"Seattle, WA\",\"Sheffield\",\"St. Louis, MO\",\"St. Petersburg\",\"Stanford, CA\",\"Stockholm\",\"Strasbourg\",\"Stuttgart\",\"Szeged\",\"S\\u00e8vres\",\"Tempe, AZ\",\"Tokyo\",\"Toronto\",\"Toulouse\",\"Trieste\",\"Trondheim\",\"Tsukuba\",\"Tunis\",\"T\\u00fcbingen\",\"Uppsala\",\"Urbana, IL\",\"Utrecht\",\"Vancouver\",\"Vienna\",\"Waltham MA\",\"Washington, DC\",\"Waterloo\",\"West Lafayette, IN\",\"Weston Creek\",\"Wilmington, DE\",\"Woods Hole, MA\",\"Worcester, MA\",\"W\\u00fcrzburg\",\"Yorktown Heights, NY\",\"Zurich\",\"Argentina\",\"Australia\",\"Austria\",\"Belgium\",\"Canada\",\"China\",\"Czech Republic\",\"Denmark\",\"Finland\",\"France\",\"Germany\",\"Hungary\",\"India\",\"Ireland\",\"Israel\",\"Italy\",\"Japan\",\"Netherlands\",\"Norway\",\"Not Available\",\"Portugal\",\"Russia\",\"Spain\",\"Sweden\",\"Switzerland\",\"Tunisia\",\"United Kingdom\",\"United States of America\"],\"name\":\"\",\"parents\":[\"Russia/St. Petersburg\",\"Denmark/Aarhus\",\"Russia/Moscow\",\"Not Available/Not Available\",\"Not Available/Not Available\",\"Netherlands/Amsterdam\",\"United States of America/Argonne, IL\",\"United States of America/Tempe, AZ\",\"Japan/Tokyo\",\"United States of America/Washington, DC\",\"United Kingdom/Harwell, Berkshire\",\"Not Available/Not Available\",\"Australia/Canberra\",\"Australia/Weston Creek\",\"Switzerland/Basel\",\"Switzerland/Basel\",\"United States of America/Holmdel, NJ\",\"United States of America/Murray Hill, NJ\",\"United States of America/New York, NY\",\"Germany/Berlin\",\"Switzerland/Berne\",\"United States of America/New York, NY\",\"Switzerland/Basel\",\"United Kingdom/Birmingham\",\"United States of America/Waltham MA\",\"United States of America/Boston, MA\",\"United Kingdom/Bristol\",\"United States of America/Providence, RI\",\"Belgium/Brussels\",\"France/S\\u00e8vres\",\"Not Available/Not Available\",\"Switzerland/Geneva\",\"India/Calcutta\",\"Not Available/Not Available\",\"United States of America/Pasadena, CA\",\"United Kingdom/Cardiff\",\"United States of America/New York, NY\",\"United States of America/Pittsburgh, PA\",\"United States of America/Fairfax, VA\",\"United Kingdom/London\",\"United States of America/Boston, MA\",\"China/Beijing\",\"United States of America/New York, NY\",\"United States of America/Cold Spring Harbor, NY\",\"France/Paris\",\"Germany/Cologne\",\"United States of America/New York, NY\",\"Not Available/Not Available\",\"Not Available/Not Available\",\"Denmark/Copenhagen\",\"United States of America/Ithaca, NY\",\"United Kingdom/London\",\"United States of America/Mountain View, CA\",\"United States of America/Madison, NJ\",\"United States of America/Wilmington, DE\",\"United Kingdom/Edinburgh\",\"Switzerland/Zurich\",\"Not Available/Not Available\",\"United States of America/Batavia, IL\",\"Denmark/Copenhagen\",\"Germany/J&uuml;lich\",\"United Kingdom/Hertfordshire\",\"Germany/Frankfurt-on-the-Main\",\"United States of America/Seattle, WA\",\"Not Available/Not Available\",\"Germany/Berlin-Dahlem\",\"Germany/Berlin\",\"United States of America/Schenectady, NY\",\"United States of America/Fairfax, VA\",\"Germany/Heidelberg\",\"Belgium/Ghent\",\"United Kingdom/Bodmin\",\"Germany/G\\u00f6ttingen\",\"Not Available/Not Available\",\"Austria/Graz\",\"Germany/Greifswald\",\"Netherlands/Groningen\",\"United Kingdom/Cambridge\",\"Sweden/Gothenburg\",\"Germany/Halle\",\"United States of America/Boston, MA\",\"United States of America/Cambridge, MA\",\"Not Available/Not Available\",\"Japan/Tsukuba\",\"Japan/Sapporo\",\"United States of America/Chevy Chase\",\"United States of America/Durham, NC\",\"United States of America/Yorktown Heights, NY\",\"Switzerland/R\\u00fcschlikon\",\"United Kingdom/London\",\"United Kingdom/London\",\"United States of America/Bloomington, IN\",\"Austria/Innsbruck\",\"France/Rueil-Malmaison\",\"France/Paris\",\"Tunisia/Tunis\",\"Not Available/Not Available\",\"France/Paris\",\"United States of America/Princeton, NJ\",\"Argentina/Buenos Aires\",\"Russia/Moscow\",\"Germany/Berlin\",\"Italy/Rome\",\"United Kingdom/Cambridge\",\"Italy/Milan\",\"Argentina/Buenos Aires\",\"Not Available/Not Available\",\"Not Available/Not Available\",\"Not Available/Not Available\",\"Not Available/Not Available\",\"Italy/Trieste\",\"Not Available/Not Available\",\"Not Available/Not Available\",\"Italy/Rome\",\"United States of America/Bar Harbor, ME\",\"United States of America/Ashburn, VA\",\"United States of America/Baltimore, MD\",\"Sweden/Stockholm\",\"Germany/Kiel\",\"Japan/Tokyo\",\"Austria/Altenberg; Gr\\u00fcnau im Almtal\",\"Japan/Kyoto\",\"Japan/Kyoto\",\"Not Available/Not Available\",\"United States of America/New York, NY\",\"Switzerland/Basel\",\"Germany/Berlin\",\"United States of America/Berkeley, CA\",\"Not Available/Not Available\",\"Netherlands/Leiden\",\"Germany/Leipzig\",\"Not Available/Not Available\",\"United Kingdom/Liverpool\",\"United Kingdom/London\",\"United Kingdom/London\",\"United States of America/Greenwich, CT\",\"United Kingdom/Cambridge\",\"Spain/Madrid\",\"Germany/Mainz\",\"Germany/Marburg\",\"United Kingdom/London\",\"United States of America/Woods Hole, MA\",\"United States of America/Cambridge, MA\",\"Germany/Berlin\",\"Germany/Berlin-Dahlem\",\"Germany/Heidelberg\",\"Germany/Berlin\",\"Germany/Frankfurt-on-the-Main\",\"Germany/Garching\",\"Germany/G\\u00f6ttingen\",\"Germany/Heidelberg\",\"Germany/Mainz\",\"Germany/Martinsried\",\"Germany/Munich\",\"Germany/M\\u00fclheim/Ruhr\",\"Germany/Stuttgart\",\"Germany/T\\u00fcbingen\",\"United States of America/Rochester, MN\",\"Canada/Hamilton, Ontario\",\"Japan/Nagoya\",\"Russia/St. Petersburg\",\"Not Available/Not Available\",\"Germany/Munich\",\"Germany/Munster\",\"Not Available/Not Available\",\"United States of America/Greenbelt, MD\",\"Australia/Nedlands\",\"Japan/Nagoya\",\"France/Nancy\",\"Not Available/Not Available\",\"United Kingdom/London\",\"United States of America/Research Triangle Park, NC\",\"United States of America/Boulder, CO\",\"United States of America/Gaithersburg, MD\",\"United States of America/Bethesda, MD\",\"Canada/Ottawa\",\"United States of America/Beverly, MA\",\"United States of America/New York, NY\",\"Denmark/Copenhagen\",\"Denmark/Copenhagen\",\"United States of America/Evanston, IL\",\"Norway/Trondheim\",\"Netherlands/Bilthoven\",\"United States of America/La Jolla, CA\",\"Not Available/Not Available\",\"Australia/Perth\",\"United States of America/St. Louis, MO\",\"Not Available/Not Available\",\"Not Available/Not Available\",\"Not Available/Not Available\",\"Russia/Moscow\",\"United States of America/San Francisco, CA\",\"Italy/Pavia\",\"Czech Republic/Prague\",\"Denmark/Copenhagen\",\"United States of America/Princeton, NJ\",\"Not Available/Not Available\",\"United States of America/West Lafayette, IN\",\"Canada/Kingston\",\"Germany/Bonn\",\"United States of America/Houston, TX\",\"United States of America/New York, NY\",\"United States of America/Princeton, NJ\",\"United States of America/New York, NY\",\"Italy/Rome\",\"United Kingdom/Bucksburn (Scotland)\",\"Sweden/Stockholm\",\"United Kingdom/London\",\"United States of America/New Brunswick, NJ\",\"United States of America/New York, NY\",\"United States of America/St. Louis, MO\",\"United States of America/Mountain View, CA\",\"United Kingdom/Sheffield\",\"Japan/Kyoto\",\"Not Available/Not Available\",\"France/Paris\",\"United States of America/Memphis, TN\",\"United Kingdom/Harlow\",\"United States of America/Stanford, CA\",\"United States of America/Stanford, CA\",\"Sweden/Stockholm\",\"Sweden/Stockholm\",\"France/Strasbourg\",\"Sweden/Liding\\u00f6-Stockholm\",\"Hungary/Szeged\",\"Germany/Munich\",\"Israel/Haifa\",\"Germany/Munich\",\"United States of America/Dallas, TX\",\"Not Available/Not Available\",\"United States of America/Philadelphia, PA\",\"United States of America/Buffalo, NY\",\"United States of America/Berkeley, CA\",\"Netherlands/Rotterdam\",\"United States of America/San Diego, CA\",\"United States of America/La Jolla, CA\",\"United Kingdom/Beckenham\",\"United Kingdom/Cambridge\",\"Japan/Tokyo\",\"Japan/Tokyo\",\"France/Toulouse\",\"France/Toulouse\",\"Ireland/Dublin\",\"United States of America/Medford, MA\",\"United States of America/Washington, DC\",\"Not Available/Not Available\",\"Not Available/Not Available\",\"Not Available/Not Available\",\"United Kingdom/Liverpool\",\"United Kingdom/London\",\"Canada/Edmonton\",\"Germany/Bonn\",\"Canada/Vancouver\",\"United States of America/Berkeley, CA\",\"United States of America/Irvine, CA\",\"United States of America/Los Angeles, CA\",\"United States of America/San Diego, CA\",\"United States of America/San Francisco, CA\",\"United States of America/Santa Barbara, CA\",\"United Kingdom/Cambridge\",\"United States of America/Chicago, IL\",\"United States of America/Boulder, CO\",\"Not Available/Not Available\",\"United Kingdom/Edinburgh\",\"Germany/Breisgau\",\"Switzerland/Geneva\",\"France/Grenoble\",\"Netherlands/Groningen\",\"Germany/Heidelberg\",\"Finland/Helsinki\",\"United States of America/Urbana, IL\",\"Israel/Jerusalem\",\"Switzerland/Lausanne\",\"Portugal/Lisbon\",\"United States of America/Maine ME\",\"United Kingdom/Manchester\",\"United States of America/College Park, MD\",\"United States of America/Worcester, MA\",\"United States of America/Minneapolis, MN\",\"United States of America/Columbia\",\"Russia/Moscow\",\"United States of America/Chapel Hill, NC\",\"United Kingdom/Nottingham\",\"Norway/Oslo\",\"United Kingdom/Oxford\",\"United States of America/Philadelphia, PA\",\"United States of America/Rochester, NY\",\"United States of America/Los Angeles, CA\",\"France/Strasbourg\",\"United Kingdom/Brighton\",\"United States of America/Austin TX\",\"United States of America/Houston, TX\",\"United States of America/Dallas, TX\",\"Japan/Kashiwa\",\"Japan/Tokyo\",\"Canada/Toronto\",\"Japan/Tokyo\",\"United States of America/Salt Lake City, UT\",\"United States of America/Seattle, WA\",\"Canada/Waterloo\",\"United States of America/Madison, WI\",\"Switzerland/Zurich\",\"Belgium/Louvain\",\"Belgium/Brussels\",\"France/Strasbourg\",\"France/Orsay\",\"France/Paris\",\"France/Strasbourg\",\"Sweden/Uppsala\",\"Netherlands/Utrecht\",\"United States of America/Nashville, TN\",\"United States of America/New Orleans, LA\",\"United States of America/New York, NY\",\"United Kingdom/Manchester\",\"Austria/Vienna\",\"United States of America/Richmond, VA\",\"Australia/Melbourne\",\"United States of America/St. Louis, MO\",\"Israel/Rehovot\",\"United States of America/Research Triangle Park, NC\",\"United States of America/Cleveland, OH\",\"Not Available/Not Available\",\"France/Paris\",\"Germany/W\\u00fcrzburg\",\"United States of America/New Haven, CT\",\"France/Paris\",\"France/Paris\",\"France/Palaiseau\",\"France/Paris\",\"France/Paris\",\"France/Paris\",\"Denmark\",\"Austria\",\"Netherlands\",\"United States of America\",\"United States of America\",\"United States of America\",\"United States of America\",\"United States of America\",\"Switzerland\",\"United States of America\",\"United Kingdom\",\"China\",\"United States of America\",\"Germany\",\"Germany\",\"Switzerland\",\"United States of America\",\"United States of America\",\"Netherlands\",\"United Kingdom\",\"United States of America\",\"United Kingdom\",\"Germany\",\"United States of America\",\"United States of America\",\"Germany\",\"United Kingdom\",\"United Kingdom\",\"Belgium\",\"United Kingdom\",\"Argentina\",\"United States of America\",\"India\",\"United Kingdom\",\"United States of America\",\"Australia\",\"United Kingdom\",\"United States of America\",\"United States of America\",\"United States of America\",\"United States of America\",\"United States of America\",\"United States of America\",\"Germany\",\"United States of America\",\"Denmark\",\"United States of America\",\"Ireland\",\"United States of America\",\"United Kingdom\",\"Canada\",\"United States of America\",\"United States of America\",\"Germany\",\"United States of America\",\"Germany\",\"Switzerland\",\"Belgium\",\"Sweden\",\"Austria\",\"United States of America\",\"United States of America\",\"Germany\",\"France\",\"Netherlands\",\"Germany\",\"Israel\",\"Germany\",\"Canada\",\"United Kingdom\",\"United Kingdom\",\"Germany\",\"Finland\",\"United Kingdom\",\"United States of America\",\"United States of America\",\"Austria\",\"United States of America\",\"United States of America\",\"Germany\",\"Israel\",\"Japan\",\"Germany\",\"Canada\",\"Japan\",\"United States of America\",\"Switzerland\",\"Netherlands\",\"Germany\",\"Sweden\",\"Portugal\",\"United Kingdom\",\"United Kingdom\",\"United States of America\",\"Belgium\",\"United States of America\",\"United States of America\",\"Spain\",\"United States of America\",\"Germany\",\"United Kingdom\",\"Germany\",\"Germany\",\"United States of America\",\"Australia\",\"United States of America\",\"Italy\",\"United States of America\",\"Russia\",\"United States of America\",\"Germany\",\"Germany\",\"United States of America\",\"Germany\",\"Japan\",\"France\",\"United States of America\",\"Australia\",\"United States of America\",\"United States of America\",\"United States of America\",\"United States of America\",\"Not Available\",\"United Kingdom\",\"France\",\"Norway\",\"Canada\",\"United Kingdom\",\"France\",\"France\",\"United States of America\",\"Italy\",\"Australia\",\"United States of America\",\"United States of America\",\"Czech Republic\",\"United States of America\",\"United States of America\",\"Israel\",\"United States of America\",\"United States of America\",\"United States of America\",\"United States of America\",\"Italy\",\"Netherlands\",\"France\",\"Switzerland\",\"United States of America\",\"United States of America\",\"United States of America\",\"United States of America\",\"Japan\",\"United States of America\",\"United States of America\",\"United Kingdom\",\"United States of America\",\"Russia\",\"United States of America\",\"Sweden\",\"France\",\"Germany\",\"Hungary\",\"France\",\"United States of America\",\"Japan\",\"Canada\",\"France\",\"Italy\",\"Norway\",\"Japan\",\"Tunisia\",\"Germany\",\"Sweden\",\"United States of America\",\"Netherlands\",\"Canada\",\"Austria\",\"United States of America\",\"United States of America\",\"Canada\",\"United States of America\",\"Australia\",\"United States of America\",\"United States of America\",\"United States of America\",\"Germany\",\"United States of America\",\"Switzerland\",\"\",\"\",\"\",\"\",\"\",\"\",\"\",\"\",\"\",\"\",\"\",\"\",\"\",\"\",\"\",\"\",\"\",\"\",\"\",\"\",\"\",\"\",\"\",\"\",\"\",\"\",\"\",\"\"],\"values\":[1,1,3,1,1,2,1,1,1,1,1,1,1,1,2,1,3,4,1,6,1,1,1,1,1,1,1,2,1,1,1,3,1,1,16,1,1,3,1,1,1,1,1,1,3,1,16,1,3,3,8,1,1,1,1,2,4,1,1,1,1,1,1,3,1,1,2,2,1,1,1,1,5,1,2,1,1,1,1,1,7,28,1,1,1,1,1,1,4,3,3,2,1,1,6,1,1,2,2,1,1,1,1,1,1,1,1,1,1,1,1,1,1,1,1,1,6,5,3,1,1,1,4,3,1,1,1,1,1,3,2,1,1,1,7,1,10,1,1,1,1,1,21,1,3,1,1,1,1,3,1,1,1,1,1,1,1,2,1,1,1,1,5,1,1,1,1,2,1,1,2,1,1,1,5,1,1,4,1,1,3,2,1,1,219,1,1,1,2,1,4,1,1,1,1,15,1,2,1,1,2,4,2,13,1,1,1,2,1,1,1,1,1,1,1,6,1,1,1,23,1,3,1,1,1,2,3,1,1,1,1,1,1,1,1,1,1,1,1,1,1,1,1,1,1,1,1,1,1,6,1,1,1,19,3,6,3,4,5,18,20,4,1,1,2,2,1,1,6,1,4,1,1,1,1,2,1,1,1,1,2,2,1,3,12,4,1,2,2,2,1,1,5,1,1,3,1,1,4,1,3,4,1,2,1,1,1,1,5,2,2,1,1,3,2,1,1,4,1,2,1,1,1,1,9,1,1,1,1,1,1,1,1,2,1,1,1,6,1,5,1,1,1,21,12,4,1,5,1,1,1,2,1,2,9,5,2,2,1,3,1,2,1,1,31,49,1,1,2,1,20,1,1,1,1,1,7,6,1,1,3,1,3,2,2,1,1,5,1,1,2,1,1,1,1,2,8,3,1,1,1,1,9,1,1,3,3,1,3,8,1,1,1,3,1,6,2,1,3,2,1,1,2,27,8,1,1,3,1,1,2,5,1,1,1,1,1,1,1,10,2,9,1,4,1,3,1,2,1,1,9,1,44,259,1,1,3,1,12,1,24,16,1,1,5,3,1,19,2,1,3,1,2,1,3,1,1,4,1,4,5,5,1,2,7,1,6,2,24,10,5,1,1,1,1,6,3,2,1,2,1,1,1,5,4,2,1,2,1,2,1,2,1,1,1,1,1,1,8,2,5,6,5,9,1,1,8,1,37,67,1,1,1,5,6,18,11,5,259,1,12,1,17,24,1,93,364],\"type\":\"sunburst\"}],                        {\"template\":{\"data\":{\"histogram2dcontour\":[{\"type\":\"histogram2dcontour\",\"colorbar\":{\"outlinewidth\":0,\"ticks\":\"\"},\"colorscale\":[[0.0,\"#0d0887\"],[0.1111111111111111,\"#46039f\"],[0.2222222222222222,\"#7201a8\"],[0.3333333333333333,\"#9c179e\"],[0.4444444444444444,\"#bd3786\"],[0.5555555555555556,\"#d8576b\"],[0.6666666666666666,\"#ed7953\"],[0.7777777777777778,\"#fb9f3a\"],[0.8888888888888888,\"#fdca26\"],[1.0,\"#f0f921\"]]}],\"choropleth\":[{\"type\":\"choropleth\",\"colorbar\":{\"outlinewidth\":0,\"ticks\":\"\"}}],\"histogram2d\":[{\"type\":\"histogram2d\",\"colorbar\":{\"outlinewidth\":0,\"ticks\":\"\"},\"colorscale\":[[0.0,\"#0d0887\"],[0.1111111111111111,\"#46039f\"],[0.2222222222222222,\"#7201a8\"],[0.3333333333333333,\"#9c179e\"],[0.4444444444444444,\"#bd3786\"],[0.5555555555555556,\"#d8576b\"],[0.6666666666666666,\"#ed7953\"],[0.7777777777777778,\"#fb9f3a\"],[0.8888888888888888,\"#fdca26\"],[1.0,\"#f0f921\"]]}],\"heatmap\":[{\"type\":\"heatmap\",\"colorbar\":{\"outlinewidth\":0,\"ticks\":\"\"},\"colorscale\":[[0.0,\"#0d0887\"],[0.1111111111111111,\"#46039f\"],[0.2222222222222222,\"#7201a8\"],[0.3333333333333333,\"#9c179e\"],[0.4444444444444444,\"#bd3786\"],[0.5555555555555556,\"#d8576b\"],[0.6666666666666666,\"#ed7953\"],[0.7777777777777778,\"#fb9f3a\"],[0.8888888888888888,\"#fdca26\"],[1.0,\"#f0f921\"]]}],\"heatmapgl\":[{\"type\":\"heatmapgl\",\"colorbar\":{\"outlinewidth\":0,\"ticks\":\"\"},\"colorscale\":[[0.0,\"#0d0887\"],[0.1111111111111111,\"#46039f\"],[0.2222222222222222,\"#7201a8\"],[0.3333333333333333,\"#9c179e\"],[0.4444444444444444,\"#bd3786\"],[0.5555555555555556,\"#d8576b\"],[0.6666666666666666,\"#ed7953\"],[0.7777777777777778,\"#fb9f3a\"],[0.8888888888888888,\"#fdca26\"],[1.0,\"#f0f921\"]]}],\"contourcarpet\":[{\"type\":\"contourcarpet\",\"colorbar\":{\"outlinewidth\":0,\"ticks\":\"\"}}],\"contour\":[{\"type\":\"contour\",\"colorbar\":{\"outlinewidth\":0,\"ticks\":\"\"},\"colorscale\":[[0.0,\"#0d0887\"],[0.1111111111111111,\"#46039f\"],[0.2222222222222222,\"#7201a8\"],[0.3333333333333333,\"#9c179e\"],[0.4444444444444444,\"#bd3786\"],[0.5555555555555556,\"#d8576b\"],[0.6666666666666666,\"#ed7953\"],[0.7777777777777778,\"#fb9f3a\"],[0.8888888888888888,\"#fdca26\"],[1.0,\"#f0f921\"]]}],\"surface\":[{\"type\":\"surface\",\"colorbar\":{\"outlinewidth\":0,\"ticks\":\"\"},\"colorscale\":[[0.0,\"#0d0887\"],[0.1111111111111111,\"#46039f\"],[0.2222222222222222,\"#7201a8\"],[0.3333333333333333,\"#9c179e\"],[0.4444444444444444,\"#bd3786\"],[0.5555555555555556,\"#d8576b\"],[0.6666666666666666,\"#ed7953\"],[0.7777777777777778,\"#fb9f3a\"],[0.8888888888888888,\"#fdca26\"],[1.0,\"#f0f921\"]]}],\"mesh3d\":[{\"type\":\"mesh3d\",\"colorbar\":{\"outlinewidth\":0,\"ticks\":\"\"}}],\"scatter\":[{\"fillpattern\":{\"fillmode\":\"overlay\",\"size\":10,\"solidity\":0.2},\"type\":\"scatter\"}],\"parcoords\":[{\"type\":\"parcoords\",\"line\":{\"colorbar\":{\"outlinewidth\":0,\"ticks\":\"\"}}}],\"scatterpolargl\":[{\"type\":\"scatterpolargl\",\"marker\":{\"colorbar\":{\"outlinewidth\":0,\"ticks\":\"\"}}}],\"bar\":[{\"error_x\":{\"color\":\"#2a3f5f\"},\"error_y\":{\"color\":\"#2a3f5f\"},\"marker\":{\"line\":{\"color\":\"#E5ECF6\",\"width\":0.5},\"pattern\":{\"fillmode\":\"overlay\",\"size\":10,\"solidity\":0.2}},\"type\":\"bar\"}],\"scattergeo\":[{\"type\":\"scattergeo\",\"marker\":{\"colorbar\":{\"outlinewidth\":0,\"ticks\":\"\"}}}],\"scatterpolar\":[{\"type\":\"scatterpolar\",\"marker\":{\"colorbar\":{\"outlinewidth\":0,\"ticks\":\"\"}}}],\"histogram\":[{\"marker\":{\"pattern\":{\"fillmode\":\"overlay\",\"size\":10,\"solidity\":0.2}},\"type\":\"histogram\"}],\"scattergl\":[{\"type\":\"scattergl\",\"marker\":{\"colorbar\":{\"outlinewidth\":0,\"ticks\":\"\"}}}],\"scatter3d\":[{\"type\":\"scatter3d\",\"line\":{\"colorbar\":{\"outlinewidth\":0,\"ticks\":\"\"}},\"marker\":{\"colorbar\":{\"outlinewidth\":0,\"ticks\":\"\"}}}],\"scattermapbox\":[{\"type\":\"scattermapbox\",\"marker\":{\"colorbar\":{\"outlinewidth\":0,\"ticks\":\"\"}}}],\"scatterternary\":[{\"type\":\"scatterternary\",\"marker\":{\"colorbar\":{\"outlinewidth\":0,\"ticks\":\"\"}}}],\"scattercarpet\":[{\"type\":\"scattercarpet\",\"marker\":{\"colorbar\":{\"outlinewidth\":0,\"ticks\":\"\"}}}],\"carpet\":[{\"aaxis\":{\"endlinecolor\":\"#2a3f5f\",\"gridcolor\":\"white\",\"linecolor\":\"white\",\"minorgridcolor\":\"white\",\"startlinecolor\":\"#2a3f5f\"},\"baxis\":{\"endlinecolor\":\"#2a3f5f\",\"gridcolor\":\"white\",\"linecolor\":\"white\",\"minorgridcolor\":\"white\",\"startlinecolor\":\"#2a3f5f\"},\"type\":\"carpet\"}],\"table\":[{\"cells\":{\"fill\":{\"color\":\"#EBF0F8\"},\"line\":{\"color\":\"white\"}},\"header\":{\"fill\":{\"color\":\"#C8D4E3\"},\"line\":{\"color\":\"white\"}},\"type\":\"table\"}],\"barpolar\":[{\"marker\":{\"line\":{\"color\":\"#E5ECF6\",\"width\":0.5},\"pattern\":{\"fillmode\":\"overlay\",\"size\":10,\"solidity\":0.2}},\"type\":\"barpolar\"}],\"pie\":[{\"automargin\":true,\"type\":\"pie\"}]},\"layout\":{\"autotypenumbers\":\"strict\",\"colorway\":[\"#636efa\",\"#EF553B\",\"#00cc96\",\"#ab63fa\",\"#FFA15A\",\"#19d3f3\",\"#FF6692\",\"#B6E880\",\"#FF97FF\",\"#FECB52\"],\"font\":{\"color\":\"#2a3f5f\"},\"hovermode\":\"closest\",\"hoverlabel\":{\"align\":\"left\"},\"paper_bgcolor\":\"white\",\"plot_bgcolor\":\"#E5ECF6\",\"polar\":{\"bgcolor\":\"#E5ECF6\",\"angularaxis\":{\"gridcolor\":\"white\",\"linecolor\":\"white\",\"ticks\":\"\"},\"radialaxis\":{\"gridcolor\":\"white\",\"linecolor\":\"white\",\"ticks\":\"\"}},\"ternary\":{\"bgcolor\":\"#E5ECF6\",\"aaxis\":{\"gridcolor\":\"white\",\"linecolor\":\"white\",\"ticks\":\"\"},\"baxis\":{\"gridcolor\":\"white\",\"linecolor\":\"white\",\"ticks\":\"\"},\"caxis\":{\"gridcolor\":\"white\",\"linecolor\":\"white\",\"ticks\":\"\"}},\"coloraxis\":{\"colorbar\":{\"outlinewidth\":0,\"ticks\":\"\"}},\"colorscale\":{\"sequential\":[[0.0,\"#0d0887\"],[0.1111111111111111,\"#46039f\"],[0.2222222222222222,\"#7201a8\"],[0.3333333333333333,\"#9c179e\"],[0.4444444444444444,\"#bd3786\"],[0.5555555555555556,\"#d8576b\"],[0.6666666666666666,\"#ed7953\"],[0.7777777777777778,\"#fb9f3a\"],[0.8888888888888888,\"#fdca26\"],[1.0,\"#f0f921\"]],\"sequentialminus\":[[0.0,\"#0d0887\"],[0.1111111111111111,\"#46039f\"],[0.2222222222222222,\"#7201a8\"],[0.3333333333333333,\"#9c179e\"],[0.4444444444444444,\"#bd3786\"],[0.5555555555555556,\"#d8576b\"],[0.6666666666666666,\"#ed7953\"],[0.7777777777777778,\"#fb9f3a\"],[0.8888888888888888,\"#fdca26\"],[1.0,\"#f0f921\"]],\"diverging\":[[0,\"#8e0152\"],[0.1,\"#c51b7d\"],[0.2,\"#de77ae\"],[0.3,\"#f1b6da\"],[0.4,\"#fde0ef\"],[0.5,\"#f7f7f7\"],[0.6,\"#e6f5d0\"],[0.7,\"#b8e186\"],[0.8,\"#7fbc41\"],[0.9,\"#4d9221\"],[1,\"#276419\"]]},\"xaxis\":{\"gridcolor\":\"white\",\"linecolor\":\"white\",\"ticks\":\"\",\"title\":{\"standoff\":15},\"zerolinecolor\":\"white\",\"automargin\":true,\"zerolinewidth\":2},\"yaxis\":{\"gridcolor\":\"white\",\"linecolor\":\"white\",\"ticks\":\"\",\"title\":{\"standoff\":15},\"zerolinecolor\":\"white\",\"automargin\":true,\"zerolinewidth\":2},\"scene\":{\"xaxis\":{\"backgroundcolor\":\"#E5ECF6\",\"gridcolor\":\"white\",\"linecolor\":\"white\",\"showbackground\":true,\"ticks\":\"\",\"zerolinecolor\":\"white\",\"gridwidth\":2},\"yaxis\":{\"backgroundcolor\":\"#E5ECF6\",\"gridcolor\":\"white\",\"linecolor\":\"white\",\"showbackground\":true,\"ticks\":\"\",\"zerolinecolor\":\"white\",\"gridwidth\":2},\"zaxis\":{\"backgroundcolor\":\"#E5ECF6\",\"gridcolor\":\"white\",\"linecolor\":\"white\",\"showbackground\":true,\"ticks\":\"\",\"zerolinecolor\":\"white\",\"gridwidth\":2}},\"shapedefaults\":{\"line\":{\"color\":\"#2a3f5f\"}},\"annotationdefaults\":{\"arrowcolor\":\"#2a3f5f\",\"arrowhead\":0,\"arrowwidth\":1},\"geo\":{\"bgcolor\":\"white\",\"landcolor\":\"#E5ECF6\",\"subunitcolor\":\"white\",\"showland\":true,\"showlakes\":true,\"lakecolor\":\"white\"},\"title\":{\"x\":0.05},\"mapbox\":{\"style\":\"light\"}}},\"legend\":{\"tracegroupgap\":0},\"title\":{\"text\":\"Where do Discoveries Take Place?\"},\"coloraxis\":{\"showscale\":false},\"xaxis\":{\"title\":{\"text\":\"Number of Prizes\"}},\"yaxis\":{\"title\":{\"text\":\"City\"}}},                        {\"responsive\": true}                    ).then(function(){\n",
       "                            \n",
       "var gd = document.getElementById('dbf6488d-b380-4f2c-9d04-d6de382309d6');\n",
       "var x = new MutationObserver(function (mutations, observer) {{\n",
       "        var display = window.getComputedStyle(gd).display;\n",
       "        if (!display || display === 'none') {{\n",
       "            console.log([gd, 'removed!']);\n",
       "            Plotly.purge(gd);\n",
       "            observer.disconnect();\n",
       "        }}\n",
       "}});\n",
       "\n",
       "// Listen for the removal of the full notebook cells\n",
       "var notebookContainer = gd.closest('#notebook-container');\n",
       "if (notebookContainer) {{\n",
       "    x.observe(notebookContainer, {childList: true});\n",
       "}}\n",
       "\n",
       "// Listen for the clearing of the current output cell\n",
       "var outputEl = gd.closest('.output');\n",
       "if (outputEl) {{\n",
       "    x.observe(outputEl, {childList: true});\n",
       "}}\n",
       "\n",
       "                        })                };                });            </script>        </div>"
      ]
     },
     "metadata": {},
     "output_type": "display_data"
    }
   ],
   "source": [
    "country_city_org = df.groupby(by=['organization_country', \n",
    "                                       'organization_city', \n",
    "                                       'organization_name'], as_index=False).agg({'prize': pd.Series.count})\n",
    " \n",
    "country_city_org = country_city_org.sort_values('prize', ascending=False)\n",
    "burst = px.sunburst(country_city_org, \n",
    "                    path=['organization_country', 'organization_city', 'organization_name'], \n",
    "                    values='prize',\n",
    "                    title='Where do Discoveries Take Place?',\n",
    "                   )\n",
    " \n",
    "burst.update_layout(xaxis_title='Number of Prizes', \n",
    "                    yaxis_title='City',\n",
    "                    coloraxis_showscale=False)\n",
    " \n",
    "burst.show()"
   ]
  },
  {
   "cell_type": "code",
   "execution_count": null,
   "metadata": {},
   "outputs": [],
   "source": []
  }
 ],
 "metadata": {
  "kernelspec": {
   "display_name": "Python 3",
   "language": "python",
   "name": "python3"
  },
  "language_info": {
   "codemirror_mode": {
    "name": "ipython",
    "version": 3
   },
   "file_extension": ".py",
   "mimetype": "text/x-python",
   "name": "python",
   "nbconvert_exporter": "python",
   "pygments_lexer": "ipython3",
   "version": "3.6.8"
  }
 },
 "nbformat": 4,
 "nbformat_minor": 2
}
